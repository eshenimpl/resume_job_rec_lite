{
 "cells": [
  {
   "cell_type": "markdown",
   "id": "ad89ec15",
   "metadata": {},
   "source": [
    "### Read data"
   ]
  },
  {
   "cell_type": "code",
   "execution_count": 1,
   "id": "0582bf89",
   "metadata": {},
   "outputs": [],
   "source": [
    "import pandas as pd\n",
    "import re"
   ]
  },
  {
   "cell_type": "code",
   "execution_count": 35,
   "id": "8a2ceadc",
   "metadata": {},
   "outputs": [],
   "source": [
    "resume_df = pd.read_csv('./data/cs_resume_data.csv',encoding='utf-8')"
   ]
  },
  {
   "cell_type": "code",
   "execution_count": 36,
   "id": "56fb3616",
   "metadata": {},
   "outputs": [],
   "source": [
    "resume_df.reset_index(inplace=True)"
   ]
  },
  {
   "cell_type": "markdown",
   "id": "45f5e058",
   "metadata": {},
   "source": [
    "### Split multiple labels"
   ]
  },
  {
   "cell_type": "code",
   "execution_count": 37,
   "id": "f5fa6c5a",
   "metadata": {},
   "outputs": [],
   "source": [
    "resume_df[['Label_1','Label_2','Label_3','Label_4','Label_5','Label_6','Label_7']] = resume_df['Label'].str.split(',',expand=True)"
   ]
  },
  {
   "cell_type": "code",
   "execution_count": 38,
   "id": "b06fcb82",
   "metadata": {
    "scrolled": true
   },
   "outputs": [
    {
     "data": {
      "text/html": [
       "<div>\n",
       "<style scoped>\n",
       "    .dataframe tbody tr th:only-of-type {\n",
       "        vertical-align: middle;\n",
       "    }\n",
       "\n",
       "    .dataframe tbody tr th {\n",
       "        vertical-align: top;\n",
       "    }\n",
       "\n",
       "    .dataframe thead th {\n",
       "        text-align: right;\n",
       "    }\n",
       "</style>\n",
       "<table border=\"1\" class=\"dataframe\">\n",
       "  <thead>\n",
       "    <tr style=\"text-align: right;\">\n",
       "      <th></th>\n",
       "      <th>index</th>\n",
       "      <th>Resume</th>\n",
       "      <th>Label</th>\n",
       "      <th>Label_1</th>\n",
       "      <th>Label_2</th>\n",
       "      <th>Label_3</th>\n",
       "      <th>Label_4</th>\n",
       "      <th>Label_5</th>\n",
       "      <th>Label_6</th>\n",
       "      <th>Label_7</th>\n",
       "    </tr>\n",
       "  </thead>\n",
       "  <tbody>\n",
       "    <tr>\n",
       "      <th>0</th>\n",
       "      <td>0</td>\n",
       "      <td>Database Administrator Database Administrator ...</td>\n",
       "      <td>Database_Administrator</td>\n",
       "      <td>Database_Administrator</td>\n",
       "      <td>None</td>\n",
       "      <td>None</td>\n",
       "      <td>None</td>\n",
       "      <td>None</td>\n",
       "      <td>None</td>\n",
       "      <td>None</td>\n",
       "    </tr>\n",
       "    <tr>\n",
       "      <th>1</th>\n",
       "      <td>1</td>\n",
       "      <td>Database Administrator Database Administrator ...</td>\n",
       "      <td>Database_Administrator</td>\n",
       "      <td>Database_Administrator</td>\n",
       "      <td>None</td>\n",
       "      <td>None</td>\n",
       "      <td>None</td>\n",
       "      <td>None</td>\n",
       "      <td>None</td>\n",
       "      <td>None</td>\n",
       "    </tr>\n",
       "    <tr>\n",
       "      <th>2</th>\n",
       "      <td>2</td>\n",
       "      <td>Oracle Database Administrator Oracle Database ...</td>\n",
       "      <td>Database_Administrator</td>\n",
       "      <td>Database_Administrator</td>\n",
       "      <td>None</td>\n",
       "      <td>None</td>\n",
       "      <td>None</td>\n",
       "      <td>None</td>\n",
       "      <td>None</td>\n",
       "      <td>None</td>\n",
       "    </tr>\n",
       "    <tr>\n",
       "      <th>3</th>\n",
       "      <td>3</td>\n",
       "      <td>Amazon Redshift Administrator and ETL Develope...</td>\n",
       "      <td>Database_Administrator</td>\n",
       "      <td>Database_Administrator</td>\n",
       "      <td>None</td>\n",
       "      <td>None</td>\n",
       "      <td>None</td>\n",
       "      <td>None</td>\n",
       "      <td>None</td>\n",
       "      <td>None</td>\n",
       "    </tr>\n",
       "    <tr>\n",
       "      <th>4</th>\n",
       "      <td>4</td>\n",
       "      <td>Scrum Master Scrum Master Scrum Master Richmon...</td>\n",
       "      <td>Database_Administrator</td>\n",
       "      <td>Database_Administrator</td>\n",
       "      <td>None</td>\n",
       "      <td>None</td>\n",
       "      <td>None</td>\n",
       "      <td>None</td>\n",
       "      <td>None</td>\n",
       "      <td>None</td>\n",
       "    </tr>\n",
       "    <tr>\n",
       "      <th>...</th>\n",
       "      <td>...</td>\n",
       "      <td>...</td>\n",
       "      <td>...</td>\n",
       "      <td>...</td>\n",
       "      <td>...</td>\n",
       "      <td>...</td>\n",
       "      <td>...</td>\n",
       "      <td>...</td>\n",
       "      <td>...</td>\n",
       "      <td>...</td>\n",
       "    </tr>\n",
       "    <tr>\n",
       "      <th>29778</th>\n",
       "      <td>29778</td>\n",
       "      <td>ServiceNow Developer ServiceNow Developer Serv...</td>\n",
       "      <td>Java_Developer,Web_Developer,Software_Developer</td>\n",
       "      <td>Java_Developer</td>\n",
       "      <td>Web_Developer</td>\n",
       "      <td>Software_Developer</td>\n",
       "      <td>None</td>\n",
       "      <td>None</td>\n",
       "      <td>None</td>\n",
       "      <td>None</td>\n",
       "    </tr>\n",
       "    <tr>\n",
       "      <th>29779</th>\n",
       "      <td>29779</td>\n",
       "      <td>Android Developer Android Developer Android De...</td>\n",
       "      <td>Web_Developer,Software_Developer</td>\n",
       "      <td>Web_Developer</td>\n",
       "      <td>Software_Developer</td>\n",
       "      <td>None</td>\n",
       "      <td>None</td>\n",
       "      <td>None</td>\n",
       "      <td>None</td>\n",
       "      <td>None</td>\n",
       "    </tr>\n",
       "    <tr>\n",
       "      <th>29780</th>\n",
       "      <td>29780</td>\n",
       "      <td>UI Developer UI Developer UI Developer - Cotiv...</td>\n",
       "      <td>Software_Developer,Front_End_Developer,Web_Dev...</td>\n",
       "      <td>Software_Developer</td>\n",
       "      <td>Front_End_Developer</td>\n",
       "      <td>Web_Developer</td>\n",
       "      <td>None</td>\n",
       "      <td>None</td>\n",
       "      <td>None</td>\n",
       "      <td>None</td>\n",
       "    </tr>\n",
       "    <tr>\n",
       "      <th>29781</th>\n",
       "      <td>29781</td>\n",
       "      <td>Web Developer Web Developer Los Angeles, CA Wo...</td>\n",
       "      <td>Web_Developer,Software_Developer</td>\n",
       "      <td>Web_Developer</td>\n",
       "      <td>Software_Developer</td>\n",
       "      <td>None</td>\n",
       "      <td>None</td>\n",
       "      <td>None</td>\n",
       "      <td>None</td>\n",
       "      <td>None</td>\n",
       "    </tr>\n",
       "    <tr>\n",
       "      <th>29782</th>\n",
       "      <td>29782</td>\n",
       "      <td>Sr. Software Engineer Sr. Software Engineer Sr...</td>\n",
       "      <td>Software_Developer,Web_Developer</td>\n",
       "      <td>Software_Developer</td>\n",
       "      <td>Web_Developer</td>\n",
       "      <td>None</td>\n",
       "      <td>None</td>\n",
       "      <td>None</td>\n",
       "      <td>None</td>\n",
       "      <td>None</td>\n",
       "    </tr>\n",
       "  </tbody>\n",
       "</table>\n",
       "<p>29033 rows × 10 columns</p>\n",
       "</div>"
      ],
      "text/plain": [
       "       index                                             Resume  \\\n",
       "0          0  Database Administrator Database Administrator ...   \n",
       "1          1  Database Administrator Database Administrator ...   \n",
       "2          2  Oracle Database Administrator Oracle Database ...   \n",
       "3          3  Amazon Redshift Administrator and ETL Develope...   \n",
       "4          4  Scrum Master Scrum Master Scrum Master Richmon...   \n",
       "...      ...                                                ...   \n",
       "29778  29778  ServiceNow Developer ServiceNow Developer Serv...   \n",
       "29779  29779  Android Developer Android Developer Android De...   \n",
       "29780  29780  UI Developer UI Developer UI Developer - Cotiv...   \n",
       "29781  29781  Web Developer Web Developer Los Angeles, CA Wo...   \n",
       "29782  29782  Sr. Software Engineer Sr. Software Engineer Sr...   \n",
       "\n",
       "                                                   Label  \\\n",
       "0                                 Database_Administrator   \n",
       "1                                 Database_Administrator   \n",
       "2                                 Database_Administrator   \n",
       "3                                 Database_Administrator   \n",
       "4                                 Database_Administrator   \n",
       "...                                                  ...   \n",
       "29778    Java_Developer,Web_Developer,Software_Developer   \n",
       "29779                   Web_Developer,Software_Developer   \n",
       "29780  Software_Developer,Front_End_Developer,Web_Dev...   \n",
       "29781                   Web_Developer,Software_Developer   \n",
       "29782                   Software_Developer,Web_Developer   \n",
       "\n",
       "                      Label_1              Label_2             Label_3  \\\n",
       "0      Database_Administrator                 None                None   \n",
       "1      Database_Administrator                 None                None   \n",
       "2      Database_Administrator                 None                None   \n",
       "3      Database_Administrator                 None                None   \n",
       "4      Database_Administrator                 None                None   \n",
       "...                       ...                  ...                 ...   \n",
       "29778          Java_Developer        Web_Developer  Software_Developer   \n",
       "29779           Web_Developer   Software_Developer                None   \n",
       "29780      Software_Developer  Front_End_Developer       Web_Developer   \n",
       "29781           Web_Developer   Software_Developer                None   \n",
       "29782      Software_Developer        Web_Developer                None   \n",
       "\n",
       "      Label_4 Label_5 Label_6 Label_7  \n",
       "0        None    None    None    None  \n",
       "1        None    None    None    None  \n",
       "2        None    None    None    None  \n",
       "3        None    None    None    None  \n",
       "4        None    None    None    None  \n",
       "...       ...     ...     ...     ...  \n",
       "29778    None    None    None    None  \n",
       "29779    None    None    None    None  \n",
       "29780    None    None    None    None  \n",
       "29781    None    None    None    None  \n",
       "29782    None    None    None    None  \n",
       "\n",
       "[29033 rows x 10 columns]"
      ]
     },
     "execution_count": 38,
     "metadata": {},
     "output_type": "execute_result"
    }
   ],
   "source": [
    "resume_df = resume_df[resume_df['Resume'].notnull()]\n",
    "resume_df = resume_df.dropna(subset=['Label'])\n",
    "resume_df[resume_df['Label'].str.contains(r'[A-Za-z]+_[A-Za-z]+')]"
   ]
  },
  {
   "cell_type": "markdown",
   "id": "a33c32d0",
   "metadata": {},
   "source": [
    "### Inspect classification distribution for each label column\n",
    "observations:\n",
    "1. The first label classification is comparatively evenly distributed across each subcategory, except that Software_Developer appear more often\n",
    "2. The first label classification has 9 out of 10 total categories of IT job, missing Front_End_Developer which starts to appear from the second label\n",
    "3. All those labeled as Front_End_Developer in the second label classification column are labeled as Software_Developer in their first label classification column\n",
    "4. Starting from the third label classification, only a small fraction of data still own multiple labels, these may be insignificant and resonably ignored "
   ]
  },
  {
   "cell_type": "code",
   "execution_count": 6,
   "id": "36ff1971",
   "metadata": {},
   "outputs": [
    {
     "name": "stdout",
     "output_type": "stream",
     "text": [
      "                  Label_1  Count\n",
      "0  Database_Administrator   2784\n",
      "1          Java_Developer   2418\n",
      "2   Network_Administrator   2260\n",
      "3         Project_manager   3527\n",
      "4        Python_Developer   2311\n",
      "5        Security_Analyst   2259\n",
      "6      Software_Developer   5828\n",
      "7   Systems_Administrator   4181\n",
      "8           Web_Developer   3465\n"
     ]
    }
   ],
   "source": [
    "count_df = resume_df.groupby('Label_1').size().reset_index(name='Count')\n",
    "print(count_df)"
   ]
  },
  {
   "cell_type": "code",
   "execution_count": 114,
   "id": "c949a317",
   "metadata": {
    "scrolled": true
   },
   "outputs": [
    {
     "name": "stdout",
     "output_type": "stream",
     "text": [
      "                  Label_2  Count\n",
      "0  Database_Administrator    340\n",
      "1     Front_End_Developer   2394\n",
      "2          Java_Developer    341\n",
      "3   Network_Administrator   1707\n",
      "4         Project_manager    604\n",
      "5        Python_Developer    344\n",
      "6        Security_Analyst    611\n",
      "7      Software_Developer   8223\n",
      "8   Systems_Administrator   1301\n",
      "9           Web_Developer   1235\n"
     ]
    }
   ],
   "source": [
    "count_df = resume_df.groupby('Label_2').size().reset_index(name='Count')\n",
    "print(count_df)"
   ]
  },
  {
   "cell_type": "code",
   "execution_count": 39,
   "id": "e41c8022",
   "metadata": {},
   "outputs": [
    {
     "name": "stdout",
     "output_type": "stream",
     "text": [
      "              Label_1  Count\n",
      "0  Software_Developer   2394\n"
     ]
    }
   ],
   "source": [
    "Label_2_FED_df = resume_df[resume_df['Label_2'] == 'Front_End_Developer']\n",
    "Label_1_FED_df = Label_2_FED_df.groupby('Label_1').size().reset_index(name='Count')\n",
    "print(Label_1_FED_df)"
   ]
  },
  {
   "cell_type": "code",
   "execution_count": 12,
   "id": "b2b0e470",
   "metadata": {
    "scrolled": true
   },
   "outputs": [
    {
     "name": "stdout",
     "output_type": "stream",
     "text": [
      "                  Label_3  Count\n",
      "0  Database_Administrator    122\n",
      "1     Front_End_Developer   1433\n",
      "2          Java_Developer    369\n",
      "3   Network_Administrator    389\n",
      "4         Project_manager    299\n",
      "5        Python_Developer    138\n",
      "6        Security_Analyst    128\n",
      "7      Software_Developer    903\n",
      "8   Systems_Administrator    385\n",
      "9           Web_Developer   1744\n"
     ]
    }
   ],
   "source": [
    "count_df = resume_df.groupby('Label_3').size().reset_index(name='Count')\n",
    "print(count_df)"
   ]
  },
  {
   "cell_type": "code",
   "execution_count": 13,
   "id": "185ed39d",
   "metadata": {},
   "outputs": [
    {
     "name": "stdout",
     "output_type": "stream",
     "text": [
      "                  Label_4  Count\n",
      "0  Database_Administrator     43\n",
      "1     Front_End_Developer    143\n",
      "2          Java_Developer    120\n",
      "3   Network_Administrator     81\n",
      "4         Project_manager    103\n",
      "5        Python_Developer     40\n",
      "6        Security_Analyst     21\n",
      "7      Software_Developer     53\n",
      "8   Systems_Administrator     81\n",
      "9           Web_Developer    136\n"
     ]
    }
   ],
   "source": [
    "count_df = resume_df.groupby('Label_4').size().reset_index(name='Count')\n",
    "print(count_df)"
   ]
  },
  {
   "cell_type": "code",
   "execution_count": 14,
   "id": "21b3dcd0",
   "metadata": {},
   "outputs": [
    {
     "name": "stdout",
     "output_type": "stream",
     "text": [
      "                  Label_5  Count\n",
      "0  Database_Administrator      9\n",
      "1     Front_End_Developer      5\n",
      "2          Java_Developer      4\n",
      "3   Network_Administrator     18\n",
      "4         Project_manager     16\n",
      "5        Python_Developer      2\n",
      "6        Security_Analyst      3\n",
      "7      Software_Developer      4\n",
      "8   Systems_Administrator     16\n",
      "9           Web_Developer      9\n"
     ]
    }
   ],
   "source": [
    "count_df = resume_df.groupby('Label_5').size().reset_index(name='Count')\n",
    "print(count_df)"
   ]
  },
  {
   "cell_type": "code",
   "execution_count": 15,
   "id": "641536ed",
   "metadata": {},
   "outputs": [
    {
     "name": "stdout",
     "output_type": "stream",
     "text": [
      "                  Label_6  Count\n",
      "0  Database_Administrator      1\n",
      "1     Front_End_Developer      1\n",
      "2   Network_Administrator      2\n",
      "3        Python_Developer      1\n",
      "4      Software_Developer      1\n",
      "5   Systems_Administrator      4\n",
      "6           Web_Developer      4\n"
     ]
    }
   ],
   "source": [
    "count_df = resume_df.groupby('Label_6').size().reset_index(name='Count')\n",
    "print(count_df)"
   ]
  },
  {
   "cell_type": "code",
   "execution_count": 16,
   "id": "4b1a53c2",
   "metadata": {},
   "outputs": [
    {
     "name": "stdout",
     "output_type": "stream",
     "text": [
      "                 Label_7  Count\n",
      "0  Network_Administrator      2\n",
      "1        Project_manager      1\n"
     ]
    }
   ],
   "source": [
    "count_df = resume_df.groupby('Label_7').size().reset_index(name='Count')\n",
    "print(count_df)"
   ]
  },
  {
   "cell_type": "markdown",
   "id": "0eecdbb6",
   "metadata": {},
   "source": [
    "### When Label_2 == Front_End_Developer, replace value in Label_1 with value in Label_2\n",
    "Since: \n",
    "1. Front_End_Developer in Label_2 are all Software_Developer in Label_1;\n",
    "2. Software_Developer has more occurence in Label_1, this replacement action will decrease imbalance\n",
    "3. Label_1 has incomplete subcategories compared to other label columns (missing Front_End_Developer);\n",
    "4. We want to simplify our model training at the start by using one-class classification"
   ]
  },
  {
   "cell_type": "code",
   "execution_count": 40,
   "id": "cdc48741",
   "metadata": {},
   "outputs": [],
   "source": [
    "resume_df.loc[resume_df['Label_2'] == 'Front_End_Developer', 'Label_1'] = resume_df.loc[resume_df['Label_2'] == 'Front_End_Developer', 'Label_2']"
   ]
  },
  {
   "cell_type": "code",
   "execution_count": 41,
   "id": "eaec3329",
   "metadata": {},
   "outputs": [],
   "source": [
    "resume_df = resume_df.drop(['Label','Label_2','Label_3','Label_4','Label_5','Label_6','Label_7'], axis=1)"
   ]
  },
  {
   "cell_type": "markdown",
   "id": "29146924",
   "metadata": {},
   "source": [
    "### Distribution after replacement"
   ]
  },
  {
   "cell_type": "code",
   "execution_count": 42,
   "id": "9be3c654",
   "metadata": {
    "scrolled": true
   },
   "outputs": [
    {
     "name": "stdout",
     "output_type": "stream",
     "text": [
      "                  Label_1  Count\n",
      "0  Database_Administrator   2784\n",
      "1     Front_End_Developer   2394\n",
      "2          Java_Developer   2418\n",
      "3   Network_Administrator   2260\n",
      "4         Project_manager   3527\n",
      "5        Python_Developer   2311\n",
      "6        Security_Analyst   2259\n",
      "7      Software_Developer   3434\n",
      "8   Systems_Administrator   4181\n",
      "9           Web_Developer   3465\n"
     ]
    }
   ],
   "source": [
    "count_df = resume_df.groupby('Label_1').size().reset_index(name='Count')\n",
    "print(count_df)"
   ]
  },
  {
   "cell_type": "markdown",
   "id": "0e76f76a",
   "metadata": {},
   "source": [
    "##"
   ]
  },
  {
   "cell_type": "markdown",
   "id": "0e68b452",
   "metadata": {},
   "source": [
    "### Extract education section from resume string"
   ]
  },
  {
   "cell_type": "code",
   "execution_count": 43,
   "id": "277b3e58",
   "metadata": {
    "scrolled": true
   },
   "outputs": [],
   "source": [
    "resume_edu = resume_df.copy()\n",
    "resume_edu['Education'] = resume_df['Resume'].str.extract(r'Education\\s*(.*?)(?=\\s*(?:Contact|Summary|Work Experience|Experience|Skill|Technical Skill|Certification|Project|Award|Publication|Affiliation|Volunteer|Interest|Hobb|Reference})|$)')\n",
    "\n",
    "resume_df = resume_edu"
   ]
  },
  {
   "cell_type": "markdown",
   "id": "01595c1b",
   "metadata": {},
   "source": [
    "### Extract skill section from resume string"
   ]
  },
  {
   "cell_type": "code",
   "execution_count": 44,
   "id": "879fdbeb",
   "metadata": {
    "scrolled": true
   },
   "outputs": [
    {
     "name": "stderr",
     "output_type": "stream",
     "text": [
      "C:\\Users\\shenyn96\\AppData\\Local\\Temp\\ipykernel_14388\\3468024207.py:5: FutureWarning: The default value of regex will change from True to False in a future version.\n",
      "  resume_skill['Skill'] = resume_skill['Skill_with_yoe'].str.replace(r'\\s\\([\\w\\s\\d+]+\\s(?:year)s?\\)', '')\n"
     ]
    }
   ],
   "source": [
    "skill_pattern = r'(?:Skills|SKILLS|Technical Skills|Framework|Languages)([^,]{1,35}(?:\\(.*year\\))?,[^,]{1,35}(?:\\(.*year\\))?,.*?)(?=\\s*(?:Education|Contact|Summary|SUMMARY|Work Experience|Experience|Certification|Award|Publication|Affiliation|Volunteer|Interest|Hobb|Reference|Links|Additional)|$)'\n",
    "resume_skill = resume_df.copy()\n",
    "# resume_skill['Skills'] = resume_df['Resume'].str.extractall(skill_pattern)\n",
    "resume_skill['Skill_with_yoe'] = resume_df['Resume'].str.extractall(skill_pattern).groupby(level=0).agg(','.join)\n",
    "resume_skill['Skill'] = resume_skill['Skill_with_yoe'].str.replace(r'\\s\\([\\w\\s\\d+]+\\s(?:year)s?\\)', '')\n",
    "resume_skill = resume_skill.drop('Skill_with_yoe', axis=1)"
   ]
  },
  {
   "cell_type": "code",
   "execution_count": 45,
   "id": "3e1a0fef",
   "metadata": {},
   "outputs": [
    {
     "data": {
      "text/html": [
       "<div>\n",
       "<style scoped>\n",
       "    .dataframe tbody tr th:only-of-type {\n",
       "        vertical-align: middle;\n",
       "    }\n",
       "\n",
       "    .dataframe tbody tr th {\n",
       "        vertical-align: top;\n",
       "    }\n",
       "\n",
       "    .dataframe thead th {\n",
       "        text-align: right;\n",
       "    }\n",
       "</style>\n",
       "<table border=\"1\" class=\"dataframe\">\n",
       "  <thead>\n",
       "    <tr style=\"text-align: right;\">\n",
       "      <th></th>\n",
       "      <th>index</th>\n",
       "      <th>Resume</th>\n",
       "      <th>Label_1</th>\n",
       "      <th>Education</th>\n",
       "      <th>Skill</th>\n",
       "    </tr>\n",
       "  </thead>\n",
       "  <tbody>\n",
       "    <tr>\n",
       "      <th>0</th>\n",
       "      <td>0</td>\n",
       "      <td>Database Administrator Database Administrator ...</td>\n",
       "      <td>Database_Administrator</td>\n",
       "      <td>Bachelor of Science Lead City University July ...</td>\n",
       "      <td>Database administration, Database, Ms sql ser...</td>\n",
       "    </tr>\n",
       "    <tr>\n",
       "      <th>1</th>\n",
       "      <td>1</td>\n",
       "      <td>Database Administrator Database Administrator ...</td>\n",
       "      <td>Database_Administrator</td>\n",
       "      <td>bsc in computer science lagos state university...</td>\n",
       "      <td>SQL, Microsoft PowerPoint, Windows XP, Micros...</td>\n",
       "    </tr>\n",
       "    <tr>\n",
       "      <th>2</th>\n",
       "      <td>2</td>\n",
       "      <td>Oracle Database Administrator Oracle Database ...</td>\n",
       "      <td>Database_Administrator</td>\n",
       "      <td>Master of Computer Applications in Science and...</td>\n",
       "      <td>DATABASES, ORACLE, ORACLE 10G, SQL, LINUX, RM...</td>\n",
       "    </tr>\n",
       "    <tr>\n",
       "      <th>3</th>\n",
       "      <td>3</td>\n",
       "      <td>Amazon Redshift Administrator and ETL Develope...</td>\n",
       "      <td>Database_Administrator</td>\n",
       "      <td>Bachelor in Computer Science University of Inf...</td>\n",
       "      <td>SQL management, PostgresSQL, Oracle, MySQL, m...</td>\n",
       "    </tr>\n",
       "    <tr>\n",
       "      <th>4</th>\n",
       "      <td>4</td>\n",
       "      <td>Scrum Master Scrum Master Scrum Master Richmon...</td>\n",
       "      <td>Database_Administrator</td>\n",
       "      <td>Virginia Commomwealth University - Richmond, V...</td>\n",
       "      <td>Oracle, Sql, Linux, Sun, Ux, Rman, Hp-ux, Rdb...</td>\n",
       "    </tr>\n",
       "    <tr>\n",
       "      <th>...</th>\n",
       "      <td>...</td>\n",
       "      <td>...</td>\n",
       "      <td>...</td>\n",
       "      <td>...</td>\n",
       "      <td>...</td>\n",
       "    </tr>\n",
       "    <tr>\n",
       "      <th>29778</th>\n",
       "      <td>29778</td>\n",
       "      <td>ServiceNow Developer ServiceNow Developer Serv...</td>\n",
       "      <td>Java_Developer</td>\n",
       "      <td>Bachelor of Technology in Information Technolo...</td>\n",
       "      <td>C++, Html, Javascript, Perl, Scripting, Vbscr...</td>\n",
       "    </tr>\n",
       "    <tr>\n",
       "      <th>29779</th>\n",
       "      <td>29779</td>\n",
       "      <td>Android Developer Android Developer Android De...</td>\n",
       "      <td>Web_Developer</td>\n",
       "      <td>NaN</td>\n",
       "      <td>Android, Java, Database, Mysql, Sqlite, .net,...</td>\n",
       "    </tr>\n",
       "    <tr>\n",
       "      <th>29780</th>\n",
       "      <td>29780</td>\n",
       "      <td>UI Developer UI Developer UI Developer - Cotiv...</td>\n",
       "      <td>Front_End_Developer</td>\n",
       "      <td>Master's</td>\n",
       "      <td>Visual studio, Git, Javascript, Bootstrap, D3.js</td>\n",
       "    </tr>\n",
       "    <tr>\n",
       "      <th>29781</th>\n",
       "      <td>29781</td>\n",
       "      <td>Web Developer Web Developer Los Angeles, CA Wo...</td>\n",
       "      <td>Web_Developer</td>\n",
       "      <td>Associate</td>\n",
       "      <td>Javascript, PHP, Front End, Wordpress</td>\n",
       "    </tr>\n",
       "    <tr>\n",
       "      <th>29782</th>\n",
       "      <td>29782</td>\n",
       "      <td>Sr. Software Engineer Sr. Software Engineer Sr...</td>\n",
       "      <td>Software_Developer</td>\n",
       "      <td>High school or equivalent in Computer Networking</td>\n",
       "      <td>AWS, Linux, Javascript, Java, PHP, Apache, NG...</td>\n",
       "    </tr>\n",
       "  </tbody>\n",
       "</table>\n",
       "<p>29033 rows × 5 columns</p>\n",
       "</div>"
      ],
      "text/plain": [
       "       index                                             Resume  \\\n",
       "0          0  Database Administrator Database Administrator ...   \n",
       "1          1  Database Administrator Database Administrator ...   \n",
       "2          2  Oracle Database Administrator Oracle Database ...   \n",
       "3          3  Amazon Redshift Administrator and ETL Develope...   \n",
       "4          4  Scrum Master Scrum Master Scrum Master Richmon...   \n",
       "...      ...                                                ...   \n",
       "29778  29778  ServiceNow Developer ServiceNow Developer Serv...   \n",
       "29779  29779  Android Developer Android Developer Android De...   \n",
       "29780  29780  UI Developer UI Developer UI Developer - Cotiv...   \n",
       "29781  29781  Web Developer Web Developer Los Angeles, CA Wo...   \n",
       "29782  29782  Sr. Software Engineer Sr. Software Engineer Sr...   \n",
       "\n",
       "                      Label_1  \\\n",
       "0      Database_Administrator   \n",
       "1      Database_Administrator   \n",
       "2      Database_Administrator   \n",
       "3      Database_Administrator   \n",
       "4      Database_Administrator   \n",
       "...                       ...   \n",
       "29778          Java_Developer   \n",
       "29779           Web_Developer   \n",
       "29780     Front_End_Developer   \n",
       "29781           Web_Developer   \n",
       "29782      Software_Developer   \n",
       "\n",
       "                                               Education  \\\n",
       "0      Bachelor of Science Lead City University July ...   \n",
       "1      bsc in computer science lagos state university...   \n",
       "2      Master of Computer Applications in Science and...   \n",
       "3      Bachelor in Computer Science University of Inf...   \n",
       "4      Virginia Commomwealth University - Richmond, V...   \n",
       "...                                                  ...   \n",
       "29778  Bachelor of Technology in Information Technolo...   \n",
       "29779                                                NaN   \n",
       "29780                                           Master's   \n",
       "29781                                          Associate   \n",
       "29782   High school or equivalent in Computer Networking   \n",
       "\n",
       "                                                   Skill  \n",
       "0       Database administration, Database, Ms sql ser...  \n",
       "1       SQL, Microsoft PowerPoint, Windows XP, Micros...  \n",
       "2       DATABASES, ORACLE, ORACLE 10G, SQL, LINUX, RM...  \n",
       "3       SQL management, PostgresSQL, Oracle, MySQL, m...  \n",
       "4       Oracle, Sql, Linux, Sun, Ux, Rman, Hp-ux, Rdb...  \n",
       "...                                                  ...  \n",
       "29778   C++, Html, Javascript, Perl, Scripting, Vbscr...  \n",
       "29779   Android, Java, Database, Mysql, Sqlite, .net,...  \n",
       "29780   Visual studio, Git, Javascript, Bootstrap, D3.js  \n",
       "29781              Javascript, PHP, Front End, Wordpress  \n",
       "29782   AWS, Linux, Javascript, Java, PHP, Apache, NG...  \n",
       "\n",
       "[29033 rows x 5 columns]"
      ]
     },
     "execution_count": 45,
     "metadata": {},
     "output_type": "execute_result"
    }
   ],
   "source": [
    "resume_df = resume_skill\n",
    "resume_df"
   ]
  },
  {
   "cell_type": "markdown",
   "id": "5d1cf168",
   "metadata": {},
   "source": [
    "### Unmatched education and skill\n",
    "Some of them are not captured by our regex rule when extracting edu and skill, due to format inconsistency across all resume and resume data quality (data missing)"
   ]
  },
  {
   "cell_type": "code",
   "execution_count": 46,
   "id": "8b9ed64f",
   "metadata": {},
   "outputs": [
    {
     "name": "stdout",
     "output_type": "stream",
     "text": [
      "Failed to extract education resume count:  1780 , account for 6.13 %\n"
     ]
    }
   ],
   "source": [
    "unmatched_edu = resume_edu[resume_edu['Education'].isnull()]\n",
    "print(\"Failed to extract education resume count: \", len(unmatched_edu), \", account for\", round(len(unmatched_edu)/len(resume_df)*100, 2), \"%\")"
   ]
  },
  {
   "cell_type": "code",
   "execution_count": 47,
   "id": "6eb1fcb5",
   "metadata": {
    "scrolled": false
   },
   "outputs": [
    {
     "name": "stdout",
     "output_type": "stream",
     "text": [
      "Failed to extract skill resume count:  5503 , account for 18.95 %\n"
     ]
    }
   ],
   "source": [
    "unmatched_skill = resume_skill[resume_skill['Skill'].isnull()]\n",
    "print(\"Failed to extract skill resume count: \", len(unmatched_skill), \", account for\", round(len(unmatched_skill)/len(resume_df)*100, 2), \"%\")"
   ]
  },
  {
   "cell_type": "markdown",
   "id": "9390ebf5",
   "metadata": {},
   "source": [
    "### Extract job titles from work experience"
   ]
  },
  {
   "cell_type": "code",
   "execution_count": 48,
   "id": "9b41b4fe",
   "metadata": {},
   "outputs": [],
   "source": [
    "from find_job_titles import Finder\n",
    "finder = Finder()"
   ]
  },
  {
   "cell_type": "code",
   "execution_count": 49,
   "id": "925630fe",
   "metadata": {},
   "outputs": [],
   "source": [
    "def find_job_titles(text):\n",
    "    try:\n",
    "        result = finder.findall(text)\n",
    "    except RuntimeError:\n",
    "        return None\n",
    "    job_titles_list= []\n",
    "    for each in result:\n",
    "        if \" \" in each.match:\n",
    "            job_titles_list.append(each.match)\n",
    "    return job_titles_list"
   ]
  },
  {
   "cell_type": "code",
   "execution_count": 50,
   "id": "3f6b595b",
   "metadata": {},
   "outputs": [],
   "source": [
    "def extract_title_with_freq(job_titles_list):\n",
    "    if job_titles_list is None:\n",
    "        return None\n",
    "    job_titles_dict = {}\n",
    "    job_titles_list_with_freq = []\n",
    "    for each in job_titles_list:\n",
    "        job_titles_dict[each] = job_titles_dict.get(each, 0) + 1\n",
    "    job_titles_list_with_freq = sorted(job_titles_dict.items(), key=lambda x: x[1], reverse=True)\n",
    "    return job_titles_list_with_freq"
   ]
  },
  {
   "cell_type": "code",
   "execution_count": 51,
   "id": "d5296d10",
   "metadata": {},
   "outputs": [],
   "source": [
    "resume_df['Work Exp - Titles'] = resume_df['Resume'].apply(find_job_titles)"
   ]
  },
  {
   "cell_type": "code",
   "execution_count": 52,
   "id": "97e5cb3c",
   "metadata": {},
   "outputs": [],
   "source": [
    "resume_df['Work Exp - Titles with freq'] = resume_df['Work Exp - Titles'].apply(extract_title_with_freq)"
   ]
  },
  {
   "cell_type": "markdown",
   "id": "9a9327c8",
   "metadata": {},
   "source": [
    "### Filter out resume records which both skill and past job titles not able to be extracted\n",
    "Eliminate some records that we consider they don't contain enough helpful information, also reduce scope and increase efficiency for subsequent processing steps"
   ]
  },
  {
   "cell_type": "code",
   "execution_count": 54,
   "id": "ced505b4",
   "metadata": {},
   "outputs": [],
   "source": [
    "# resumm_df[resume_df['Skill'].isnull() & resume_df['Work Exp - Titles'].isnull()] #83\n",
    "resume_df = resume_df[resume_df['Skill'].notnull() | resume_df['Work Exp - Titles'].notnull()]"
   ]
  },
  {
   "cell_type": "code",
   "execution_count": 55,
   "id": "beb99967",
   "metadata": {
    "scrolled": true
   },
   "outputs": [
    {
     "data": {
      "text/html": [
       "<div>\n",
       "<style scoped>\n",
       "    .dataframe tbody tr th:only-of-type {\n",
       "        vertical-align: middle;\n",
       "    }\n",
       "\n",
       "    .dataframe tbody tr th {\n",
       "        vertical-align: top;\n",
       "    }\n",
       "\n",
       "    .dataframe thead th {\n",
       "        text-align: right;\n",
       "    }\n",
       "</style>\n",
       "<table border=\"1\" class=\"dataframe\">\n",
       "  <thead>\n",
       "    <tr style=\"text-align: right;\">\n",
       "      <th></th>\n",
       "      <th>index</th>\n",
       "      <th>Resume</th>\n",
       "      <th>Label_1</th>\n",
       "      <th>Education</th>\n",
       "      <th>Skill</th>\n",
       "      <th>Work Exp - Titles</th>\n",
       "      <th>Work Exp - Titles with freq</th>\n",
       "    </tr>\n",
       "  </thead>\n",
       "  <tbody>\n",
       "    <tr>\n",
       "      <th>0</th>\n",
       "      <td>0</td>\n",
       "      <td>Database Administrator Database Administrator ...</td>\n",
       "      <td>Database_Administrator</td>\n",
       "      <td>Bachelor of Science Lead City University July ...</td>\n",
       "      <td>Database administration, Database, Ms sql ser...</td>\n",
       "      <td>[Database Administrator, Database Administrato...</td>\n",
       "      <td>[(Database Administrator, 6)]</td>\n",
       "    </tr>\n",
       "    <tr>\n",
       "      <th>1</th>\n",
       "      <td>1</td>\n",
       "      <td>Database Administrator Database Administrator ...</td>\n",
       "      <td>Database_Administrator</td>\n",
       "      <td>bsc in computer science lagos state university...</td>\n",
       "      <td>SQL, Microsoft PowerPoint, Windows XP, Micros...</td>\n",
       "      <td>[Database Administrator, Database Administrato...</td>\n",
       "      <td>[(Database Administrator, 3)]</td>\n",
       "    </tr>\n",
       "    <tr>\n",
       "      <th>2</th>\n",
       "      <td>2</td>\n",
       "      <td>Oracle Database Administrator Oracle Database ...</td>\n",
       "      <td>Database_Administrator</td>\n",
       "      <td>Master of Computer Applications in Science and...</td>\n",
       "      <td>DATABASES, ORACLE, ORACLE 10G, SQL, LINUX, RM...</td>\n",
       "      <td>[Oracle Database Administrator, Oracle Databas...</td>\n",
       "      <td>[(Oracle Database Administrator, 5), (Oracle D...</td>\n",
       "    </tr>\n",
       "    <tr>\n",
       "      <th>3</th>\n",
       "      <td>3</td>\n",
       "      <td>Amazon Redshift Administrator and ETL Develope...</td>\n",
       "      <td>Database_Administrator</td>\n",
       "      <td>Bachelor in Computer Science University of Inf...</td>\n",
       "      <td>SQL management, PostgresSQL, Oracle, MySQL, m...</td>\n",
       "      <td>[ETL Developer, ETL Developer, Business Intell...</td>\n",
       "      <td>[(ETL Developer, 3), (Database Administrator, ...</td>\n",
       "    </tr>\n",
       "    <tr>\n",
       "      <th>4</th>\n",
       "      <td>4</td>\n",
       "      <td>Scrum Master Scrum Master Scrum Master Richmon...</td>\n",
       "      <td>Database_Administrator</td>\n",
       "      <td>Virginia Commomwealth University - Richmond, V...</td>\n",
       "      <td>Oracle, Sql, Linux, Sun, Ux, Rman, Hp-ux, Rdb...</td>\n",
       "      <td>[Scrum Master, Scrum Master, Scrum Master, Scr...</td>\n",
       "      <td>[(Scrum Master, 7), (Oracle Database Administr...</td>\n",
       "    </tr>\n",
       "    <tr>\n",
       "      <th>...</th>\n",
       "      <td>...</td>\n",
       "      <td>...</td>\n",
       "      <td>...</td>\n",
       "      <td>...</td>\n",
       "      <td>...</td>\n",
       "      <td>...</td>\n",
       "      <td>...</td>\n",
       "    </tr>\n",
       "    <tr>\n",
       "      <th>29778</th>\n",
       "      <td>29778</td>\n",
       "      <td>ServiceNow Developer ServiceNow Developer Serv...</td>\n",
       "      <td>Java_Developer</td>\n",
       "      <td>Bachelor of Technology in Information Technolo...</td>\n",
       "      <td>C++, Html, Javascript, Perl, Scripting, Vbscr...</td>\n",
       "      <td>[Technology Analyst, Change Management, Change...</td>\n",
       "      <td>[(Change Management, 8), (Technology Analyst, ...</td>\n",
       "    </tr>\n",
       "    <tr>\n",
       "      <th>29779</th>\n",
       "      <td>29779</td>\n",
       "      <td>Android Developer Android Developer Android De...</td>\n",
       "      <td>Web_Developer</td>\n",
       "      <td>NaN</td>\n",
       "      <td>Android, Java, Database, Mysql, Sqlite, .net,...</td>\n",
       "      <td>[Android Developer, Android Developer, Android...</td>\n",
       "      <td>[(Android Developer, 11), (Web Developer, 1), ...</td>\n",
       "    </tr>\n",
       "    <tr>\n",
       "      <th>29780</th>\n",
       "      <td>29780</td>\n",
       "      <td>UI Developer UI Developer UI Developer - Cotiv...</td>\n",
       "      <td>Front_End_Developer</td>\n",
       "      <td>Master's</td>\n",
       "      <td>Visual studio, Git, Javascript, Bootstrap, D3.js</td>\n",
       "      <td>[UI Developer, UI Developer, UI Developer, Gra...</td>\n",
       "      <td>[(UI Developer, 7), (Graphic Designer, 1), (C ...</td>\n",
       "    </tr>\n",
       "    <tr>\n",
       "      <th>29781</th>\n",
       "      <td>29781</td>\n",
       "      <td>Web Developer Web Developer Los Angeles, CA Wo...</td>\n",
       "      <td>Web_Developer</td>\n",
       "      <td>Associate</td>\n",
       "      <td>Javascript, PHP, Front End, Wordpress</td>\n",
       "      <td>[Web Developer, Web Developer, Web Developer, ...</td>\n",
       "      <td>[(Web Developer, 3), (Education Associate, 1)]</td>\n",
       "    </tr>\n",
       "    <tr>\n",
       "      <th>29782</th>\n",
       "      <td>29782</td>\n",
       "      <td>Sr. Software Engineer Sr. Software Engineer Sr...</td>\n",
       "      <td>Software_Developer</td>\n",
       "      <td>High school or equivalent in Computer Networking</td>\n",
       "      <td>AWS, Linux, Javascript, Java, PHP, Apache, NG...</td>\n",
       "      <td>[Software Engineer, Software Engineer, Softwar...</td>\n",
       "      <td>[(Software Engineer, 4), (Web Developer, 3), (...</td>\n",
       "    </tr>\n",
       "  </tbody>\n",
       "</table>\n",
       "<p>28950 rows × 7 columns</p>\n",
       "</div>"
      ],
      "text/plain": [
       "       index                                             Resume  \\\n",
       "0          0  Database Administrator Database Administrator ...   \n",
       "1          1  Database Administrator Database Administrator ...   \n",
       "2          2  Oracle Database Administrator Oracle Database ...   \n",
       "3          3  Amazon Redshift Administrator and ETL Develope...   \n",
       "4          4  Scrum Master Scrum Master Scrum Master Richmon...   \n",
       "...      ...                                                ...   \n",
       "29778  29778  ServiceNow Developer ServiceNow Developer Serv...   \n",
       "29779  29779  Android Developer Android Developer Android De...   \n",
       "29780  29780  UI Developer UI Developer UI Developer - Cotiv...   \n",
       "29781  29781  Web Developer Web Developer Los Angeles, CA Wo...   \n",
       "29782  29782  Sr. Software Engineer Sr. Software Engineer Sr...   \n",
       "\n",
       "                      Label_1  \\\n",
       "0      Database_Administrator   \n",
       "1      Database_Administrator   \n",
       "2      Database_Administrator   \n",
       "3      Database_Administrator   \n",
       "4      Database_Administrator   \n",
       "...                       ...   \n",
       "29778          Java_Developer   \n",
       "29779           Web_Developer   \n",
       "29780     Front_End_Developer   \n",
       "29781           Web_Developer   \n",
       "29782      Software_Developer   \n",
       "\n",
       "                                               Education  \\\n",
       "0      Bachelor of Science Lead City University July ...   \n",
       "1      bsc in computer science lagos state university...   \n",
       "2      Master of Computer Applications in Science and...   \n",
       "3      Bachelor in Computer Science University of Inf...   \n",
       "4      Virginia Commomwealth University - Richmond, V...   \n",
       "...                                                  ...   \n",
       "29778  Bachelor of Technology in Information Technolo...   \n",
       "29779                                                NaN   \n",
       "29780                                           Master's   \n",
       "29781                                          Associate   \n",
       "29782   High school or equivalent in Computer Networking   \n",
       "\n",
       "                                                   Skill  \\\n",
       "0       Database administration, Database, Ms sql ser...   \n",
       "1       SQL, Microsoft PowerPoint, Windows XP, Micros...   \n",
       "2       DATABASES, ORACLE, ORACLE 10G, SQL, LINUX, RM...   \n",
       "3       SQL management, PostgresSQL, Oracle, MySQL, m...   \n",
       "4       Oracle, Sql, Linux, Sun, Ux, Rman, Hp-ux, Rdb...   \n",
       "...                                                  ...   \n",
       "29778   C++, Html, Javascript, Perl, Scripting, Vbscr...   \n",
       "29779   Android, Java, Database, Mysql, Sqlite, .net,...   \n",
       "29780   Visual studio, Git, Javascript, Bootstrap, D3.js   \n",
       "29781              Javascript, PHP, Front End, Wordpress   \n",
       "29782   AWS, Linux, Javascript, Java, PHP, Apache, NG...   \n",
       "\n",
       "                                       Work Exp - Titles  \\\n",
       "0      [Database Administrator, Database Administrato...   \n",
       "1      [Database Administrator, Database Administrato...   \n",
       "2      [Oracle Database Administrator, Oracle Databas...   \n",
       "3      [ETL Developer, ETL Developer, Business Intell...   \n",
       "4      [Scrum Master, Scrum Master, Scrum Master, Scr...   \n",
       "...                                                  ...   \n",
       "29778  [Technology Analyst, Change Management, Change...   \n",
       "29779  [Android Developer, Android Developer, Android...   \n",
       "29780  [UI Developer, UI Developer, UI Developer, Gra...   \n",
       "29781  [Web Developer, Web Developer, Web Developer, ...   \n",
       "29782  [Software Engineer, Software Engineer, Softwar...   \n",
       "\n",
       "                             Work Exp - Titles with freq  \n",
       "0                          [(Database Administrator, 6)]  \n",
       "1                          [(Database Administrator, 3)]  \n",
       "2      [(Oracle Database Administrator, 5), (Oracle D...  \n",
       "3      [(ETL Developer, 3), (Database Administrator, ...  \n",
       "4      [(Scrum Master, 7), (Oracle Database Administr...  \n",
       "...                                                  ...  \n",
       "29778  [(Change Management, 8), (Technology Analyst, ...  \n",
       "29779  [(Android Developer, 11), (Web Developer, 1), ...  \n",
       "29780  [(UI Developer, 7), (Graphic Designer, 1), (C ...  \n",
       "29781     [(Web Developer, 3), (Education Associate, 1)]  \n",
       "29782  [(Software Engineer, 4), (Web Developer, 3), (...  \n",
       "\n",
       "[28950 rows x 7 columns]"
      ]
     },
     "execution_count": 55,
     "metadata": {},
     "output_type": "execute_result"
    }
   ],
   "source": [
    "resume_df"
   ]
  },
  {
   "cell_type": "markdown",
   "id": "ba658435",
   "metadata": {},
   "source": [
    "### Tokenize resume text into sentences"
   ]
  },
  {
   "cell_type": "code",
   "execution_count": 56,
   "id": "f2d05e8d",
   "metadata": {},
   "outputs": [],
   "source": [
    "from nltk import tokenize\n",
    "import nltk\n",
    "import spacy\n",
    "nlp = spacy.load('en_core_web_sm')"
   ]
  },
  {
   "cell_type": "code",
   "execution_count": 57,
   "id": "f6200f6b",
   "metadata": {
    "scrolled": true
   },
   "outputs": [],
   "source": [
    "def sentence_segmentation(text):\n",
    "    matches = re.finditer(r\"\\s{2,}\", text)\n",
    "    positions = [match.start() for match in matches]\n",
    "    offset = 0\n",
    "    for index in positions:\n",
    "        text = text[:index+offset] + '.' + text[index+offset:]\n",
    "        offset += 1\n",
    "    text = text.replace(\"\\n\", \". \").replace(\"\\t\", \". \")\n",
    "    text = re.sub(r'(\\w)\\s+[^a-zA-Z0-9\\s,\\.\\(\\)]{1,}', r'\\1. ', text)\n",
    "    text = re.sub(r'([\\.,;])\\s*[^a-zA-Z0-9\\s,\\.\\(\\)]{1,}', r'\\1', text)\n",
    "    return tokenize.sent_tokenize(text)"
   ]
  },
  {
   "cell_type": "code",
   "execution_count": 58,
   "id": "1b255e95",
   "metadata": {
    "scrolled": true
   },
   "outputs": [
    {
     "name": "stderr",
     "output_type": "stream",
     "text": [
      "C:\\Users\\shenyn96\\AppData\\Local\\Temp\\ipykernel_14388\\934088343.py:1: SettingWithCopyWarning: \n",
      "A value is trying to be set on a copy of a slice from a DataFrame.\n",
      "Try using .loc[row_indexer,col_indexer] = value instead\n",
      "\n",
      "See the caveats in the documentation: https://pandas.pydata.org/pandas-docs/stable/user_guide/indexing.html#returning-a-view-versus-a-copy\n",
      "  resume_df['Resume - sentence'] = resume_df['Resume'].apply(sentence_segmentation)\n"
     ]
    }
   ],
   "source": [
    "resume_df['Resume - sentence'] = resume_df['Resume'].apply(sentence_segmentation)"
   ]
  },
  {
   "cell_type": "markdown",
   "id": "6ecf7c81",
   "metadata": {},
   "source": [
    "### Discard invalid sentences\n",
    "1. Invalid sentence has fewer than 6 words (example: resume section title, personal info, skill listing)\n",
    "2. Invalid sentence has more than 70 words (example: skill/education section failed to split)\n",
    "3. Invalid sentence has more than 6 commas (example: skill section not being broken down)"
   ]
  },
  {
   "cell_type": "code",
   "execution_count": 59,
   "id": "ef6d5447",
   "metadata": {},
   "outputs": [],
   "source": [
    "def valid_sentence(sentence_list):\n",
    "    filtered_strings = []\n",
    "    for string in sentence_list:\n",
    "        words = string.split()\n",
    "        word_count = sum(1 for word in words if word != \".\")\n",
    "        comma_count = string.count(',')\n",
    "\n",
    "        if word_count >= 6 and word_count <= 70 and comma_count <= 6:\n",
    "            filtered_strings.append(string)\n",
    "    \n",
    "    return filtered_strings"
   ]
  },
  {
   "cell_type": "code",
   "execution_count": 60,
   "id": "9b5c99dd",
   "metadata": {
    "scrolled": false
   },
   "outputs": [
    {
     "name": "stderr",
     "output_type": "stream",
     "text": [
      "C:\\Users\\shenyn96\\AppData\\Local\\Temp\\ipykernel_14388\\3590210767.py:1: SettingWithCopyWarning: \n",
      "A value is trying to be set on a copy of a slice from a DataFrame.\n",
      "Try using .loc[row_indexer,col_indexer] = value instead\n",
      "\n",
      "See the caveats in the documentation: https://pandas.pydata.org/pandas-docs/stable/user_guide/indexing.html#returning-a-view-versus-a-copy\n",
      "  resume_df['Resume - sentence'] = resume_df['Resume - sentence'].apply(valid_sentence)\n"
     ]
    }
   ],
   "source": [
    "resume_df['Resume - sentence'] = resume_df['Resume - sentence'].apply(valid_sentence)"
   ]
  },
  {
   "cell_type": "markdown",
   "id": "ddf7655c",
   "metadata": {},
   "source": [
    "### Extract key activities\n",
    "#### Don't run commented code in web browser, may take a few hours to complete "
   ]
  },
  {
   "cell_type": "code",
   "execution_count": 35,
   "id": "9890da6e",
   "metadata": {},
   "outputs": [],
   "source": [
    "def transform_to_tuple(x):\n",
    "    return tuple(x)"
   ]
  },
  {
   "cell_type": "code",
   "execution_count": 34,
   "id": "cad5e797",
   "metadata": {},
   "outputs": [],
   "source": [
    "resume_df_exp_sentence_only = resume_df.drop(['Resume','Label_1','Education','Skill','Work Exp - Titles with freq','Work Exp - Titles'], axis=1)\n",
    "resume_df_exp_sentence_only['Resume - sentence_tuple'] = resume_df_exp_sentence_only['Resume - sentence'].apply(transform_to_tuple)\n",
    "resume_df_exp_sentence_only = resume_df_exp_sentence_only.drop(['Resume - sentence'], axis=1)"
   ]
  },
  {
   "cell_type": "code",
   "execution_count": 39,
   "id": "165b9d98",
   "metadata": {},
   "outputs": [
    {
     "data": {
      "text/html": [
       "<div>\n",
       "<style scoped>\n",
       "    .dataframe tbody tr th:only-of-type {\n",
       "        vertical-align: middle;\n",
       "    }\n",
       "\n",
       "    .dataframe tbody tr th {\n",
       "        vertical-align: top;\n",
       "    }\n",
       "\n",
       "    .dataframe thead th {\n",
       "        text-align: right;\n",
       "    }\n",
       "</style>\n",
       "<table border=\"1\" class=\"dataframe\">\n",
       "  <thead>\n",
       "    <tr style=\"text-align: right;\">\n",
       "      <th></th>\n",
       "      <th>index</th>\n",
       "      <th>Resume - sentence_tuple</th>\n",
       "    </tr>\n",
       "  </thead>\n",
       "  <tbody>\n",
       "    <tr>\n",
       "      <th>0</th>\n",
       "      <td>0</td>\n",
       "      <td>(Database Administrator Database Administrator...</td>\n",
       "    </tr>\n",
       "    <tr>\n",
       "      <th>1</th>\n",
       "      <td>1</td>\n",
       "      <td>(Database Administrator Database Administrator...</td>\n",
       "    </tr>\n",
       "    <tr>\n",
       "      <th>2</th>\n",
       "      <td>2</td>\n",
       "      <td>(Oracle Database Administrator Oracle Database...</td>\n",
       "    </tr>\n",
       "    <tr>\n",
       "      <th>3</th>\n",
       "      <td>3</td>\n",
       "      <td>(Amazon Redshift Administrator and ETL Develop...</td>\n",
       "    </tr>\n",
       "    <tr>\n",
       "      <th>4</th>\n",
       "      <td>4</td>\n",
       "      <td>(Scrum Master Scrum Master Scrum Master Richmo...</td>\n",
       "    </tr>\n",
       "    <tr>\n",
       "      <th>...</th>\n",
       "      <td>...</td>\n",
       "      <td>...</td>\n",
       "    </tr>\n",
       "    <tr>\n",
       "      <th>29778</th>\n",
       "      <td>29778</td>\n",
       "      <td>(ServiceNow Developer ServiceNow Developer Ser...</td>\n",
       "    </tr>\n",
       "    <tr>\n",
       "      <th>29779</th>\n",
       "      <td>29779</td>\n",
       "      <td>(Android Developer Android Developer Android D...</td>\n",
       "    </tr>\n",
       "    <tr>\n",
       "      <th>29780</th>\n",
       "      <td>29780</td>\n",
       "      <td>(UI Developer UI Developer UI Developer., Expe...</td>\n",
       "    </tr>\n",
       "    <tr>\n",
       "      <th>29781</th>\n",
       "      <td>29781</td>\n",
       "      <td>(Web Developer Web Developer Los Angeles, CA W...</td>\n",
       "    </tr>\n",
       "    <tr>\n",
       "      <th>29782</th>\n",
       "      <td>29782</td>\n",
       "      <td>(Sr. Software Engineer Sr. Software Engineer S...</td>\n",
       "    </tr>\n",
       "  </tbody>\n",
       "</table>\n",
       "<p>28950 rows × 2 columns</p>\n",
       "</div>"
      ],
      "text/plain": [
       "       index                            Resume - sentence_tuple\n",
       "0          0  (Database Administrator Database Administrator...\n",
       "1          1  (Database Administrator Database Administrator...\n",
       "2          2  (Oracle Database Administrator Oracle Database...\n",
       "3          3  (Amazon Redshift Administrator and ETL Develop...\n",
       "4          4  (Scrum Master Scrum Master Scrum Master Richmo...\n",
       "...      ...                                                ...\n",
       "29778  29778  (ServiceNow Developer ServiceNow Developer Ser...\n",
       "29779  29779  (Android Developer Android Developer Android D...\n",
       "29780  29780  (UI Developer UI Developer UI Developer., Expe...\n",
       "29781  29781  (Web Developer Web Developer Los Angeles, CA W...\n",
       "29782  29782  (Sr. Software Engineer Sr. Software Engineer S...\n",
       "\n",
       "[28950 rows x 2 columns]"
      ]
     },
     "execution_count": 39,
     "metadata": {},
     "output_type": "execute_result"
    }
   ],
   "source": [
    "resume_df_exp_sentence_only"
   ]
  },
  {
   "cell_type": "code",
   "execution_count": null,
   "id": "755b0920",
   "metadata": {},
   "outputs": [],
   "source": [
    "from pandarallel import pandarallel"
   ]
  },
  {
   "cell_type": "code",
   "execution_count": null,
   "id": "5b2158a4",
   "metadata": {},
   "outputs": [],
   "source": [
    "def extract_activity_phrase(sentence_list):\n",
    "    from nltk import tokenize\n",
    "    import spacy\n",
    "    nlp = spacy.load('en_core_web_sm')\n",
    "    stop_verbs = {\n",
    "        'have',\n",
    "        'must',\n",
    "        'do',\n",
    "        'be',\n",
    "        'can',\n",
    "        'could',\n",
    "        'will',\n",
    "        'would',\n",
    "        'shall',\n",
    "        'should',\n",
    "        'may',\n",
    "        'might',\n",
    "        'must',   \n",
    "        'include',\n",
    "        'follow'\n",
    "    }\n",
    "\n",
    "    condensed_sentence_list = []\n",
    "    for sentence in sentence_list:\n",
    "        activity_phrase = []\n",
    "        doc = nlp(sentence)\n",
    "\n",
    "        find_verb = False\n",
    "        find_noun = False\n",
    "    \n",
    "        for token in doc:\n",
    "            if not find_verb:\n",
    "                if token.pos_ == 'VERB' and token.lemma_ not in stop_verbs:\n",
    "                    activity_phrase.append(token.lemma_)\n",
    "                    find_verb = True\n",
    "            else:\n",
    "                if token.pos_ not in ['NOUN', 'PRON']:\n",
    "                    if find_noun:\n",
    "                        break\n",
    "                    if token.lemma_ in stop_verbs:\n",
    "                        continue\n",
    "                    if token.pos_ == 'VERB':\n",
    "                        activity_phrase.append(token.lemma_)\n",
    "                        continue\n",
    "                    activity_phrase.append(token.text)\n",
    "                else:\n",
    "                    activity_phrase.append(token.text)\n",
    "                    find_noun = True\n",
    "                    \n",
    "        if 2 <= len(activity_phrase) <= 20:\n",
    "            condensed_sentence = ' '.join(activity_phrase)\n",
    "            condensed_sentence_list.append(condensed_sentence)\n",
    "    return condensed_sentence_list"
   ]
  },
  {
   "cell_type": "code",
   "execution_count": null,
   "id": "5faaf18d",
   "metadata": {},
   "outputs": [],
   "source": [
    "# pandarallel.initialize()\n",
    "# resume_df_exp_sentence_only['Resume - key activity'] = resume_df_exp_sentence_only['Resume - sentence_tuple'].parallel_apply(extract_activity_phrase)\n",
    "# resume_df_exp_sentence_only.to_csv('exp_key_phrase.csv', index=False)"
   ]
  },
  {
   "cell_type": "markdown",
   "id": "bc24409e",
   "metadata": {},
   "source": [
    "### Filter out empty key activity rows and trim the redundant periods at the end of each activity phrase"
   ]
  },
  {
   "cell_type": "code",
   "execution_count": 61,
   "id": "c5061a7e",
   "metadata": {},
   "outputs": [],
   "source": [
    "converters = {'Resume - key activity': eval}\n",
    "exp_key_df = pd.read_csv('./exp_key_phrase.csv', converters=converters)"
   ]
  },
  {
   "cell_type": "code",
   "execution_count": 62,
   "id": "3e0d961f",
   "metadata": {},
   "outputs": [
    {
     "data": {
      "text/html": [
       "<div>\n",
       "<style scoped>\n",
       "    .dataframe tbody tr th:only-of-type {\n",
       "        vertical-align: middle;\n",
       "    }\n",
       "\n",
       "    .dataframe tbody tr th {\n",
       "        vertical-align: top;\n",
       "    }\n",
       "\n",
       "    .dataframe thead th {\n",
       "        text-align: right;\n",
       "    }\n",
       "</style>\n",
       "<table border=\"1\" class=\"dataframe\">\n",
       "  <thead>\n",
       "    <tr style=\"text-align: right;\">\n",
       "      <th></th>\n",
       "      <th>index</th>\n",
       "      <th>Resume - key activity</th>\n",
       "    </tr>\n",
       "  </thead>\n",
       "  <tbody>\n",
       "    <tr>\n",
       "      <th>0</th>\n",
       "      <td>0</td>\n",
       "      <td>[motivate Production SQL Server Database Admin...</td>\n",
       "    </tr>\n",
       "    <tr>\n",
       "      <th>1</th>\n",
       "      <td>1</td>\n",
       "      <td>[develop and maintain database, like to establ...</td>\n",
       "    </tr>\n",
       "    <tr>\n",
       "      <th>2</th>\n",
       "      <td>2</td>\n",
       "      <td>[obtain a Oracle DBA Position in a progressive...</td>\n",
       "    </tr>\n",
       "    <tr>\n",
       "      <th>3</th>\n",
       "      <td>3</td>\n",
       "      <td>[work as database administrator, maintain mult...</td>\n",
       "    </tr>\n",
       "    <tr>\n",
       "      <th>4</th>\n",
       "      <td>4</td>\n",
       "      <td>[organize and facilitate Scrum ceremonies, act...</td>\n",
       "    </tr>\n",
       "    <tr>\n",
       "      <th>...</th>\n",
       "      <td>...</td>\n",
       "      <td>...</td>\n",
       "    </tr>\n",
       "    <tr>\n",
       "      <th>28644</th>\n",
       "      <td>29778</td>\n",
       "      <td>[implement end, avoid empty configuration item...</td>\n",
       "    </tr>\n",
       "    <tr>\n",
       "      <th>28645</th>\n",
       "      <td>29779</td>\n",
       "      <td>[work in team, make sure the applications, imp...</td>\n",
       "    </tr>\n",
       "    <tr>\n",
       "      <th>28646</th>\n",
       "      <td>29780</td>\n",
       "      <td>[architecte scalable platforms, code HTML, adh...</td>\n",
       "    </tr>\n",
       "    <tr>\n",
       "      <th>28647</th>\n",
       "      <td>29781</td>\n",
       "      <td>[employ September 2013 to July 2019, create de...</td>\n",
       "    </tr>\n",
       "    <tr>\n",
       "      <th>28648</th>\n",
       "      <td>29782</td>\n",
       "      <td>[authorize to work in the US for any employer,...</td>\n",
       "    </tr>\n",
       "  </tbody>\n",
       "</table>\n",
       "<p>28649 rows × 2 columns</p>\n",
       "</div>"
      ],
      "text/plain": [
       "       index                              Resume - key activity\n",
       "0          0  [motivate Production SQL Server Database Admin...\n",
       "1          1  [develop and maintain database, like to establ...\n",
       "2          2  [obtain a Oracle DBA Position in a progressive...\n",
       "3          3  [work as database administrator, maintain mult...\n",
       "4          4  [organize and facilitate Scrum ceremonies, act...\n",
       "...      ...                                                ...\n",
       "28644  29778  [implement end, avoid empty configuration item...\n",
       "28645  29779  [work in team, make sure the applications, imp...\n",
       "28646  29780  [architecte scalable platforms, code HTML, adh...\n",
       "28647  29781  [employ September 2013 to July 2019, create de...\n",
       "28648  29782  [authorize to work in the US for any employer,...\n",
       "\n",
       "[28649 rows x 2 columns]"
      ]
     },
     "execution_count": 62,
     "metadata": {},
     "output_type": "execute_result"
    }
   ],
   "source": [
    "exp_key_df"
   ]
  },
  {
   "cell_type": "code",
   "execution_count": 63,
   "id": "ac2d8518",
   "metadata": {},
   "outputs": [],
   "source": [
    "filtered_df = exp_key_df[~exp_key_df['Resume - key activity'].apply(lambda x: len(x) == 0)]"
   ]
  },
  {
   "cell_type": "code",
   "execution_count": 64,
   "id": "dba8e45b",
   "metadata": {
    "scrolled": true
   },
   "outputs": [
    {
     "data": {
      "text/html": [
       "<div>\n",
       "<style scoped>\n",
       "    .dataframe tbody tr th:only-of-type {\n",
       "        vertical-align: middle;\n",
       "    }\n",
       "\n",
       "    .dataframe tbody tr th {\n",
       "        vertical-align: top;\n",
       "    }\n",
       "\n",
       "    .dataframe thead th {\n",
       "        text-align: right;\n",
       "    }\n",
       "</style>\n",
       "<table border=\"1\" class=\"dataframe\">\n",
       "  <thead>\n",
       "    <tr style=\"text-align: right;\">\n",
       "      <th></th>\n",
       "      <th>index</th>\n",
       "      <th>Resume - key activity</th>\n",
       "    </tr>\n",
       "  </thead>\n",
       "  <tbody>\n",
       "    <tr>\n",
       "      <th>0</th>\n",
       "      <td>0</td>\n",
       "      <td>[motivate Production SQL Server Database Admin...</td>\n",
       "    </tr>\n",
       "    <tr>\n",
       "      <th>1</th>\n",
       "      <td>1</td>\n",
       "      <td>[develop and maintain database, like to establ...</td>\n",
       "    </tr>\n",
       "    <tr>\n",
       "      <th>2</th>\n",
       "      <td>2</td>\n",
       "      <td>[obtain a Oracle DBA Position in a progressive...</td>\n",
       "    </tr>\n",
       "    <tr>\n",
       "      <th>3</th>\n",
       "      <td>3</td>\n",
       "      <td>[work as database administrator, maintain mult...</td>\n",
       "    </tr>\n",
       "    <tr>\n",
       "      <th>4</th>\n",
       "      <td>4</td>\n",
       "      <td>[organize and facilitate Scrum ceremonies, act...</td>\n",
       "    </tr>\n",
       "    <tr>\n",
       "      <th>...</th>\n",
       "      <td>...</td>\n",
       "      <td>...</td>\n",
       "    </tr>\n",
       "    <tr>\n",
       "      <th>28644</th>\n",
       "      <td>29778</td>\n",
       "      <td>[implement end, avoid empty configuration item...</td>\n",
       "    </tr>\n",
       "    <tr>\n",
       "      <th>28645</th>\n",
       "      <td>29779</td>\n",
       "      <td>[work in team, make sure the applications, imp...</td>\n",
       "    </tr>\n",
       "    <tr>\n",
       "      <th>28646</th>\n",
       "      <td>29780</td>\n",
       "      <td>[architecte scalable platforms, code HTML, adh...</td>\n",
       "    </tr>\n",
       "    <tr>\n",
       "      <th>28647</th>\n",
       "      <td>29781</td>\n",
       "      <td>[employ September 2013 to July 2019, create de...</td>\n",
       "    </tr>\n",
       "    <tr>\n",
       "      <th>28648</th>\n",
       "      <td>29782</td>\n",
       "      <td>[authorize to work in the US for any employer,...</td>\n",
       "    </tr>\n",
       "  </tbody>\n",
       "</table>\n",
       "<p>28649 rows × 2 columns</p>\n",
       "</div>"
      ],
      "text/plain": [
       "       index                              Resume - key activity\n",
       "0          0  [motivate Production SQL Server Database Admin...\n",
       "1          1  [develop and maintain database, like to establ...\n",
       "2          2  [obtain a Oracle DBA Position in a progressive...\n",
       "3          3  [work as database administrator, maintain mult...\n",
       "4          4  [organize and facilitate Scrum ceremonies, act...\n",
       "...      ...                                                ...\n",
       "28644  29778  [implement end, avoid empty configuration item...\n",
       "28645  29779  [work in team, make sure the applications, imp...\n",
       "28646  29780  [architecte scalable platforms, code HTML, adh...\n",
       "28647  29781  [employ September 2013 to July 2019, create de...\n",
       "28648  29782  [authorize to work in the US for any employer,...\n",
       "\n",
       "[28649 rows x 2 columns]"
      ]
     },
     "execution_count": 64,
     "metadata": {},
     "output_type": "execute_result"
    }
   ],
   "source": [
    "filtered_df"
   ]
  },
  {
   "cell_type": "code",
   "execution_count": 66,
   "id": "ab45d919",
   "metadata": {},
   "outputs": [],
   "source": [
    "def trim_period(sentence_list):\n",
    "    filtered_strings = []\n",
    "    for string in sentence_list:\n",
    "        string = re.sub(r'([A-Za-z0-9,\\s]+[A-Za-z0-9,]{1})[\\.\\s]*', r'\\1', string)\n",
    "        filtered_strings.append(string)\n",
    "    return filtered_strings"
   ]
  },
  {
   "cell_type": "code",
   "execution_count": 67,
   "id": "9509c503",
   "metadata": {
    "scrolled": false
   },
   "outputs": [],
   "source": [
    "filtered_df['Resume - key activity'] = filtered_df['Resume - key activity'].apply(trim_period)"
   ]
  },
  {
   "cell_type": "code",
   "execution_count": 68,
   "id": "d9d82469",
   "metadata": {},
   "outputs": [
    {
     "data": {
      "text/plain": [
       "['database run on Windows and all types',\n",
       " 'report , Physical , Logical , and Snapshot standby on implementation',\n",
       " 'tune Oracle Databases with respect',\n",
       " 'implement Oracle Enterprise Manager Grid Control( 11 g',\n",
       " 'implement desire database backup solutions',\n",
       " 'write/ modify UNIX Shell Scripts for various scenarios',\n",
       " 'upgrade Oracle Databases from 10 g',\n",
       " 'implement Oracle Flash- Back Technology and utilize it',\n",
       " 'ensure data synchronization',\n",
       " 'achieve zero lag times',\n",
       " 'use of macros',\n",
       " 'perform Backups/ Recovery use RMAN , Data pump and Flashback Technologies',\n",
       " 'monitor object growth',\n",
       " 'perform data migration',\n",
       " 'perform Cloning and Refresh use RMAN and Data pump',\n",
       " 'demonstrate proficiency',\n",
       " 'define Users , Roles , Privileges , Auditing',\n",
       " 'work with database security tools',\n",
       " 'apply CPU/ PSU patch to various versions',\n",
       " 'handle very large databases',\n",
       " 'database 11 g',\n",
       " 'assist in management',\n",
       " 'participate in analysis',\n",
       " 'apply the Cluster ware',\n",
       " 'use o patch',\n",
       " 'utilize the new features',\n",
       " 'upgrade 11 g',\n",
       " 'register target Databases',\n",
       " 'work on Disaster Recovery by convert physical standby databases',\n",
       " 'perform installation',\n",
       " 'determine the best Cluster architecture',\n",
       " 'lead the effort',\n",
       " 'use Oracle Enterprise Manager( 12c) ..',\n",
       " 'work on import',\n",
       " 'recover Golden Gate corruptions',\n",
       " 'perform day',\n",
       " 'create users',\n",
       " 'maintain user accounts',\n",
       " 'relate to administration',\n",
       " 'write UNIX/ SHELL scripts',\n",
       " 'instal and configure Oracle 11 g database',\n",
       " 'migrate databases',\n",
       " 'perform disk',\n",
       " 'monitor Health checks',\n",
       " 'manage databases',\n",
       " 'perform day',\n",
       " 'work extensively on monitor grid control database',\n",
       " 'perform conversion',\n",
       " 'implement recovery strategies',\n",
       " 'use RMAN utility',\n",
       " 'create Users , Groups , Roles , Profiles and assign the users',\n",
       " 'maintain the data integrity',\n",
       " 'provide 24X7 support',\n",
       " 'run Installer\" and Perl base utility',\n",
       " \"implement Oracle's Transportable Tablespace( TTS) feature use Data pump\",\n",
       " 'implement data refreshes',\n",
       " 'use RMAN utility',\n",
       " 'perform migrations',\n",
       " 'upgrade the databases',\n",
       " 'migrate 12c',\n",
       " 'create Oracle Wallets and implement Tablespace level',\n",
       " 'monitor the performance',\n",
       " 'perform space management',\n",
       " 'create Physical Standby database use RMAN with zero downtime',\n",
       " 'perform data replication']"
      ]
     },
     "execution_count": 68,
     "metadata": {},
     "output_type": "execute_result"
    }
   ],
   "source": [
    "filtered_df.iloc[20,1]"
   ]
  },
  {
   "cell_type": "code",
   "execution_count": 106,
   "id": "6f865697",
   "metadata": {},
   "outputs": [],
   "source": [
    "# filtered_df.to_csv('exp_key_phrase.csv', index=False)\n",
    "# filtered_df.to_pickle(\"exp_key_phrase.pkl\")"
   ]
  },
  {
   "cell_type": "markdown",
   "id": "d1668f37",
   "metadata": {},
   "source": [
    "### Inner join the key activities with our earlier processed resume dataframe"
   ]
  },
  {
   "cell_type": "code",
   "execution_count": 69,
   "id": "240ef2ae",
   "metadata": {},
   "outputs": [],
   "source": [
    "merged_df_inner = resume_df.merge(filtered_df, left_on='index', right_on='index')"
   ]
  },
  {
   "cell_type": "markdown",
   "id": "7dcfde83",
   "metadata": {},
   "source": [
    "### Filter out any resume that is missing education or skill or job title or key activity"
   ]
  },
  {
   "cell_type": "code",
   "execution_count": 70,
   "id": "d30ffe5e",
   "metadata": {},
   "outputs": [],
   "source": [
    "# merged_df_inner\n",
    "# merged_df_inner[merged_df_inner['Resume - key activity'].apply(lambda x: len(x) == 0)]\n",
    "# merged_df_inner_clean = merged_df_inner[merged_df_inner['Education'].isnull() | merged_df_inner['Skill'].isnull() | merged_df_inner['Work Exp - Titles'].isnull() | merged_df_inner['Resume - key activity'].isnull()]\n",
    "\n",
    "merged_df_inner_clean = merged_df_inner[merged_df_inner['Education'].notnull() & merged_df_inner['Skill'].notnull() & merged_df_inner['Work Exp - Titles'].notnull() & merged_df_inner['Resume - key activity'].notnull()]"
   ]
  },
  {
   "cell_type": "code",
   "execution_count": 71,
   "id": "dd2a4547",
   "metadata": {},
   "outputs": [],
   "source": [
    "def split_by_comma(text):\n",
    "    return text.split(\",\")"
   ]
  },
  {
   "cell_type": "code",
   "execution_count": 72,
   "id": "75a17ba3",
   "metadata": {},
   "outputs": [],
   "source": [
    "merged_df_inner_clean = merged_df_inner_clean[~merged_df_inner_clean['Work Exp - Titles'].apply(lambda x: len(x) == 0)]"
   ]
  },
  {
   "cell_type": "code",
   "execution_count": 73,
   "id": "2a828d88",
   "metadata": {
    "scrolled": true
   },
   "outputs": [
    {
     "name": "stdout",
     "output_type": "stream",
     "text": [
      "                  Label_1  Count\n",
      "0  Database_Administrator   1937\n",
      "1     Front_End_Developer   1844\n",
      "2          Java_Developer   1976\n",
      "3   Network_Administrator   1550\n",
      "4         Project_manager   2501\n",
      "5        Python_Developer   1616\n",
      "6        Security_Analyst   1564\n",
      "7      Software_Developer   2802\n",
      "8   Systems_Administrator   3104\n",
      "9           Web_Developer   2842\n"
     ]
    }
   ],
   "source": [
    "count_df_clean = merged_df_inner_clean.groupby('Label_1').size().reset_index(name='Count')\n",
    "print(count_df_clean)"
   ]
  },
  {
   "cell_type": "markdown",
   "id": "b998b483",
   "metadata": {},
   "source": [
    "### Tokenize skill string"
   ]
  },
  {
   "cell_type": "code",
   "execution_count": 74,
   "id": "74e6bd17",
   "metadata": {},
   "outputs": [],
   "source": [
    "merged_df_inner_clean['Skill - list'] = merged_df_inner_clean['Skill'].apply(split_by_comma)"
   ]
  },
  {
   "cell_type": "code",
   "execution_count": 75,
   "id": "e6b57c45",
   "metadata": {},
   "outputs": [],
   "source": [
    "def trim_skill(skill_list):\n",
    "    filtered_strings = []\n",
    "    for string in skill_list:\n",
    "        string = re.sub(r'[^A-Za-z0-9\\.]*([A-Za-z0-9\\.\\s]+[\\w\\+\\#]+)[^A-Za-z0-9\\.]*', r'\\1', string)\n",
    "        filtered_strings.append(string)\n",
    "    return filtered_strings"
   ]
  },
  {
   "cell_type": "code",
   "execution_count": 76,
   "id": "6994f3b2",
   "metadata": {},
   "outputs": [],
   "source": [
    "merged_df_inner_clean['Skill - list'] = merged_df_inner_clean['Skill - list'].apply(trim_skill)"
   ]
  },
  {
   "cell_type": "code",
   "execution_count": 77,
   "id": "a83b550d",
   "metadata": {
    "scrolled": true
   },
   "outputs": [
    {
     "data": {
      "text/html": [
       "<div>\n",
       "<style scoped>\n",
       "    .dataframe tbody tr th:only-of-type {\n",
       "        vertical-align: middle;\n",
       "    }\n",
       "\n",
       "    .dataframe tbody tr th {\n",
       "        vertical-align: top;\n",
       "    }\n",
       "\n",
       "    .dataframe thead th {\n",
       "        text-align: right;\n",
       "    }\n",
       "</style>\n",
       "<table border=\"1\" class=\"dataframe\">\n",
       "  <thead>\n",
       "    <tr style=\"text-align: right;\">\n",
       "      <th></th>\n",
       "      <th>index</th>\n",
       "      <th>Resume</th>\n",
       "      <th>Label_1</th>\n",
       "      <th>Education</th>\n",
       "      <th>Skill</th>\n",
       "      <th>Work Exp - Titles</th>\n",
       "      <th>Work Exp - Titles with freq</th>\n",
       "      <th>Resume - sentence</th>\n",
       "      <th>Resume - key activity</th>\n",
       "      <th>Skill - list</th>\n",
       "    </tr>\n",
       "  </thead>\n",
       "  <tbody>\n",
       "    <tr>\n",
       "      <th>0</th>\n",
       "      <td>0</td>\n",
       "      <td>Database Administrator Database Administrator ...</td>\n",
       "      <td>Database_Administrator</td>\n",
       "      <td>Bachelor of Science Lead City University July ...</td>\n",
       "      <td>Database administration, Database, Ms sql ser...</td>\n",
       "      <td>[Database Administrator, Database Administrato...</td>\n",
       "      <td>[(Database Administrator, 6)]</td>\n",
       "      <td>[Database Administrator Database Administrator...</td>\n",
       "      <td>[motivate Production SQL Server Database Admin...</td>\n",
       "      <td>[Database administration, Database, Ms sql ser...</td>\n",
       "    </tr>\n",
       "    <tr>\n",
       "      <th>1</th>\n",
       "      <td>1</td>\n",
       "      <td>Database Administrator Database Administrator ...</td>\n",
       "      <td>Database_Administrator</td>\n",
       "      <td>bsc in computer science lagos state university...</td>\n",
       "      <td>SQL, Microsoft PowerPoint, Windows XP, Micros...</td>\n",
       "      <td>[Database Administrator, Database Administrato...</td>\n",
       "      <td>[(Database Administrator, 3)]</td>\n",
       "      <td>[Database Administrator Database Administrator...</td>\n",
       "      <td>[develop and maintain database, like to establ...</td>\n",
       "      <td>[SQL, Microsoft PowerPoint, Windows XP, Micros...</td>\n",
       "    </tr>\n",
       "    <tr>\n",
       "      <th>2</th>\n",
       "      <td>2</td>\n",
       "      <td>Oracle Database Administrator Oracle Database ...</td>\n",
       "      <td>Database_Administrator</td>\n",
       "      <td>Master of Computer Applications in Science and...</td>\n",
       "      <td>DATABASES, ORACLE, ORACLE 10G, SQL, LINUX, RM...</td>\n",
       "      <td>[Oracle Database Administrator, Oracle Databas...</td>\n",
       "      <td>[(Oracle Database Administrator, 5), (Oracle D...</td>\n",
       "      <td>[Oracle Database Administrator Oracle Database...</td>\n",
       "      <td>[obtain a Oracle DBA Position in a progressive...</td>\n",
       "      <td>[DATABASES, ORACLE, ORACLE 10G, SQL, LINUX, RM...</td>\n",
       "    </tr>\n",
       "    <tr>\n",
       "      <th>3</th>\n",
       "      <td>3</td>\n",
       "      <td>Amazon Redshift Administrator and ETL Develope...</td>\n",
       "      <td>Database_Administrator</td>\n",
       "      <td>Bachelor in Computer Science University of Inf...</td>\n",
       "      <td>SQL management, PostgresSQL, Oracle, MySQL, m...</td>\n",
       "      <td>[ETL Developer, ETL Developer, Business Intell...</td>\n",
       "      <td>[(ETL Developer, 3), (Database Administrator, ...</td>\n",
       "      <td>[Amazon Redshift Administrator and ETL Develop...</td>\n",
       "      <td>[work as database administrator, maintain mult...</td>\n",
       "      <td>[SQL management, PostgresSQL, Oracle, MySQL, m...</td>\n",
       "    </tr>\n",
       "    <tr>\n",
       "      <th>4</th>\n",
       "      <td>4</td>\n",
       "      <td>Scrum Master Scrum Master Scrum Master Richmon...</td>\n",
       "      <td>Database_Administrator</td>\n",
       "      <td>Virginia Commomwealth University - Richmond, V...</td>\n",
       "      <td>Oracle, Sql, Linux, Sun, Ux, Rman, Hp-ux, Rdb...</td>\n",
       "      <td>[Scrum Master, Scrum Master, Scrum Master, Scr...</td>\n",
       "      <td>[(Scrum Master, 7), (Oracle Database Administr...</td>\n",
       "      <td>[Scrum Master Scrum Master Scrum Master Richmo...</td>\n",
       "      <td>[organize and facilitate Scrum ceremonies, act...</td>\n",
       "      <td>[Oracle, Sql, Linux, Sun, Ux, Rman, Hpux, Rdbm...</td>\n",
       "    </tr>\n",
       "    <tr>\n",
       "      <th>...</th>\n",
       "      <td>...</td>\n",
       "      <td>...</td>\n",
       "      <td>...</td>\n",
       "      <td>...</td>\n",
       "      <td>...</td>\n",
       "      <td>...</td>\n",
       "      <td>...</td>\n",
       "      <td>...</td>\n",
       "      <td>...</td>\n",
       "      <td>...</td>\n",
       "    </tr>\n",
       "    <tr>\n",
       "      <th>28643</th>\n",
       "      <td>29777</td>\n",
       "      <td>Web Developer and Designer Web Developer and D...</td>\n",
       "      <td>Web_Developer</td>\n",
       "      <td>Web and Interactive Media Design Art Institute...</td>\n",
       "      <td>PHP, Javascript, MySQL, HTML 5, CSS3, JQuery,...</td>\n",
       "      <td>[Web Developer, Web Developer, Web Developer, ...</td>\n",
       "      <td>[(Web Developer, 5), (Full Stack Developer, 2)]</td>\n",
       "      <td>[Web Developer and Designer Web Developer and ...</td>\n",
       "      <td>[code my, spend my, work Experience Web, get t...</td>\n",
       "      <td>[PHP, Javascript, MySQL, HTML 5, CSS3, JQuery,...</td>\n",
       "    </tr>\n",
       "    <tr>\n",
       "      <th>28644</th>\n",
       "      <td>29778</td>\n",
       "      <td>ServiceNow Developer ServiceNow Developer Serv...</td>\n",
       "      <td>Java_Developer</td>\n",
       "      <td>Bachelor of Technology in Information Technolo...</td>\n",
       "      <td>C++, Html, Javascript, Perl, Scripting, Vbscr...</td>\n",
       "      <td>[Technology Analyst, Change Management, Change...</td>\n",
       "      <td>[(Change Management, 8), (Technology Analyst, ...</td>\n",
       "      <td>[ServiceNow Developer ServiceNow Developer Ser...</td>\n",
       "      <td>[implement end, avoid empty configuration item...</td>\n",
       "      <td>[C++, Html, Javascript, Perl, Scripting, Vbscr...</td>\n",
       "    </tr>\n",
       "    <tr>\n",
       "      <th>28646</th>\n",
       "      <td>29780</td>\n",
       "      <td>UI Developer UI Developer UI Developer - Cotiv...</td>\n",
       "      <td>Front_End_Developer</td>\n",
       "      <td>Master's</td>\n",
       "      <td>Visual studio, Git, Javascript, Bootstrap, D3.js</td>\n",
       "      <td>[UI Developer, UI Developer, UI Developer, Gra...</td>\n",
       "      <td>[(UI Developer, 7), (Graphic Designer, 1), (C ...</td>\n",
       "      <td>[UI Developer UI Developer UI Developer., Expe...</td>\n",
       "      <td>[architecte scalable platforms, code HTML, adh...</td>\n",
       "      <td>[Visual studio, Git, Javascript, Bootstrap, D3...</td>\n",
       "    </tr>\n",
       "    <tr>\n",
       "      <th>28647</th>\n",
       "      <td>29781</td>\n",
       "      <td>Web Developer Web Developer Los Angeles, CA Wo...</td>\n",
       "      <td>Web_Developer</td>\n",
       "      <td>Associate</td>\n",
       "      <td>Javascript, PHP, Front End, Wordpress</td>\n",
       "      <td>[Web Developer, Web Developer, Web Developer, ...</td>\n",
       "      <td>[(Web Developer, 3), (Education Associate, 1)]</td>\n",
       "      <td>[Web Developer Web Developer Los Angeles, CA W...</td>\n",
       "      <td>[employ September 2013 to July 2019, create de...</td>\n",
       "      <td>[Javascript, PHP, Front End, Wordpress]</td>\n",
       "    </tr>\n",
       "    <tr>\n",
       "      <th>28648</th>\n",
       "      <td>29782</td>\n",
       "      <td>Sr. Software Engineer Sr. Software Engineer Sr...</td>\n",
       "      <td>Software_Developer</td>\n",
       "      <td>High school or equivalent in Computer Networking</td>\n",
       "      <td>AWS, Linux, Javascript, Java, PHP, Apache, NG...</td>\n",
       "      <td>[Software Engineer, Software Engineer, Softwar...</td>\n",
       "      <td>[(Software Engineer, 4), (Web Developer, 3), (...</td>\n",
       "      <td>[Sr. Software Engineer Sr. Software Engineer S...</td>\n",
       "      <td>[authorize to work in the US for any employer,...</td>\n",
       "      <td>[AWS, Linux, Javascript, Java, PHP, Apache, NG...</td>\n",
       "    </tr>\n",
       "  </tbody>\n",
       "</table>\n",
       "<p>21736 rows × 10 columns</p>\n",
       "</div>"
      ],
      "text/plain": [
       "       index                                             Resume  \\\n",
       "0          0  Database Administrator Database Administrator ...   \n",
       "1          1  Database Administrator Database Administrator ...   \n",
       "2          2  Oracle Database Administrator Oracle Database ...   \n",
       "3          3  Amazon Redshift Administrator and ETL Develope...   \n",
       "4          4  Scrum Master Scrum Master Scrum Master Richmon...   \n",
       "...      ...                                                ...   \n",
       "28643  29777  Web Developer and Designer Web Developer and D...   \n",
       "28644  29778  ServiceNow Developer ServiceNow Developer Serv...   \n",
       "28646  29780  UI Developer UI Developer UI Developer - Cotiv...   \n",
       "28647  29781  Web Developer Web Developer Los Angeles, CA Wo...   \n",
       "28648  29782  Sr. Software Engineer Sr. Software Engineer Sr...   \n",
       "\n",
       "                      Label_1  \\\n",
       "0      Database_Administrator   \n",
       "1      Database_Administrator   \n",
       "2      Database_Administrator   \n",
       "3      Database_Administrator   \n",
       "4      Database_Administrator   \n",
       "...                       ...   \n",
       "28643           Web_Developer   \n",
       "28644          Java_Developer   \n",
       "28646     Front_End_Developer   \n",
       "28647           Web_Developer   \n",
       "28648      Software_Developer   \n",
       "\n",
       "                                               Education  \\\n",
       "0      Bachelor of Science Lead City University July ...   \n",
       "1      bsc in computer science lagos state university...   \n",
       "2      Master of Computer Applications in Science and...   \n",
       "3      Bachelor in Computer Science University of Inf...   \n",
       "4      Virginia Commomwealth University - Richmond, V...   \n",
       "...                                                  ...   \n",
       "28643  Web and Interactive Media Design Art Institute...   \n",
       "28644  Bachelor of Technology in Information Technolo...   \n",
       "28646                                           Master's   \n",
       "28647                                          Associate   \n",
       "28648   High school or equivalent in Computer Networking   \n",
       "\n",
       "                                                   Skill  \\\n",
       "0       Database administration, Database, Ms sql ser...   \n",
       "1       SQL, Microsoft PowerPoint, Windows XP, Micros...   \n",
       "2       DATABASES, ORACLE, ORACLE 10G, SQL, LINUX, RM...   \n",
       "3       SQL management, PostgresSQL, Oracle, MySQL, m...   \n",
       "4       Oracle, Sql, Linux, Sun, Ux, Rman, Hp-ux, Rdb...   \n",
       "...                                                  ...   \n",
       "28643   PHP, Javascript, MySQL, HTML 5, CSS3, JQuery,...   \n",
       "28644   C++, Html, Javascript, Perl, Scripting, Vbscr...   \n",
       "28646   Visual studio, Git, Javascript, Bootstrap, D3.js   \n",
       "28647              Javascript, PHP, Front End, Wordpress   \n",
       "28648   AWS, Linux, Javascript, Java, PHP, Apache, NG...   \n",
       "\n",
       "                                       Work Exp - Titles  \\\n",
       "0      [Database Administrator, Database Administrato...   \n",
       "1      [Database Administrator, Database Administrato...   \n",
       "2      [Oracle Database Administrator, Oracle Databas...   \n",
       "3      [ETL Developer, ETL Developer, Business Intell...   \n",
       "4      [Scrum Master, Scrum Master, Scrum Master, Scr...   \n",
       "...                                                  ...   \n",
       "28643  [Web Developer, Web Developer, Web Developer, ...   \n",
       "28644  [Technology Analyst, Change Management, Change...   \n",
       "28646  [UI Developer, UI Developer, UI Developer, Gra...   \n",
       "28647  [Web Developer, Web Developer, Web Developer, ...   \n",
       "28648  [Software Engineer, Software Engineer, Softwar...   \n",
       "\n",
       "                             Work Exp - Titles with freq  \\\n",
       "0                          [(Database Administrator, 6)]   \n",
       "1                          [(Database Administrator, 3)]   \n",
       "2      [(Oracle Database Administrator, 5), (Oracle D...   \n",
       "3      [(ETL Developer, 3), (Database Administrator, ...   \n",
       "4      [(Scrum Master, 7), (Oracle Database Administr...   \n",
       "...                                                  ...   \n",
       "28643    [(Web Developer, 5), (Full Stack Developer, 2)]   \n",
       "28644  [(Change Management, 8), (Technology Analyst, ...   \n",
       "28646  [(UI Developer, 7), (Graphic Designer, 1), (C ...   \n",
       "28647     [(Web Developer, 3), (Education Associate, 1)]   \n",
       "28648  [(Software Engineer, 4), (Web Developer, 3), (...   \n",
       "\n",
       "                                       Resume - sentence  \\\n",
       "0      [Database Administrator Database Administrator...   \n",
       "1      [Database Administrator Database Administrator...   \n",
       "2      [Oracle Database Administrator Oracle Database...   \n",
       "3      [Amazon Redshift Administrator and ETL Develop...   \n",
       "4      [Scrum Master Scrum Master Scrum Master Richmo...   \n",
       "...                                                  ...   \n",
       "28643  [Web Developer and Designer Web Developer and ...   \n",
       "28644  [ServiceNow Developer ServiceNow Developer Ser...   \n",
       "28646  [UI Developer UI Developer UI Developer., Expe...   \n",
       "28647  [Web Developer Web Developer Los Angeles, CA W...   \n",
       "28648  [Sr. Software Engineer Sr. Software Engineer S...   \n",
       "\n",
       "                                   Resume - key activity  \\\n",
       "0      [motivate Production SQL Server Database Admin...   \n",
       "1      [develop and maintain database, like to establ...   \n",
       "2      [obtain a Oracle DBA Position in a progressive...   \n",
       "3      [work as database administrator, maintain mult...   \n",
       "4      [organize and facilitate Scrum ceremonies, act...   \n",
       "...                                                  ...   \n",
       "28643  [code my, spend my, work Experience Web, get t...   \n",
       "28644  [implement end, avoid empty configuration item...   \n",
       "28646  [architecte scalable platforms, code HTML, adh...   \n",
       "28647  [employ September 2013 to July 2019, create de...   \n",
       "28648  [authorize to work in the US for any employer,...   \n",
       "\n",
       "                                            Skill - list  \n",
       "0      [Database administration, Database, Ms sql ser...  \n",
       "1      [SQL, Microsoft PowerPoint, Windows XP, Micros...  \n",
       "2      [DATABASES, ORACLE, ORACLE 10G, SQL, LINUX, RM...  \n",
       "3      [SQL management, PostgresSQL, Oracle, MySQL, m...  \n",
       "4      [Oracle, Sql, Linux, Sun, Ux, Rman, Hpux, Rdbm...  \n",
       "...                                                  ...  \n",
       "28643  [PHP, Javascript, MySQL, HTML 5, CSS3, JQuery,...  \n",
       "28644  [C++, Html, Javascript, Perl, Scripting, Vbscr...  \n",
       "28646  [Visual studio, Git, Javascript, Bootstrap, D3...  \n",
       "28647            [Javascript, PHP, Front End, Wordpress]  \n",
       "28648  [AWS, Linux, Javascript, Java, PHP, Apache, NG...  \n",
       "\n",
       "[21736 rows x 10 columns]"
      ]
     },
     "execution_count": 77,
     "metadata": {},
     "output_type": "execute_result"
    }
   ],
   "source": [
    "merged_df_inner_clean"
   ]
  },
  {
   "cell_type": "markdown",
   "id": "3bc2452d",
   "metadata": {},
   "source": [
    "### Extract degree from education"
   ]
  },
  {
   "cell_type": "code",
   "execution_count": 78,
   "id": "447fa95b",
   "metadata": {},
   "outputs": [],
   "source": [
    "degree_mapping = {\n",
    "    'ph\\.?d': 'PhD',\n",
    "    'masters?': 'Master',\n",
    "    'm\\.?\\s?(?:sc?|f?a|c?e(?:ng)?|s?ba|tech|cs|is|as)': 'Master',\n",
    "    'bachelors?': 'Bachelor',\n",
    "    'b\\.?\\s?(?:sc?|f?a|c?e(?:ng)?|s?ba|tech|cs|is|as)': 'Bachelor',\n",
    "    'associates?': 'Associate',\n",
    "    'a\\.?\\s?(?:sc?|f?a|c?e(?:ng)?|s?ba|tech|cs|is|as)': 'Associate',\n",
    "    'diploma': 'Diploma',\n",
    "    'certificate': 'Certificate',\n",
    "    'High school': 'High school'\n",
    "}"
   ]
  },
  {
   "cell_type": "code",
   "execution_count": 79,
   "id": "203b4665",
   "metadata": {},
   "outputs": [],
   "source": [
    "def extract_degree(text):\n",
    "    for degree, label in degree_mapping.items():\n",
    "        if re.search(r'\\b{}\\b'.format(degree), text, re.IGNORECASE):\n",
    "            return label\n",
    "    return None"
   ]
  },
  {
   "cell_type": "code",
   "execution_count": 80,
   "id": "08850dac",
   "metadata": {},
   "outputs": [
    {
     "data": {
      "text/plain": [
       "'Associate'"
      ]
     },
     "execution_count": 80,
     "metadata": {},
     "output_type": "execute_result"
    }
   ],
   "source": [
    "text = \"A.A.S. in Information Systems Technical Support Specialization Northern Virginia Communit\"\n",
    "extract_degree(text)"
   ]
  },
  {
   "cell_type": "code",
   "execution_count": 81,
   "id": "64c50949",
   "metadata": {},
   "outputs": [],
   "source": [
    "duplicates = merged_df_inner_clean[merged_df_inner_clean.duplicated(subset=['Resume'])]\n"
   ]
  },
  {
   "cell_type": "code",
   "execution_count": 82,
   "id": "7c4e73f0",
   "metadata": {},
   "outputs": [],
   "source": [
    "merged_df_inner_clean.drop_duplicates(subset=['Resume'], inplace=True)"
   ]
  },
  {
   "cell_type": "code",
   "execution_count": 83,
   "id": "6ca75795",
   "metadata": {},
   "outputs": [],
   "source": [
    "merged_df_inner_clean['Education - degree'] = merged_df_inner_clean['Education'].apply(extract_degree)"
   ]
  },
  {
   "cell_type": "code",
   "execution_count": 84,
   "id": "e841f9a4",
   "metadata": {},
   "outputs": [
    {
     "name": "stdout",
     "output_type": "stream",
     "text": [
      "  Education - degree  Count\n",
      "0          Associate   1842\n",
      "1           Bachelor  10192\n",
      "2        Certificate    179\n",
      "3            Diploma    410\n",
      "4        High school    765\n",
      "5             Master   5705\n",
      "6                PhD     66\n"
     ]
    }
   ],
   "source": [
    "count_degree = merged_df_inner_clean.groupby('Education - degree').size().reset_index(name='Count')\n",
    "print(count_degree)"
   ]
  },
  {
   "cell_type": "code",
   "execution_count": 85,
   "id": "4d4b3df1",
   "metadata": {},
   "outputs": [],
   "source": [
    "df_clean_full = merged_df_inner_clean[merged_df_inner_clean['Education - degree'].notnull()]"
   ]
  },
  {
   "cell_type": "code",
   "execution_count": 86,
   "id": "4bab295c",
   "metadata": {},
   "outputs": [],
   "source": [
    "no_degree = merged_df_inner_clean[merged_df_inner_clean['Education - degree'].isnull()] #1964\n"
   ]
  },
  {
   "cell_type": "code",
   "execution_count": 87,
   "id": "75a0a73c",
   "metadata": {},
   "outputs": [],
   "source": [
    "# df_clean_full.to_csv('output.csv', index=False)"
   ]
  },
  {
   "cell_type": "code",
   "execution_count": 88,
   "id": "a698884b",
   "metadata": {},
   "outputs": [],
   "source": [
    "# df_clean_full.to_pickle(\"output.pkl\")"
   ]
  },
  {
   "cell_type": "markdown",
   "id": "d16f6d2d",
   "metadata": {},
   "source": [
    "### Final dataframe\n",
    "A few rows parsed incorrectly during export to csv, manully deleted it in csv"
   ]
  },
  {
   "cell_type": "code",
   "execution_count": 72,
   "id": "df57114f",
   "metadata": {},
   "outputs": [],
   "source": [
    "converters = {'Work Exp - Titles with freq': eval,\n",
    "              'Work Exp - Titles': eval,\n",
    "              'Resume - sentence': eval,\n",
    "              'Resume - key activity': eval,\n",
    "              'Skill - list': eval\n",
    "}\n",
    "\n",
    "df_clean = pd.read_csv('./output.csv', converters=converters)"
   ]
  },
  {
   "cell_type": "code",
   "execution_count": 73,
   "id": "f0f5ca05",
   "metadata": {},
   "outputs": [
    {
     "name": "stdout",
     "output_type": "stream",
     "text": [
      "  Education - degree  Count\n",
      "0          Associate   1842\n",
      "1           Bachelor  10185\n",
      "2        Certificate    179\n",
      "3            Diploma    410\n",
      "4        High school    764\n",
      "5             Master   5698\n",
      "6                PhD     66\n"
     ]
    }
   ],
   "source": [
    "count_degree = df_clean.groupby('Education - degree').size().reset_index(name='Count')\n",
    "print(count_degree)"
   ]
  },
  {
   "cell_type": "code",
   "execution_count": 75,
   "id": "05d97506",
   "metadata": {},
   "outputs": [
    {
     "name": "stdout",
     "output_type": "stream",
     "text": [
      "                  Label_1  Count\n",
      "0  Database_Administrator   1745\n",
      "1     Front_End_Developer   1623\n",
      "2          Java_Developer   1827\n",
      "3   Network_Administrator   1341\n",
      "4         Project_manager   2201\n",
      "5        Python_Developer   1509\n",
      "6        Security_Analyst   1403\n",
      "7      Software_Developer   2507\n",
      "8   Systems_Administrator   2541\n",
      "9           Web_Developer   2447\n"
     ]
    }
   ],
   "source": [
    "count_classification = df_clean.groupby('Label_1').size().reset_index(name='Count')\n",
    "print(count_classification)"
   ]
  },
  {
   "cell_type": "code",
   "execution_count": 74,
   "id": "f64823f3",
   "metadata": {},
   "outputs": [
    {
     "data": {
      "text/html": [
       "<div>\n",
       "<style scoped>\n",
       "    .dataframe tbody tr th:only-of-type {\n",
       "        vertical-align: middle;\n",
       "    }\n",
       "\n",
       "    .dataframe tbody tr th {\n",
       "        vertical-align: top;\n",
       "    }\n",
       "\n",
       "    .dataframe thead th {\n",
       "        text-align: right;\n",
       "    }\n",
       "</style>\n",
       "<table border=\"1\" class=\"dataframe\">\n",
       "  <thead>\n",
       "    <tr style=\"text-align: right;\">\n",
       "      <th></th>\n",
       "      <th>index</th>\n",
       "      <th>Resume</th>\n",
       "      <th>Label_1</th>\n",
       "      <th>Education</th>\n",
       "      <th>Skill</th>\n",
       "      <th>Work Exp - Titles with freq</th>\n",
       "      <th>Work Exp - Titles</th>\n",
       "      <th>Resume - sentence</th>\n",
       "      <th>Resume - key activity</th>\n",
       "      <th>Skill - list</th>\n",
       "      <th>Education - degree</th>\n",
       "    </tr>\n",
       "  </thead>\n",
       "  <tbody>\n",
       "    <tr>\n",
       "      <th>0</th>\n",
       "      <td>0</td>\n",
       "      <td>Database Administrator Database Administrator ...</td>\n",
       "      <td>Database_Administrator</td>\n",
       "      <td>Bachelor of Science Lead City University July ...</td>\n",
       "      <td>Database administration, Database, Ms sql ser...</td>\n",
       "      <td>[(Database Administrator, 6)]</td>\n",
       "      <td>[Database Administrator]</td>\n",
       "      <td>[Database Administrator Database Administrator...</td>\n",
       "      <td>[motivate Production SQL Server Database Admin...</td>\n",
       "      <td>[Database administration, Database, Ms sql ser...</td>\n",
       "      <td>Bachelor</td>\n",
       "    </tr>\n",
       "    <tr>\n",
       "      <th>1</th>\n",
       "      <td>1</td>\n",
       "      <td>Database Administrator Database Administrator ...</td>\n",
       "      <td>Database_Administrator</td>\n",
       "      <td>bsc in computer science lagos state university...</td>\n",
       "      <td>SQL, Microsoft PowerPoint, Windows XP, Micros...</td>\n",
       "      <td>[(Database Administrator, 3)]</td>\n",
       "      <td>[Database Administrator]</td>\n",
       "      <td>[Database Administrator Database Administrator...</td>\n",
       "      <td>[develop and maintain database, like to establ...</td>\n",
       "      <td>[SQL, Microsoft PowerPoint, Windows XP, Micros...</td>\n",
       "      <td>Bachelor</td>\n",
       "    </tr>\n",
       "    <tr>\n",
       "      <th>2</th>\n",
       "      <td>2</td>\n",
       "      <td>Oracle Database Administrator Oracle Database ...</td>\n",
       "      <td>Database_Administrator</td>\n",
       "      <td>Master of Computer Applications in Science and...</td>\n",
       "      <td>DATABASES, ORACLE, ORACLE 10G, SQL, LINUX, RM...</td>\n",
       "      <td>[(Oracle Database Administrator, 5), (Oracle D...</td>\n",
       "      <td>[Oracle Database Administrator, Oracle DBA]</td>\n",
       "      <td>[Oracle Database Administrator Oracle Database...</td>\n",
       "      <td>[obtain a Oracle DBA Position in a progressive...</td>\n",
       "      <td>[DATABASES, ORACLE, ORACLE 10G, SQL, LINUX, RM...</td>\n",
       "      <td>Master</td>\n",
       "    </tr>\n",
       "    <tr>\n",
       "      <th>3</th>\n",
       "      <td>3</td>\n",
       "      <td>Amazon Redshift Administrator and ETL Develope...</td>\n",
       "      <td>Database_Administrator</td>\n",
       "      <td>Bachelor in Computer Science University of Inf...</td>\n",
       "      <td>SQL management, PostgresSQL, Oracle, MySQL, m...</td>\n",
       "      <td>[(ETL Developer, 3), (Database Administrator, ...</td>\n",
       "      <td>[ETL Developer, Database Administrator, Busine...</td>\n",
       "      <td>[Amazon Redshift Administrator and ETL Develop...</td>\n",
       "      <td>[work as database administrator, maintain mult...</td>\n",
       "      <td>[SQL management, PostgresSQL, Oracle, MySQL, m...</td>\n",
       "      <td>Bachelor</td>\n",
       "    </tr>\n",
       "    <tr>\n",
       "      <th>4</th>\n",
       "      <td>7</td>\n",
       "      <td>Lead Database Administrator/Developer Lead Dat...</td>\n",
       "      <td>Database_Administrator</td>\n",
       "      <td>Bachelor's Degree in BiologyChem / Computer Sc...</td>\n",
       "      <td>Databases, Database Administration, Database ...</td>\n",
       "      <td>[(Lead Database Administrator, 4), (Database A...</td>\n",
       "      <td>[Lead Database Administrator, Database Adminis...</td>\n",
       "      <td>[Lead Database Administrator/Developer Lead Da...</td>\n",
       "      <td>[authorize to work in the US for any employer ...</td>\n",
       "      <td>[Databases, Database Administration, Database ...</td>\n",
       "      <td>Bachelor</td>\n",
       "    </tr>\n",
       "    <tr>\n",
       "      <th>...</th>\n",
       "      <td>...</td>\n",
       "      <td>...</td>\n",
       "      <td>...</td>\n",
       "      <td>...</td>\n",
       "      <td>...</td>\n",
       "      <td>...</td>\n",
       "      <td>...</td>\n",
       "      <td>...</td>\n",
       "      <td>...</td>\n",
       "      <td>...</td>\n",
       "      <td>...</td>\n",
       "    </tr>\n",
       "    <tr>\n",
       "      <th>19139</th>\n",
       "      <td>29776</td>\n",
       "      <td>WordPress Developer/ Web Designer (Free-lancer...</td>\n",
       "      <td>Web_Developer</td>\n",
       "      <td>Associate of Applied Science in Computer Progr...</td>\n",
       "      <td>PHP, Javascript, MySQL, Wordpress, CSS3, JQue...</td>\n",
       "      <td>[(Web Designer, 5), (WordPress Developer, 4), ...</td>\n",
       "      <td>[Web Designer, WordPress Developer, Web Develo...</td>\n",
       "      <td>[WordPress Developer/ Web Designer (Free-lance...</td>\n",
       "      <td>[obtain a position, work on a range, develop a...</td>\n",
       "      <td>[PHP, Javascript, MySQL, Wordpress, CSS3, JQue...</td>\n",
       "      <td>Associate</td>\n",
       "    </tr>\n",
       "    <tr>\n",
       "      <th>19140</th>\n",
       "      <td>29778</td>\n",
       "      <td>ServiceNow Developer ServiceNow Developer Serv...</td>\n",
       "      <td>Java_Developer</td>\n",
       "      <td>Bachelor of Technology in Information Technolo...</td>\n",
       "      <td>C++, Html, Javascript, Perl, Scripting, Vbscr...</td>\n",
       "      <td>[(Change Management, 8), (Technology Analyst, ...</td>\n",
       "      <td>[Change Management, Technology Analyst, Web De...</td>\n",
       "      <td>[ServiceNow Developer ServiceNow Developer Ser...</td>\n",
       "      <td>[implement end, avoid empty configuration item...</td>\n",
       "      <td>[C++, Html, Javascript, Perl, Scripting, Vbscr...</td>\n",
       "      <td>Bachelor</td>\n",
       "    </tr>\n",
       "    <tr>\n",
       "      <th>19141</th>\n",
       "      <td>29780</td>\n",
       "      <td>UI Developer UI Developer UI Developer - Cotiv...</td>\n",
       "      <td>Front_End_Developer</td>\n",
       "      <td>Master's</td>\n",
       "      <td>Visual studio, Git, Javascript, Bootstrap, D3.js</td>\n",
       "      <td>[(UI Developer, 7), (Graphic Designer, 1), (C ...</td>\n",
       "      <td>[UI Developer, Graphic Designer, C Architect, ...</td>\n",
       "      <td>[UI Developer UI Developer UI Developer., Expe...</td>\n",
       "      <td>[architecte scalable platforms, code HTML, adh...</td>\n",
       "      <td>[Visual studio, Git, Javascript, Bootstrap, D3...</td>\n",
       "      <td>Master</td>\n",
       "    </tr>\n",
       "    <tr>\n",
       "      <th>19142</th>\n",
       "      <td>29781</td>\n",
       "      <td>Web Developer Web Developer Los Angeles, CA Wo...</td>\n",
       "      <td>Web_Developer</td>\n",
       "      <td>Associate</td>\n",
       "      <td>Javascript, PHP, Front End, Wordpress</td>\n",
       "      <td>[(Web Developer, 3), (Education Associate, 1)]</td>\n",
       "      <td>[Web Developer, Education Associate]</td>\n",
       "      <td>[Web Developer Web Developer Los Angeles, CA W...</td>\n",
       "      <td>[employ September 2013 to July 2019, create de...</td>\n",
       "      <td>[Javascript, PHP, Front End, Wordpress]</td>\n",
       "      <td>Associate</td>\n",
       "    </tr>\n",
       "    <tr>\n",
       "      <th>19143</th>\n",
       "      <td>29782</td>\n",
       "      <td>Sr. Software Engineer Sr. Software Engineer Sr...</td>\n",
       "      <td>Software_Developer</td>\n",
       "      <td>High school or equivalent in Computer Networking</td>\n",
       "      <td>AWS, Linux, Javascript, Java, PHP, Apache, NG...</td>\n",
       "      <td>[(Software Engineer, 4), (Web Developer, 3), (...</td>\n",
       "      <td>[Software Engineer, Web Developer, Lead Web De...</td>\n",
       "      <td>[Sr. Software Engineer Sr. Software Engineer S...</td>\n",
       "      <td>[authorize to work in the US for any employer,...</td>\n",
       "      <td>[AWS, Linux, Javascript, Java, PHP, Apache, NG...</td>\n",
       "      <td>High school</td>\n",
       "    </tr>\n",
       "  </tbody>\n",
       "</table>\n",
       "<p>19144 rows × 11 columns</p>\n",
       "</div>"
      ],
      "text/plain": [
       "       index                                             Resume  \\\n",
       "0          0  Database Administrator Database Administrator ...   \n",
       "1          1  Database Administrator Database Administrator ...   \n",
       "2          2  Oracle Database Administrator Oracle Database ...   \n",
       "3          3  Amazon Redshift Administrator and ETL Develope...   \n",
       "4          7  Lead Database Administrator/Developer Lead Dat...   \n",
       "...      ...                                                ...   \n",
       "19139  29776  WordPress Developer/ Web Designer (Free-lancer...   \n",
       "19140  29778  ServiceNow Developer ServiceNow Developer Serv...   \n",
       "19141  29780  UI Developer UI Developer UI Developer - Cotiv...   \n",
       "19142  29781  Web Developer Web Developer Los Angeles, CA Wo...   \n",
       "19143  29782  Sr. Software Engineer Sr. Software Engineer Sr...   \n",
       "\n",
       "                      Label_1  \\\n",
       "0      Database_Administrator   \n",
       "1      Database_Administrator   \n",
       "2      Database_Administrator   \n",
       "3      Database_Administrator   \n",
       "4      Database_Administrator   \n",
       "...                       ...   \n",
       "19139           Web_Developer   \n",
       "19140          Java_Developer   \n",
       "19141     Front_End_Developer   \n",
       "19142           Web_Developer   \n",
       "19143      Software_Developer   \n",
       "\n",
       "                                               Education  \\\n",
       "0      Bachelor of Science Lead City University July ...   \n",
       "1      bsc in computer science lagos state university...   \n",
       "2      Master of Computer Applications in Science and...   \n",
       "3      Bachelor in Computer Science University of Inf...   \n",
       "4      Bachelor's Degree in BiologyChem / Computer Sc...   \n",
       "...                                                  ...   \n",
       "19139  Associate of Applied Science in Computer Progr...   \n",
       "19140  Bachelor of Technology in Information Technolo...   \n",
       "19141                                           Master's   \n",
       "19142                                          Associate   \n",
       "19143   High school or equivalent in Computer Networking   \n",
       "\n",
       "                                                   Skill  \\\n",
       "0       Database administration, Database, Ms sql ser...   \n",
       "1       SQL, Microsoft PowerPoint, Windows XP, Micros...   \n",
       "2       DATABASES, ORACLE, ORACLE 10G, SQL, LINUX, RM...   \n",
       "3       SQL management, PostgresSQL, Oracle, MySQL, m...   \n",
       "4       Databases, Database Administration, Database ...   \n",
       "...                                                  ...   \n",
       "19139   PHP, Javascript, MySQL, Wordpress, CSS3, JQue...   \n",
       "19140   C++, Html, Javascript, Perl, Scripting, Vbscr...   \n",
       "19141   Visual studio, Git, Javascript, Bootstrap, D3.js   \n",
       "19142              Javascript, PHP, Front End, Wordpress   \n",
       "19143   AWS, Linux, Javascript, Java, PHP, Apache, NG...   \n",
       "\n",
       "                             Work Exp - Titles with freq  \\\n",
       "0                          [(Database Administrator, 6)]   \n",
       "1                          [(Database Administrator, 3)]   \n",
       "2      [(Oracle Database Administrator, 5), (Oracle D...   \n",
       "3      [(ETL Developer, 3), (Database Administrator, ...   \n",
       "4      [(Lead Database Administrator, 4), (Database A...   \n",
       "...                                                  ...   \n",
       "19139  [(Web Designer, 5), (WordPress Developer, 4), ...   \n",
       "19140  [(Change Management, 8), (Technology Analyst, ...   \n",
       "19141  [(UI Developer, 7), (Graphic Designer, 1), (C ...   \n",
       "19142     [(Web Developer, 3), (Education Associate, 1)]   \n",
       "19143  [(Software Engineer, 4), (Web Developer, 3), (...   \n",
       "\n",
       "                                       Work Exp - Titles  \\\n",
       "0                               [Database Administrator]   \n",
       "1                               [Database Administrator]   \n",
       "2            [Oracle Database Administrator, Oracle DBA]   \n",
       "3      [ETL Developer, Database Administrator, Busine...   \n",
       "4      [Lead Database Administrator, Database Adminis...   \n",
       "...                                                  ...   \n",
       "19139  [Web Designer, WordPress Developer, Web Develo...   \n",
       "19140  [Change Management, Technology Analyst, Web De...   \n",
       "19141  [UI Developer, Graphic Designer, C Architect, ...   \n",
       "19142               [Web Developer, Education Associate]   \n",
       "19143  [Software Engineer, Web Developer, Lead Web De...   \n",
       "\n",
       "                                       Resume - sentence  \\\n",
       "0      [Database Administrator Database Administrator...   \n",
       "1      [Database Administrator Database Administrator...   \n",
       "2      [Oracle Database Administrator Oracle Database...   \n",
       "3      [Amazon Redshift Administrator and ETL Develop...   \n",
       "4      [Lead Database Administrator/Developer Lead Da...   \n",
       "...                                                  ...   \n",
       "19139  [WordPress Developer/ Web Designer (Free-lance...   \n",
       "19140  [ServiceNow Developer ServiceNow Developer Ser...   \n",
       "19141  [UI Developer UI Developer UI Developer., Expe...   \n",
       "19142  [Web Developer Web Developer Los Angeles, CA W...   \n",
       "19143  [Sr. Software Engineer Sr. Software Engineer S...   \n",
       "\n",
       "                                   Resume - key activity  \\\n",
       "0      [motivate Production SQL Server Database Admin...   \n",
       "1      [develop and maintain database, like to establ...   \n",
       "2      [obtain a Oracle DBA Position in a progressive...   \n",
       "3      [work as database administrator, maintain mult...   \n",
       "4      [authorize to work in the US for any employer ...   \n",
       "...                                                  ...   \n",
       "19139  [obtain a position, work on a range, develop a...   \n",
       "19140  [implement end, avoid empty configuration item...   \n",
       "19141  [architecte scalable platforms, code HTML, adh...   \n",
       "19142  [employ September 2013 to July 2019, create de...   \n",
       "19143  [authorize to work in the US for any employer,...   \n",
       "\n",
       "                                            Skill - list Education - degree  \n",
       "0      [Database administration, Database, Ms sql ser...           Bachelor  \n",
       "1      [SQL, Microsoft PowerPoint, Windows XP, Micros...           Bachelor  \n",
       "2      [DATABASES, ORACLE, ORACLE 10G, SQL, LINUX, RM...             Master  \n",
       "3      [SQL management, PostgresSQL, Oracle, MySQL, m...           Bachelor  \n",
       "4      [Databases, Database Administration, Database ...           Bachelor  \n",
       "...                                                  ...                ...  \n",
       "19139  [PHP, Javascript, MySQL, Wordpress, CSS3, JQue...          Associate  \n",
       "19140  [C++, Html, Javascript, Perl, Scripting, Vbscr...           Bachelor  \n",
       "19141  [Visual studio, Git, Javascript, Bootstrap, D3...             Master  \n",
       "19142            [Javascript, PHP, Front End, Wordpress]          Associate  \n",
       "19143  [AWS, Linux, Javascript, Java, PHP, Apache, NG...        High school  \n",
       "\n",
       "[19144 rows x 11 columns]"
      ]
     },
     "execution_count": 74,
     "metadata": {},
     "output_type": "execute_result"
    }
   ],
   "source": [
    "df_clean"
   ]
  },
  {
   "cell_type": "markdown",
   "id": "5f9c4079",
   "metadata": {},
   "source": [
    "##"
   ]
  }
 ],
 "metadata": {
  "kernelspec": {
   "display_name": "Python 3 (ipykernel)",
   "language": "python",
   "name": "python3"
  },
  "language_info": {
   "codemirror_mode": {
    "name": "ipython",
    "version": 3
   },
   "file_extension": ".py",
   "mimetype": "text/x-python",
   "name": "python",
   "nbconvert_exporter": "python",
   "pygments_lexer": "ipython3",
   "version": "3.10.7"
  }
 },
 "nbformat": 4,
 "nbformat_minor": 5
}
