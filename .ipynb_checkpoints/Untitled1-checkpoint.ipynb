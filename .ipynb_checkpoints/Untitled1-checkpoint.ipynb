{
 "cells": [
  {
   "cell_type": "code",
   "execution_count": 1,
   "id": "089138f7",
   "metadata": {},
   "outputs": [],
   "source": [
    "import pandas as pd\n",
    "import tensorflow as tf\n",
    "import tensorflow_hub as hub\n",
    "import tensorflow_text as text"
   ]
  },
  {
   "cell_type": "code",
   "execution_count": 2,
   "id": "29cc1483",
   "metadata": {},
   "outputs": [],
   "source": [
    "# converters = {'Work Exp - Titles with freq': eval,\n",
    "#               'Work Exp - Titles': eval,\n",
    "#               'Resume - sentence': eval,\n",
    "#               'Resume - key activity': eval,\n",
    "#               'Skill - list': eval\n",
    "# }\n",
    "# # resume_df = pd.read_csv('experience_sentence_tuple.csv', converters=converters)\n",
    "# df = pd.read_csv('./output.csv', converters=converters)"
   ]
  },
  {
   "cell_type": "code",
   "execution_count": 2,
   "id": "c1d5b522",
   "metadata": {},
   "outputs": [],
   "source": [
    "df = pd.read_pickle('./output.pkl')"
   ]
  },
  {
   "cell_type": "code",
   "execution_count": 3,
   "id": "bfd3c957",
   "metadata": {
    "scrolled": true
   },
   "outputs": [
    {
     "data": {
      "text/html": [
       "<div>\n",
       "<style scoped>\n",
       "    .dataframe tbody tr th:only-of-type {\n",
       "        vertical-align: middle;\n",
       "    }\n",
       "\n",
       "    .dataframe tbody tr th {\n",
       "        vertical-align: top;\n",
       "    }\n",
       "\n",
       "    .dataframe thead th {\n",
       "        text-align: right;\n",
       "    }\n",
       "</style>\n",
       "<table border=\"1\" class=\"dataframe\">\n",
       "  <thead>\n",
       "    <tr style=\"text-align: right;\">\n",
       "      <th></th>\n",
       "      <th>index</th>\n",
       "      <th>Resume</th>\n",
       "      <th>Label_1</th>\n",
       "      <th>Education</th>\n",
       "      <th>Skill</th>\n",
       "      <th>Work Exp - Titles</th>\n",
       "      <th>Work Exp - Titles with freq</th>\n",
       "      <th>Resume - sentence</th>\n",
       "      <th>Resume - key activity</th>\n",
       "      <th>Skill - list</th>\n",
       "      <th>Education - degree</th>\n",
       "    </tr>\n",
       "  </thead>\n",
       "  <tbody>\n",
       "    <tr>\n",
       "      <th>0</th>\n",
       "      <td>0</td>\n",
       "      <td>Database Administrator Database Administrator ...</td>\n",
       "      <td>Database_Administrator</td>\n",
       "      <td>Bachelor of Science Lead City University July ...</td>\n",
       "      <td>Database administration, Database, Ms sql ser...</td>\n",
       "      <td>[Database Administrator, Database Administrato...</td>\n",
       "      <td>[(Database Administrator, 6)]</td>\n",
       "      <td>[Database Administrator Database Administrator...</td>\n",
       "      <td>[motivate Production SQL Server Database Admin...</td>\n",
       "      <td>[Database administration, Database, Ms sql ser...</td>\n",
       "      <td>Bachelor</td>\n",
       "    </tr>\n",
       "    <tr>\n",
       "      <th>1</th>\n",
       "      <td>1</td>\n",
       "      <td>Database Administrator Database Administrator ...</td>\n",
       "      <td>Database_Administrator</td>\n",
       "      <td>bsc in computer science lagos state university...</td>\n",
       "      <td>SQL, Microsoft PowerPoint, Windows XP, Micros...</td>\n",
       "      <td>[Database Administrator, Database Administrato...</td>\n",
       "      <td>[(Database Administrator, 3)]</td>\n",
       "      <td>[Database Administrator Database Administrator...</td>\n",
       "      <td>[develop and maintain database, like to establ...</td>\n",
       "      <td>[SQL, Microsoft PowerPoint, Windows XP, Micros...</td>\n",
       "      <td>Bachelor</td>\n",
       "    </tr>\n",
       "    <tr>\n",
       "      <th>2</th>\n",
       "      <td>2</td>\n",
       "      <td>Oracle Database Administrator Oracle Database ...</td>\n",
       "      <td>Database_Administrator</td>\n",
       "      <td>Master of Computer Applications in Science and...</td>\n",
       "      <td>DATABASES, ORACLE, ORACLE 10G, SQL, LINUX, RM...</td>\n",
       "      <td>[Oracle Database Administrator, Oracle Databas...</td>\n",
       "      <td>[(Oracle Database Administrator, 5), (Oracle D...</td>\n",
       "      <td>[Oracle Database Administrator Oracle Database...</td>\n",
       "      <td>[obtain a Oracle DBA Position in a progressive...</td>\n",
       "      <td>[DATABASES, ORACLE, ORACLE 10G, SQL, LINUX, RM...</td>\n",
       "      <td>Master</td>\n",
       "    </tr>\n",
       "    <tr>\n",
       "      <th>3</th>\n",
       "      <td>3</td>\n",
       "      <td>Amazon Redshift Administrator and ETL Develope...</td>\n",
       "      <td>Database_Administrator</td>\n",
       "      <td>Bachelor in Computer Science University of Inf...</td>\n",
       "      <td>SQL management, PostgresSQL, Oracle, MySQL, m...</td>\n",
       "      <td>[ETL Developer, ETL Developer, Business Intell...</td>\n",
       "      <td>[(ETL Developer, 3), (Database Administrator, ...</td>\n",
       "      <td>[Amazon Redshift Administrator and ETL Develop...</td>\n",
       "      <td>[work as database administrator, maintain mult...</td>\n",
       "      <td>[SQL management, PostgresSQL, Oracle, MySQL, m...</td>\n",
       "      <td>Bachelor</td>\n",
       "    </tr>\n",
       "    <tr>\n",
       "      <th>7</th>\n",
       "      <td>7</td>\n",
       "      <td>Lead Database Administrator/Developer Lead Dat...</td>\n",
       "      <td>Database_Administrator</td>\n",
       "      <td>Bachelor's Degree in BiologyChem / Computer Sc...</td>\n",
       "      <td>Databases, Database Administration, Database ...</td>\n",
       "      <td>[Lead Database Administrator, Lead Database Ad...</td>\n",
       "      <td>[(Lead Database Administrator, 4), (Database A...</td>\n",
       "      <td>[Lead Database Administrator/Developer Lead Da...</td>\n",
       "      <td>[authorize to work in the US for any employer ...</td>\n",
       "      <td>[Databases, Database Administration, Database ...</td>\n",
       "      <td>Bachelor</td>\n",
       "    </tr>\n",
       "    <tr>\n",
       "      <th>...</th>\n",
       "      <td>...</td>\n",
       "      <td>...</td>\n",
       "      <td>...</td>\n",
       "      <td>...</td>\n",
       "      <td>...</td>\n",
       "      <td>...</td>\n",
       "      <td>...</td>\n",
       "      <td>...</td>\n",
       "      <td>...</td>\n",
       "      <td>...</td>\n",
       "      <td>...</td>\n",
       "    </tr>\n",
       "    <tr>\n",
       "      <th>28642</th>\n",
       "      <td>29776</td>\n",
       "      <td>WordPress Developer/ Web Designer (Free-lancer...</td>\n",
       "      <td>Web_Developer</td>\n",
       "      <td>Associate of Applied Science in Computer Progr...</td>\n",
       "      <td>PHP, Javascript, MySQL, Wordpress, CSS3, JQue...</td>\n",
       "      <td>[WordPress Developer, Web Designer, WordPress ...</td>\n",
       "      <td>[(Web Designer, 5), (WordPress Developer, 4), ...</td>\n",
       "      <td>[WordPress Developer/ Web Designer (Free-lance...</td>\n",
       "      <td>[obtain a position, work on a range, develop a...</td>\n",
       "      <td>[PHP, Javascript, MySQL, Wordpress, CSS3, JQue...</td>\n",
       "      <td>Associate</td>\n",
       "    </tr>\n",
       "    <tr>\n",
       "      <th>28644</th>\n",
       "      <td>29778</td>\n",
       "      <td>ServiceNow Developer ServiceNow Developer Serv...</td>\n",
       "      <td>Java_Developer</td>\n",
       "      <td>Bachelor of Technology in Information Technolo...</td>\n",
       "      <td>C++, Html, Javascript, Perl, Scripting, Vbscr...</td>\n",
       "      <td>[Technology Analyst, Change Management, Change...</td>\n",
       "      <td>[(Change Management, 8), (Technology Analyst, ...</td>\n",
       "      <td>[ServiceNow Developer ServiceNow Developer Ser...</td>\n",
       "      <td>[implement end, avoid empty configuration item...</td>\n",
       "      <td>[C++, Html, Javascript, Perl, Scripting, Vbscr...</td>\n",
       "      <td>Bachelor</td>\n",
       "    </tr>\n",
       "    <tr>\n",
       "      <th>28646</th>\n",
       "      <td>29780</td>\n",
       "      <td>UI Developer UI Developer UI Developer - Cotiv...</td>\n",
       "      <td>Front_End_Developer</td>\n",
       "      <td>Master's</td>\n",
       "      <td>Visual studio, Git, Javascript, Bootstrap, D3.js</td>\n",
       "      <td>[UI Developer, UI Developer, UI Developer, Gra...</td>\n",
       "      <td>[(UI Developer, 7), (Graphic Designer, 1), (C ...</td>\n",
       "      <td>[UI Developer UI Developer UI Developer., Expe...</td>\n",
       "      <td>[architecte scalable platforms, code HTML, adh...</td>\n",
       "      <td>[Visual studio, Git, Javascript, Bootstrap, D3...</td>\n",
       "      <td>Master</td>\n",
       "    </tr>\n",
       "    <tr>\n",
       "      <th>28647</th>\n",
       "      <td>29781</td>\n",
       "      <td>Web Developer Web Developer Los Angeles, CA Wo...</td>\n",
       "      <td>Web_Developer</td>\n",
       "      <td>Associate</td>\n",
       "      <td>Javascript, PHP, Front End, Wordpress</td>\n",
       "      <td>[Web Developer, Web Developer, Web Developer, ...</td>\n",
       "      <td>[(Web Developer, 3), (Education Associate, 1)]</td>\n",
       "      <td>[Web Developer Web Developer Los Angeles, CA W...</td>\n",
       "      <td>[employ September 2013 to July 2019, create de...</td>\n",
       "      <td>[Javascript, PHP, Front End, Wordpress]</td>\n",
       "      <td>Associate</td>\n",
       "    </tr>\n",
       "    <tr>\n",
       "      <th>28648</th>\n",
       "      <td>29782</td>\n",
       "      <td>Sr. Software Engineer Sr. Software Engineer Sr...</td>\n",
       "      <td>Software_Developer</td>\n",
       "      <td>High school or equivalent in Computer Networking</td>\n",
       "      <td>AWS, Linux, Javascript, Java, PHP, Apache, NG...</td>\n",
       "      <td>[Software Engineer, Software Engineer, Softwar...</td>\n",
       "      <td>[(Software Engineer, 4), (Web Developer, 3), (...</td>\n",
       "      <td>[Sr. Software Engineer Sr. Software Engineer S...</td>\n",
       "      <td>[authorize to work in the US for any employer,...</td>\n",
       "      <td>[AWS, Linux, Javascript, Java, PHP, Apache, NG...</td>\n",
       "      <td>High school</td>\n",
       "    </tr>\n",
       "  </tbody>\n",
       "</table>\n",
       "<p>19159 rows × 11 columns</p>\n",
       "</div>"
      ],
      "text/plain": [
       "       index                                             Resume  \\\n",
       "0          0  Database Administrator Database Administrator ...   \n",
       "1          1  Database Administrator Database Administrator ...   \n",
       "2          2  Oracle Database Administrator Oracle Database ...   \n",
       "3          3  Amazon Redshift Administrator and ETL Develope...   \n",
       "7          7  Lead Database Administrator/Developer Lead Dat...   \n",
       "...      ...                                                ...   \n",
       "28642  29776  WordPress Developer/ Web Designer (Free-lancer...   \n",
       "28644  29778  ServiceNow Developer ServiceNow Developer Serv...   \n",
       "28646  29780  UI Developer UI Developer UI Developer - Cotiv...   \n",
       "28647  29781  Web Developer Web Developer Los Angeles, CA Wo...   \n",
       "28648  29782  Sr. Software Engineer Sr. Software Engineer Sr...   \n",
       "\n",
       "                      Label_1  \\\n",
       "0      Database_Administrator   \n",
       "1      Database_Administrator   \n",
       "2      Database_Administrator   \n",
       "3      Database_Administrator   \n",
       "7      Database_Administrator   \n",
       "...                       ...   \n",
       "28642           Web_Developer   \n",
       "28644          Java_Developer   \n",
       "28646     Front_End_Developer   \n",
       "28647           Web_Developer   \n",
       "28648      Software_Developer   \n",
       "\n",
       "                                               Education  \\\n",
       "0      Bachelor of Science Lead City University July ...   \n",
       "1      bsc in computer science lagos state university...   \n",
       "2      Master of Computer Applications in Science and...   \n",
       "3      Bachelor in Computer Science University of Inf...   \n",
       "7      Bachelor's Degree in BiologyChem / Computer Sc...   \n",
       "...                                                  ...   \n",
       "28642  Associate of Applied Science in Computer Progr...   \n",
       "28644  Bachelor of Technology in Information Technolo...   \n",
       "28646                                           Master's   \n",
       "28647                                          Associate   \n",
       "28648   High school or equivalent in Computer Networking   \n",
       "\n",
       "                                                   Skill  \\\n",
       "0       Database administration, Database, Ms sql ser...   \n",
       "1       SQL, Microsoft PowerPoint, Windows XP, Micros...   \n",
       "2       DATABASES, ORACLE, ORACLE 10G, SQL, LINUX, RM...   \n",
       "3       SQL management, PostgresSQL, Oracle, MySQL, m...   \n",
       "7       Databases, Database Administration, Database ...   \n",
       "...                                                  ...   \n",
       "28642   PHP, Javascript, MySQL, Wordpress, CSS3, JQue...   \n",
       "28644   C++, Html, Javascript, Perl, Scripting, Vbscr...   \n",
       "28646   Visual studio, Git, Javascript, Bootstrap, D3.js   \n",
       "28647              Javascript, PHP, Front End, Wordpress   \n",
       "28648   AWS, Linux, Javascript, Java, PHP, Apache, NG...   \n",
       "\n",
       "                                       Work Exp - Titles  \\\n",
       "0      [Database Administrator, Database Administrato...   \n",
       "1      [Database Administrator, Database Administrato...   \n",
       "2      [Oracle Database Administrator, Oracle Databas...   \n",
       "3      [ETL Developer, ETL Developer, Business Intell...   \n",
       "7      [Lead Database Administrator, Lead Database Ad...   \n",
       "...                                                  ...   \n",
       "28642  [WordPress Developer, Web Designer, WordPress ...   \n",
       "28644  [Technology Analyst, Change Management, Change...   \n",
       "28646  [UI Developer, UI Developer, UI Developer, Gra...   \n",
       "28647  [Web Developer, Web Developer, Web Developer, ...   \n",
       "28648  [Software Engineer, Software Engineer, Softwar...   \n",
       "\n",
       "                             Work Exp - Titles with freq  \\\n",
       "0                          [(Database Administrator, 6)]   \n",
       "1                          [(Database Administrator, 3)]   \n",
       "2      [(Oracle Database Administrator, 5), (Oracle D...   \n",
       "3      [(ETL Developer, 3), (Database Administrator, ...   \n",
       "7      [(Lead Database Administrator, 4), (Database A...   \n",
       "...                                                  ...   \n",
       "28642  [(Web Designer, 5), (WordPress Developer, 4), ...   \n",
       "28644  [(Change Management, 8), (Technology Analyst, ...   \n",
       "28646  [(UI Developer, 7), (Graphic Designer, 1), (C ...   \n",
       "28647     [(Web Developer, 3), (Education Associate, 1)]   \n",
       "28648  [(Software Engineer, 4), (Web Developer, 3), (...   \n",
       "\n",
       "                                       Resume - sentence  \\\n",
       "0      [Database Administrator Database Administrator...   \n",
       "1      [Database Administrator Database Administrator...   \n",
       "2      [Oracle Database Administrator Oracle Database...   \n",
       "3      [Amazon Redshift Administrator and ETL Develop...   \n",
       "7      [Lead Database Administrator/Developer Lead Da...   \n",
       "...                                                  ...   \n",
       "28642  [WordPress Developer/ Web Designer (Free-lance...   \n",
       "28644  [ServiceNow Developer ServiceNow Developer Ser...   \n",
       "28646  [UI Developer UI Developer UI Developer., Expe...   \n",
       "28647  [Web Developer Web Developer Los Angeles, CA W...   \n",
       "28648  [Sr. Software Engineer Sr. Software Engineer S...   \n",
       "\n",
       "                                   Resume - key activity  \\\n",
       "0      [motivate Production SQL Server Database Admin...   \n",
       "1      [develop and maintain database, like to establ...   \n",
       "2      [obtain a Oracle DBA Position in a progressive...   \n",
       "3      [work as database administrator, maintain mult...   \n",
       "7      [authorize to work in the US for any employer ...   \n",
       "...                                                  ...   \n",
       "28642  [obtain a position, work on a range, develop a...   \n",
       "28644  [implement end, avoid empty configuration item...   \n",
       "28646  [architecte scalable platforms, code HTML, adh...   \n",
       "28647  [employ September 2013 to July 2019, create de...   \n",
       "28648  [authorize to work in the US for any employer,...   \n",
       "\n",
       "                                            Skill - list Education - degree  \n",
       "0      [Database administration, Database, Ms sql ser...           Bachelor  \n",
       "1      [SQL, Microsoft PowerPoint, Windows XP, Micros...           Bachelor  \n",
       "2      [DATABASES, ORACLE, ORACLE 10G, SQL, LINUX, RM...             Master  \n",
       "3      [SQL management, PostgresSQL, Oracle, MySQL, m...           Bachelor  \n",
       "7      [Databases, Database Administration, Database ...           Bachelor  \n",
       "...                                                  ...                ...  \n",
       "28642  [PHP, Javascript, MySQL, Wordpress, CSS3, JQue...          Associate  \n",
       "28644  [C++, Html, Javascript, Perl, Scripting, Vbscr...           Bachelor  \n",
       "28646  [Visual studio, Git, Javascript, Bootstrap, D3...             Master  \n",
       "28647            [Javascript, PHP, Front End, Wordpress]          Associate  \n",
       "28648  [AWS, Linux, Javascript, Java, PHP, Apache, NG...        High school  \n",
       "\n",
       "[19159 rows x 11 columns]"
      ]
     },
     "execution_count": 3,
     "metadata": {},
     "output_type": "execute_result"
    }
   ],
   "source": [
    "df"
   ]
  },
  {
   "cell_type": "code",
   "execution_count": 4,
   "id": "aeebabf1",
   "metadata": {},
   "outputs": [],
   "source": [
    "min_samples = 1341 \n",
    "\n",
    "df_DA = df[df['Label_1']==\"Database_Administrator\"].sample(min_samples, random_state=2023)\n",
    "df_FED = df[df['Label_1']==\"Front_End_Developer\"].sample(min_samples, random_state=2023)\n",
    "df_JD = df[df['Label_1']==\"Java_Developer\"].sample(min_samples, random_state=2023)\n",
    "df_NA = df[df['Label_1']==\"Network_Administrator\"].sample(min_samples, random_state=2023)\n",
    "df_PM = df[df['Label_1']==\"Project_manager\"].sample(min_samples, random_state=2023)\n",
    "df_PD = df[df['Label_1']==\"Python_Developer\"].sample(min_samples, random_state=2023)\n",
    "df_SA = df[df['Label_1']==\"Security_Analyst\"].sample(min_samples, random_state=2023)\n",
    "df_SD = df[df['Label_1']==\"Software_Developer\"].sample(min_samples, random_state=2023)\n",
    "df_SAD = df[df['Label_1']==\"Systems_Administrator\"].sample(min_samples, random_state=2023)\n",
    "df_WD = df[df['Label_1']==\"Web_Developer\"].sample(min_samples, random_state=2023)\n"
   ]
  },
  {
   "cell_type": "code",
   "execution_count": 5,
   "id": "939e1387",
   "metadata": {
    "scrolled": true
   },
   "outputs": [
    {
     "data": {
      "text/plain": [
       "Database_Administrator    1341\n",
       "Front_End_Developer       1341\n",
       "Java_Developer            1341\n",
       "Network_Administrator     1341\n",
       "Project_manager           1341\n",
       "Python_Developer          1341\n",
       "Security_Analyst          1341\n",
       "Software_Developer        1341\n",
       "Systems_Administrator     1341\n",
       "Web_Developer             1341\n",
       "Name: Label_1, dtype: int64"
      ]
     },
     "execution_count": 5,
     "metadata": {},
     "output_type": "execute_result"
    }
   ],
   "source": [
    "df_balanced = pd.concat([df_DA,df_FED,df_JD,df_NA,df_PM,df_PD,df_SA,df_SD,df_SAD,df_WD],axis=0)\n",
    "df_balanced['Label_1'].value_counts()"
   ]
  },
  {
   "cell_type": "code",
   "execution_count": 6,
   "id": "88e7b1ff",
   "metadata": {},
   "outputs": [],
   "source": [
    "target = {'Database_Administrator': 0, \n",
    "          'Front_End_Developer': 1, \n",
    "          'Java_Developer': 2, \n",
    "          'Network_Administrator': 3,\n",
    "          'Project_manager': 4,\n",
    "          'Python_Developer': 5,\n",
    "          'Security_Analyst': 6,\n",
    "          'Software_Developer': 7,\n",
    "          'Systems_Administrator': 8,\n",
    "          'Web_Developer': 9}\n",
    "\n",
    "df_balanced['Label_1_num'] = df_balanced['Label_1'].map(target)"
   ]
  },
  {
   "cell_type": "code",
   "execution_count": 7,
   "id": "dda21848",
   "metadata": {},
   "outputs": [
    {
     "data": {
      "text/html": [
       "<div>\n",
       "<style scoped>\n",
       "    .dataframe tbody tr th:only-of-type {\n",
       "        vertical-align: middle;\n",
       "    }\n",
       "\n",
       "    .dataframe tbody tr th {\n",
       "        vertical-align: top;\n",
       "    }\n",
       "\n",
       "    .dataframe thead th {\n",
       "        text-align: right;\n",
       "    }\n",
       "</style>\n",
       "<table border=\"1\" class=\"dataframe\">\n",
       "  <thead>\n",
       "    <tr style=\"text-align: right;\">\n",
       "      <th></th>\n",
       "      <th>index</th>\n",
       "      <th>Resume</th>\n",
       "      <th>Label_1</th>\n",
       "      <th>Education</th>\n",
       "      <th>Skill</th>\n",
       "      <th>Work Exp - Titles</th>\n",
       "      <th>Work Exp - Titles with freq</th>\n",
       "      <th>Resume - sentence</th>\n",
       "      <th>Resume - key activity</th>\n",
       "      <th>Skill - list</th>\n",
       "      <th>Education - degree</th>\n",
       "      <th>Label_1_num</th>\n",
       "    </tr>\n",
       "  </thead>\n",
       "  <tbody>\n",
       "    <tr>\n",
       "      <th>2575</th>\n",
       "      <td>2696</td>\n",
       "      <td>SQL Server Database Administrator SQL Server D...</td>\n",
       "      <td>Database_Administrator</td>\n",
       "      <td>Master of Science in Computer Science Universi...</td>\n",
       "      <td>.NET, Database, Database Engine, MICROSOFT AC...</td>\n",
       "      <td>[Database Administrator, Database Administrato...</td>\n",
       "      <td>[(Database Administrator, 5), (Marketing Consu...</td>\n",
       "      <td>[SQL Server Database Administrator SQL Server ...</td>\n",
       "      <td>[work in the US for any employer Work, provide...</td>\n",
       "      <td>[.NET, Database, Database Engine, MICROSOFT AC...</td>\n",
       "      <td>Master</td>\n",
       "      <td>0</td>\n",
       "    </tr>\n",
       "    <tr>\n",
       "      <th>851</th>\n",
       "      <td>895</td>\n",
       "      <td>Oracle Database Administrator Oracle Database ...</td>\n",
       "      <td>Database_Administrator</td>\n",
       "      <td>Bachelor of Science in Business Administration...</td>\n",
       "      <td>: SQL, PL/SQL, T-SQL, Java, Visual Basic, R, S...</td>\n",
       "      <td>[Oracle Database Administrator, Oracle Databas...</td>\n",
       "      <td>[(Oracle Database Administrator, 4), (Enterpri...</td>\n",
       "      <td>[Oracle Database Administrator Oracle Database...</td>\n",
       "      <td>[manage database security, perform implementat...</td>\n",
       "      <td>[SQL, PLSQL,  TSQL, Java, Visual Basic,  R, Sh...</td>\n",
       "      <td>Bachelor</td>\n",
       "      <td>0</td>\n",
       "    </tr>\n",
       "    <tr>\n",
       "      <th>1411</th>\n",
       "      <td>1474</td>\n",
       "      <td>Senior Database and Solutions Architect Senior...</td>\n",
       "      <td>Database_Administrator</td>\n",
       "      <td>Master's Degree in Information Security and Ma...</td>\n",
       "      <td>Database, Sql, Erp, Software integration, Sap...</td>\n",
       "      <td>[Solutions Architect, Solutions Architect, Sol...</td>\n",
       "      <td>[(Solutions Architect, 3), (Solution Architect...</td>\n",
       "      <td>[Senior Database and Solutions Architect Senio...</td>\n",
       "      <td>[manage all SQL Servers for the company, Re- d...</td>\n",
       "      <td>[Database, Sql, Erp, Software integration, Sap...</td>\n",
       "      <td>Master</td>\n",
       "      <td>0</td>\n",
       "    </tr>\n",
       "    <tr>\n",
       "      <th>819</th>\n",
       "      <td>857</td>\n",
       "      <td>Database Administrator/Developer Database Admi...</td>\n",
       "      <td>Database_Administrator</td>\n",
       "      <td>Bachelor of Computer Information System in com...</td>\n",
       "      <td>:  Organized and detail oriented, good critica...</td>\n",
       "      <td>[Database Administrator, Database Administrato...</td>\n",
       "      <td>[(Database Administrator, 3), (Entry Level, 1)...</td>\n",
       "      <td>[Database Administrator/Developer Database Adm...</td>\n",
       "      <td>[seek the position, work Experience Database A...</td>\n",
       "      <td>[Organized and detail oriented, good critical ...</td>\n",
       "      <td>Bachelor</td>\n",
       "      <td>0</td>\n",
       "    </tr>\n",
       "    <tr>\n",
       "      <th>2268</th>\n",
       "      <td>2381</td>\n",
       "      <td>IT Database and CMR\\AMS Administrator IT Datab...</td>\n",
       "      <td>Database_Administrator</td>\n",
       "      <td>bachelor's degree in Cyber Security UNIVERSITY...</td>\n",
       "      <td>Database, MS SQL SERVER, Replication., Shippi...</td>\n",
       "      <td>[Database Administrator, Database Administrato...</td>\n",
       "      <td>[(Database Administrator, 2), (Server Engineer...</td>\n",
       "      <td>[IT Database and CMR\\AMS Administrator IT Data...</td>\n",
       "      <td>[seek employment, work Experience, provide adv...</td>\n",
       "      <td>[Database, MS SQL SERVER, Replication., Shippi...</td>\n",
       "      <td>Bachelor</td>\n",
       "      <td>0</td>\n",
       "    </tr>\n",
       "    <tr>\n",
       "      <th>...</th>\n",
       "      <td>...</td>\n",
       "      <td>...</td>\n",
       "      <td>...</td>\n",
       "      <td>...</td>\n",
       "      <td>...</td>\n",
       "      <td>...</td>\n",
       "      <td>...</td>\n",
       "      <td>...</td>\n",
       "      <td>...</td>\n",
       "      <td>...</td>\n",
       "      <td>...</td>\n",
       "      <td>...</td>\n",
       "    </tr>\n",
       "    <tr>\n",
       "      <th>27677</th>\n",
       "      <td>28775</td>\n",
       "      <td>Sales Representative Sales Representative Enci...</td>\n",
       "      <td>Web_Developer</td>\n",
       "      <td>High School Diploma Coral Gables Senior High S...</td>\n",
       "      <td>Prospecting, Cold calling, Customer service, ...</td>\n",
       "      <td>[Sales Representative, Sales Representative, S...</td>\n",
       "      <td>[(Sales Representative, 3), (Digital Marketing...</td>\n",
       "      <td>[Sales Representative Sales Representative Enc...</td>\n",
       "      <td>[drive to provide superior quality customer se...</td>\n",
       "      <td>[Prospecting, Cold calling, Customer service, ...</td>\n",
       "      <td>Diploma</td>\n",
       "      <td>9</td>\n",
       "    </tr>\n",
       "    <tr>\n",
       "      <th>3676</th>\n",
       "      <td>3819</td>\n",
       "      <td>Web UI Developer Web UI Developer Web UI Devel...</td>\n",
       "      <td>Web_Developer</td>\n",
       "      <td>Bachelor's of Computer Science in Computer Sci...</td>\n",
       "      <td>React, Angular, Javascript, Front End, UI, Fr...</td>\n",
       "      <td>[Web UI Developer, Web UI Developer, Web UI De...</td>\n",
       "      <td>[(Web UI Developer, 4), (UI Developer, 1), (Fr...</td>\n",
       "      <td>[Web UI Developer Web UI Developer Web UI Deve...</td>\n",
       "      <td>[set Work Experience Web, lead NYC- base web d...</td>\n",
       "      <td>[React, Angular, Javascript, Front End, UI, Fr...</td>\n",
       "      <td>Bachelor</td>\n",
       "      <td>9</td>\n",
       "    </tr>\n",
       "    <tr>\n",
       "      <th>27516</th>\n",
       "      <td>28605</td>\n",
       "      <td>Senior Full Stack Web Developer, Business Anal...</td>\n",
       "      <td>Web_Developer</td>\n",
       "      <td>Bachelor of Business in MIS and Marketing UW</td>\n",
       "      <td>Angular, React, Javascript</td>\n",
       "      <td>[Full Stack Web Developer, Business Analyst, D...</td>\n",
       "      <td>[(Full Stack Web Developer, 5), (Business Anal...</td>\n",
       "      <td>[Lead data migrator/ web manager for new ERP/e...</td>\n",
       "      <td>[develop Windows and web, reduce design custom...</td>\n",
       "      <td>[Angular, React, Javascript]</td>\n",
       "      <td>Master</td>\n",
       "      <td>9</td>\n",
       "    </tr>\n",
       "    <tr>\n",
       "      <th>28582</th>\n",
       "      <td>29713</td>\n",
       "      <td>Cloud Engineer Intern Cloud Engineer Intern We...</td>\n",
       "      <td>Web_Developer</td>\n",
       "      <td>Bachelor's in Computer Engineering C. G. Patel...</td>\n",
       "      <td>Wordpress, HTML5, PHP, Javascript, Jquery, AW...</td>\n",
       "      <td>[Cloud Engineer, Cloud Engineer, Web Developer...</td>\n",
       "      <td>[(Cloud Engineer, 3), (Web Developer, 2), (Com...</td>\n",
       "      <td>[Cloud Engineer Intern Cloud Engineer Intern W...</td>\n",
       "      <td>[design and implement websites, design and bui...</td>\n",
       "      <td>[Wordpress, HTML5, PHP, Javascript, Jquery, AW...</td>\n",
       "      <td>Bachelor</td>\n",
       "      <td>9</td>\n",
       "    </tr>\n",
       "    <tr>\n",
       "      <th>28388</th>\n",
       "      <td>29514</td>\n",
       "      <td>Web Developer Web Developer Web Developer Vanc...</td>\n",
       "      <td>Web_Developer</td>\n",
       "      <td>Techdegree, Web Page, Digital/Multimedia and I...</td>\n",
       "      <td>HTML 5, CSS3, Wordpress, SEO, Google Analytic...</td>\n",
       "      <td>[Web Developer, Web Developer, Web Developer, ...</td>\n",
       "      <td>[(Web Developer, 7), (SEO Specialist, 1), (Exc...</td>\n",
       "      <td>[Web Developer Web Developer Web Developer Van...</td>\n",
       "      <td>[orient craftsman, host experience, write comm...</td>\n",
       "      <td>[HTML 5, CSS3, Wordpress, SEO, Google Analytic...</td>\n",
       "      <td>High school</td>\n",
       "      <td>9</td>\n",
       "    </tr>\n",
       "  </tbody>\n",
       "</table>\n",
       "<p>13410 rows × 12 columns</p>\n",
       "</div>"
      ],
      "text/plain": [
       "       index                                             Resume  \\\n",
       "2575    2696  SQL Server Database Administrator SQL Server D...   \n",
       "851      895  Oracle Database Administrator Oracle Database ...   \n",
       "1411    1474  Senior Database and Solutions Architect Senior...   \n",
       "819      857  Database Administrator/Developer Database Admi...   \n",
       "2268    2381  IT Database and CMR\\AMS Administrator IT Datab...   \n",
       "...      ...                                                ...   \n",
       "27677  28775  Sales Representative Sales Representative Enci...   \n",
       "3676    3819  Web UI Developer Web UI Developer Web UI Devel...   \n",
       "27516  28605  Senior Full Stack Web Developer, Business Anal...   \n",
       "28582  29713  Cloud Engineer Intern Cloud Engineer Intern We...   \n",
       "28388  29514  Web Developer Web Developer Web Developer Vanc...   \n",
       "\n",
       "                      Label_1  \\\n",
       "2575   Database_Administrator   \n",
       "851    Database_Administrator   \n",
       "1411   Database_Administrator   \n",
       "819    Database_Administrator   \n",
       "2268   Database_Administrator   \n",
       "...                       ...   \n",
       "27677           Web_Developer   \n",
       "3676            Web_Developer   \n",
       "27516           Web_Developer   \n",
       "28582           Web_Developer   \n",
       "28388           Web_Developer   \n",
       "\n",
       "                                               Education  \\\n",
       "2575   Master of Science in Computer Science Universi...   \n",
       "851    Bachelor of Science in Business Administration...   \n",
       "1411   Master's Degree in Information Security and Ma...   \n",
       "819    Bachelor of Computer Information System in com...   \n",
       "2268   bachelor's degree in Cyber Security UNIVERSITY...   \n",
       "...                                                  ...   \n",
       "27677  High School Diploma Coral Gables Senior High S...   \n",
       "3676   Bachelor's of Computer Science in Computer Sci...   \n",
       "27516       Bachelor of Business in MIS and Marketing UW   \n",
       "28582  Bachelor's in Computer Engineering C. G. Patel...   \n",
       "28388  Techdegree, Web Page, Digital/Multimedia and I...   \n",
       "\n",
       "                                                   Skill  \\\n",
       "2575    .NET, Database, Database Engine, MICROSOFT AC...   \n",
       "851    : SQL, PL/SQL, T-SQL, Java, Visual Basic, R, S...   \n",
       "1411    Database, Sql, Erp, Software integration, Sap...   \n",
       "819    :  Organized and detail oriented, good critica...   \n",
       "2268    Database, MS SQL SERVER, Replication., Shippi...   \n",
       "...                                                  ...   \n",
       "27677   Prospecting, Cold calling, Customer service, ...   \n",
       "3676    React, Angular, Javascript, Front End, UI, Fr...   \n",
       "27516                         Angular, React, Javascript   \n",
       "28582   Wordpress, HTML5, PHP, Javascript, Jquery, AW...   \n",
       "28388   HTML 5, CSS3, Wordpress, SEO, Google Analytic...   \n",
       "\n",
       "                                       Work Exp - Titles  \\\n",
       "2575   [Database Administrator, Database Administrato...   \n",
       "851    [Oracle Database Administrator, Oracle Databas...   \n",
       "1411   [Solutions Architect, Solutions Architect, Sol...   \n",
       "819    [Database Administrator, Database Administrato...   \n",
       "2268   [Database Administrator, Database Administrato...   \n",
       "...                                                  ...   \n",
       "27677  [Sales Representative, Sales Representative, S...   \n",
       "3676   [Web UI Developer, Web UI Developer, Web UI De...   \n",
       "27516  [Full Stack Web Developer, Business Analyst, D...   \n",
       "28582  [Cloud Engineer, Cloud Engineer, Web Developer...   \n",
       "28388  [Web Developer, Web Developer, Web Developer, ...   \n",
       "\n",
       "                             Work Exp - Titles with freq  \\\n",
       "2575   [(Database Administrator, 5), (Marketing Consu...   \n",
       "851    [(Oracle Database Administrator, 4), (Enterpri...   \n",
       "1411   [(Solutions Architect, 3), (Solution Architect...   \n",
       "819    [(Database Administrator, 3), (Entry Level, 1)...   \n",
       "2268   [(Database Administrator, 2), (Server Engineer...   \n",
       "...                                                  ...   \n",
       "27677  [(Sales Representative, 3), (Digital Marketing...   \n",
       "3676   [(Web UI Developer, 4), (UI Developer, 1), (Fr...   \n",
       "27516  [(Full Stack Web Developer, 5), (Business Anal...   \n",
       "28582  [(Cloud Engineer, 3), (Web Developer, 2), (Com...   \n",
       "28388  [(Web Developer, 7), (SEO Specialist, 1), (Exc...   \n",
       "\n",
       "                                       Resume - sentence  \\\n",
       "2575   [SQL Server Database Administrator SQL Server ...   \n",
       "851    [Oracle Database Administrator Oracle Database...   \n",
       "1411   [Senior Database and Solutions Architect Senio...   \n",
       "819    [Database Administrator/Developer Database Adm...   \n",
       "2268   [IT Database and CMR\\AMS Administrator IT Data...   \n",
       "...                                                  ...   \n",
       "27677  [Sales Representative Sales Representative Enc...   \n",
       "3676   [Web UI Developer Web UI Developer Web UI Deve...   \n",
       "27516  [Lead data migrator/ web manager for new ERP/e...   \n",
       "28582  [Cloud Engineer Intern Cloud Engineer Intern W...   \n",
       "28388  [Web Developer Web Developer Web Developer Van...   \n",
       "\n",
       "                                   Resume - key activity  \\\n",
       "2575   [work in the US for any employer Work, provide...   \n",
       "851    [manage database security, perform implementat...   \n",
       "1411   [manage all SQL Servers for the company, Re- d...   \n",
       "819    [seek the position, work Experience Database A...   \n",
       "2268   [seek employment, work Experience, provide adv...   \n",
       "...                                                  ...   \n",
       "27677  [drive to provide superior quality customer se...   \n",
       "3676   [set Work Experience Web, lead NYC- base web d...   \n",
       "27516  [develop Windows and web, reduce design custom...   \n",
       "28582  [design and implement websites, design and bui...   \n",
       "28388  [orient craftsman, host experience, write comm...   \n",
       "\n",
       "                                            Skill - list Education - degree  \\\n",
       "2575   [.NET, Database, Database Engine, MICROSOFT AC...             Master   \n",
       "851    [SQL, PLSQL,  TSQL, Java, Visual Basic,  R, Sh...           Bachelor   \n",
       "1411   [Database, Sql, Erp, Software integration, Sap...             Master   \n",
       "819    [Organized and detail oriented, good critical ...           Bachelor   \n",
       "2268   [Database, MS SQL SERVER, Replication., Shippi...           Bachelor   \n",
       "...                                                  ...                ...   \n",
       "27677  [Prospecting, Cold calling, Customer service, ...            Diploma   \n",
       "3676   [React, Angular, Javascript, Front End, UI, Fr...           Bachelor   \n",
       "27516                       [Angular, React, Javascript]             Master   \n",
       "28582  [Wordpress, HTML5, PHP, Javascript, Jquery, AW...           Bachelor   \n",
       "28388  [HTML 5, CSS3, Wordpress, SEO, Google Analytic...        High school   \n",
       "\n",
       "       Label_1_num  \n",
       "2575             0  \n",
       "851              0  \n",
       "1411             0  \n",
       "819              0  \n",
       "2268             0  \n",
       "...            ...  \n",
       "27677            9  \n",
       "3676             9  \n",
       "27516            9  \n",
       "28582            9  \n",
       "28388            9  \n",
       "\n",
       "[13410 rows x 12 columns]"
      ]
     },
     "execution_count": 7,
     "metadata": {},
     "output_type": "execute_result"
    }
   ],
   "source": [
    "df_balanced"
   ]
  },
  {
   "cell_type": "code",
   "execution_count": 38,
   "id": "3c34c2f2",
   "metadata": {},
   "outputs": [],
   "source": [
    "df_title = df_balanced.drop(['Resume','Education','Skill','Work Exp - Titles with freq','Resume - sentence', 'Resume - key activity', 'Skill - list', 'Education - degree'], axis=1)"
   ]
  },
  {
   "cell_type": "code",
   "execution_count": 39,
   "id": "939b1412",
   "metadata": {},
   "outputs": [
    {
     "data": {
      "text/html": [
       "<div>\n",
       "<style scoped>\n",
       "    .dataframe tbody tr th:only-of-type {\n",
       "        vertical-align: middle;\n",
       "    }\n",
       "\n",
       "    .dataframe tbody tr th {\n",
       "        vertical-align: top;\n",
       "    }\n",
       "\n",
       "    .dataframe thead th {\n",
       "        text-align: right;\n",
       "    }\n",
       "</style>\n",
       "<table border=\"1\" class=\"dataframe\">\n",
       "  <thead>\n",
       "    <tr style=\"text-align: right;\">\n",
       "      <th></th>\n",
       "      <th>index</th>\n",
       "      <th>Label_1</th>\n",
       "      <th>Work Exp - Titles</th>\n",
       "      <th>Label_1_num</th>\n",
       "    </tr>\n",
       "  </thead>\n",
       "  <tbody>\n",
       "    <tr>\n",
       "      <th>2575</th>\n",
       "      <td>2696</td>\n",
       "      <td>Database_Administrator</td>\n",
       "      <td>[Database Administrator, Database Administrato...</td>\n",
       "      <td>0</td>\n",
       "    </tr>\n",
       "    <tr>\n",
       "      <th>851</th>\n",
       "      <td>895</td>\n",
       "      <td>Database_Administrator</td>\n",
       "      <td>[Oracle Database Administrator, Oracle Databas...</td>\n",
       "      <td>0</td>\n",
       "    </tr>\n",
       "    <tr>\n",
       "      <th>1411</th>\n",
       "      <td>1474</td>\n",
       "      <td>Database_Administrator</td>\n",
       "      <td>[Solutions Architect, Solutions Architect, Sol...</td>\n",
       "      <td>0</td>\n",
       "    </tr>\n",
       "    <tr>\n",
       "      <th>819</th>\n",
       "      <td>857</td>\n",
       "      <td>Database_Administrator</td>\n",
       "      <td>[Database Administrator, Database Administrato...</td>\n",
       "      <td>0</td>\n",
       "    </tr>\n",
       "    <tr>\n",
       "      <th>2268</th>\n",
       "      <td>2381</td>\n",
       "      <td>Database_Administrator</td>\n",
       "      <td>[Database Administrator, Database Administrato...</td>\n",
       "      <td>0</td>\n",
       "    </tr>\n",
       "    <tr>\n",
       "      <th>...</th>\n",
       "      <td>...</td>\n",
       "      <td>...</td>\n",
       "      <td>...</td>\n",
       "      <td>...</td>\n",
       "    </tr>\n",
       "    <tr>\n",
       "      <th>27677</th>\n",
       "      <td>28775</td>\n",
       "      <td>Web_Developer</td>\n",
       "      <td>[Sales Representative, Sales Representative, S...</td>\n",
       "      <td>9</td>\n",
       "    </tr>\n",
       "    <tr>\n",
       "      <th>3676</th>\n",
       "      <td>3819</td>\n",
       "      <td>Web_Developer</td>\n",
       "      <td>[Web UI Developer, Web UI Developer, Web UI De...</td>\n",
       "      <td>9</td>\n",
       "    </tr>\n",
       "    <tr>\n",
       "      <th>27516</th>\n",
       "      <td>28605</td>\n",
       "      <td>Web_Developer</td>\n",
       "      <td>[Full Stack Web Developer, Business Analyst, D...</td>\n",
       "      <td>9</td>\n",
       "    </tr>\n",
       "    <tr>\n",
       "      <th>28582</th>\n",
       "      <td>29713</td>\n",
       "      <td>Web_Developer</td>\n",
       "      <td>[Cloud Engineer, Cloud Engineer, Web Developer...</td>\n",
       "      <td>9</td>\n",
       "    </tr>\n",
       "    <tr>\n",
       "      <th>28388</th>\n",
       "      <td>29514</td>\n",
       "      <td>Web_Developer</td>\n",
       "      <td>[Web Developer, Web Developer, Web Developer, ...</td>\n",
       "      <td>9</td>\n",
       "    </tr>\n",
       "  </tbody>\n",
       "</table>\n",
       "<p>13410 rows × 4 columns</p>\n",
       "</div>"
      ],
      "text/plain": [
       "       index                 Label_1  \\\n",
       "2575    2696  Database_Administrator   \n",
       "851      895  Database_Administrator   \n",
       "1411    1474  Database_Administrator   \n",
       "819      857  Database_Administrator   \n",
       "2268    2381  Database_Administrator   \n",
       "...      ...                     ...   \n",
       "27677  28775           Web_Developer   \n",
       "3676    3819           Web_Developer   \n",
       "27516  28605           Web_Developer   \n",
       "28582  29713           Web_Developer   \n",
       "28388  29514           Web_Developer   \n",
       "\n",
       "                                       Work Exp - Titles  Label_1_num  \n",
       "2575   [Database Administrator, Database Administrato...            0  \n",
       "851    [Oracle Database Administrator, Oracle Databas...            0  \n",
       "1411   [Solutions Architect, Solutions Architect, Sol...            0  \n",
       "819    [Database Administrator, Database Administrato...            0  \n",
       "2268   [Database Administrator, Database Administrato...            0  \n",
       "...                                                  ...          ...  \n",
       "27677  [Sales Representative, Sales Representative, S...            9  \n",
       "3676   [Web UI Developer, Web UI Developer, Web UI De...            9  \n",
       "27516  [Full Stack Web Developer, Business Analyst, D...            9  \n",
       "28582  [Cloud Engineer, Cloud Engineer, Web Developer...            9  \n",
       "28388  [Web Developer, Web Developer, Web Developer, ...            9  \n",
       "\n",
       "[13410 rows x 4 columns]"
      ]
     },
     "execution_count": 39,
     "metadata": {},
     "output_type": "execute_result"
    }
   ],
   "source": [
    "df_title"
   ]
  },
  {
   "cell_type": "code",
   "execution_count": 105,
   "id": "b174cd35",
   "metadata": {},
   "outputs": [],
   "source": [
    "def group_words_with_underscore(word_list):\n",
    "    updated_list = []\n",
    "    for title in word_list:\n",
    "        words = title.split()\n",
    "        updated_title = '_'.join(words)\n",
    "        updated_list.append(updated_title)\n",
    "    return updated_list"
   ]
  },
  {
   "cell_type": "code",
   "execution_count": 104,
   "id": "eab277fe",
   "metadata": {},
   "outputs": [],
   "source": [
    "def list_to_text(lst):\n",
    "    return ' '.join(lst)"
   ]
  },
  {
   "cell_type": "code",
   "execution_count": 43,
   "id": "8988b5b6",
   "metadata": {},
   "outputs": [],
   "source": [
    "df_title['Work Exp - Titles'] = df_title['Work Exp - Titles'].apply(group_words_with_underscore)\n",
    "df_title['Work Exp - Titles'] = df_title['Work Exp - Titles'].apply(list_to_text)"
   ]
  },
  {
   "cell_type": "code",
   "execution_count": 53,
   "id": "6734d59c",
   "metadata": {
    "scrolled": true
   },
   "outputs": [
    {
     "data": {
      "text/plain": [
       "'Oracle_Database_Administrator Oracle_Database_Administrator Oracle_Database_Administrator Enterprise_Manager Enterprise_Manager Oracle_Database_Administrator Solution_Manager SAP_Basis SAP_Basis_Consultant Solution_Manager Oracle_Database_Administrator Recovery_Manager Enterprise_Manager SQL_Developer SQL_Developer Oracle_DBA Oracle_DBA Enterprise_Manager Enterprise_Manager Oracle_Database_Administrator Recovery_Manager Oracle_DBA SQL_Developer'"
      ]
     },
     "execution_count": 53,
     "metadata": {},
     "output_type": "execute_result"
    }
   ],
   "source": [
    "df_title.iloc[95,2]"
   ]
  },
  {
   "cell_type": "code",
   "execution_count": 54,
   "id": "5ced10b7",
   "metadata": {
    "scrolled": true
   },
   "outputs": [
    {
     "name": "stdout",
     "output_type": "stream",
     "text": [
      "                  Label_1  Count\n",
      "0  Database_Administrator   1341\n",
      "1     Front_End_Developer   1341\n",
      "2          Java_Developer   1341\n",
      "3   Network_Administrator   1341\n",
      "4         Project_manager   1341\n",
      "5        Python_Developer   1341\n",
      "6        Security_Analyst   1341\n",
      "7      Software_Developer   1341\n",
      "8   Systems_Administrator   1341\n",
      "9           Web_Developer   1341\n"
     ]
    }
   ],
   "source": [
    "count_df = df_title.groupby('Label_1').size().reset_index(name='Count')\n",
    "print(count_df)"
   ]
  },
  {
   "cell_type": "code",
   "execution_count": 19,
   "id": "7ec8e074",
   "metadata": {},
   "outputs": [],
   "source": [
    "from sklearn.model_selection import train_test_split"
   ]
  },
  {
   "cell_type": "code",
   "execution_count": null,
   "id": "9ae34f8d",
   "metadata": {},
   "outputs": [],
   "source": [
    "X_train, X_test, y_train, y_test = train_test_split(df_title['Work Exp - Titles'],df_title['Label_1'], test_size=0.2, random_state=2023, stratify=df_title['Label_1'])"
   ]
  },
  {
   "cell_type": "code",
   "execution_count": 56,
   "id": "74937c58",
   "metadata": {},
   "outputs": [
    {
     "data": {
      "text/plain": [
       "2953     UX_Designer Front_End_Developer UX_Designer Fr...\n",
       "27385    Content_Designer Content_Designer Web_Graphic_...\n",
       "11224    Security_Analyst Security_Analyst Security_Ana...\n",
       "9197     Compliance_Analyst Compliance_Analyst Applicat...\n",
       "Name: Work Exp - Titles, dtype: object"
      ]
     },
     "execution_count": 56,
     "metadata": {},
     "output_type": "execute_result"
    }
   ],
   "source": [
    "X_train.head(4)"
   ]
  },
  {
   "cell_type": "code",
   "execution_count": 22,
   "id": "e4d8af71",
   "metadata": {},
   "outputs": [],
   "source": [
    "from sklearn.naive_bayes import MultinomialNB\n",
    "from sklearn.pipeline import Pipeline\n",
    "from sklearn.metrics import classification_report"
   ]
  },
  {
   "cell_type": "code",
   "execution_count": 23,
   "id": "cf4bf0af",
   "metadata": {},
   "outputs": [],
   "source": [
    "from sklearn.feature_extraction.text import CountVectorizer"
   ]
  },
  {
   "cell_type": "code",
   "execution_count": 119,
   "id": "0e1177f0",
   "metadata": {
    "scrolled": true
   },
   "outputs": [
    {
     "name": "stdout",
     "output_type": "stream",
     "text": [
      "                        precision    recall  f1-score   support\n",
      "\n",
      "Database_Administrator       0.92      0.90      0.91       268\n",
      "   Front_End_Developer       0.87      0.68      0.77       268\n",
      "        Java_Developer       0.84      0.88      0.86       268\n",
      " Network_Administrator       0.84      0.80      0.82       268\n",
      "       Project_manager       0.82      0.83      0.82       268\n",
      "      Python_Developer       0.92      0.87      0.89       268\n",
      "      Security_Analyst       0.84      0.89      0.86       269\n",
      "    Software_Developer       0.72      0.79      0.76       269\n",
      " Systems_Administrator       0.84      0.89      0.86       268\n",
      "         Web_Developer       0.74      0.77      0.75       268\n",
      "\n",
      "              accuracy                           0.83      2682\n",
      "             macro avg       0.83      0.83      0.83      2682\n",
      "          weighted avg       0.83      0.83      0.83      2682\n",
      "\n"
     ]
    }
   ],
   "source": [
    "clf = Pipeline([\n",
    "     ('vectorizer_bow', CountVectorizer(ngram_range = (1, 1))),\n",
    "     ('Multi NB', MultinomialNB())         \n",
    "])\n",
    "\n",
    "clf.fit(X_train, y_train)\n",
    "\n",
    "y_pred = clf.predict(X_test)\n",
    "\n",
    "print(classification_report(y_test, y_pred))"
   ]
  },
  {
   "cell_type": "code",
   "execution_count": 28,
   "id": "a6ee7f84",
   "metadata": {},
   "outputs": [],
   "source": [
    "from sklearn.metrics import confusion_matrix"
   ]
  },
  {
   "cell_type": "code",
   "execution_count": 121,
   "id": "ac531e82",
   "metadata": {},
   "outputs": [
    {
     "data": {
      "text/plain": [
       "array([[240,   0,   0,   3,  11,   1,   0,   4,   7,   2],\n",
       "       [  1, 183,   7,   2,   8,   3,   1,  21,   0,  42],\n",
       "       [  1,   4, 237,   0,   4,   6,   0,  11,   0,   5],\n",
       "       [  2,   1,   0, 215,  11,   0,  17,   2,  19,   1],\n",
       "       [  4,   1,   2,  10, 222,   0,  16,   1,   6,   6],\n",
       "       [  2,   1,   7,   1,   2, 232,   0,  21,   1,   1],\n",
       "       [  4,   0,   0,   6,   7,   3, 239,   1,   9,   0],\n",
       "       [  1,   2,  23,   2,   2,   4,   1, 213,   4,  17],\n",
       "       [  3,   0,   1,  14,   3,   0,   8,   1, 238,   0],\n",
       "       [  3,  18,   6,   3,   2,   4,   4,  20,   1, 207]], dtype=int64)"
      ]
     },
     "execution_count": 121,
     "metadata": {},
     "output_type": "execute_result"
    }
   ],
   "source": [
    "\n",
    "cm = confusion_matrix(y_test, y_pred)\n",
    "cm"
   ]
  },
  {
   "cell_type": "code",
   "execution_count": 122,
   "id": "39502a75",
   "metadata": {},
   "outputs": [
    {
     "data": {
      "text/plain": [
       "Text(95.72222222222221, 0.5, 'Truth')"
      ]
     },
     "execution_count": 122,
     "metadata": {},
     "output_type": "execute_result"
    },
    {
     "data": {
      "image/png": "[encoded data removed]",
      "text/plain": [
       "<Figure size 1000x700 with 2 Axes>"
      ]
     },
     "metadata": {},
     "output_type": "display_data"
    }
   ],
   "source": [
    "from matplotlib import pyplot as plt\n",
    "import seaborn as sn\n",
    "plt.figure(figsize = (10,7))\n",
    "sn.heatmap(cm, annot=True, fmt='d')\n",
    "plt.xlabel('Prediction')\n",
    "plt.ylabel('Truth')"
   ]
  },
  {
   "cell_type": "code",
   "execution_count": 58,
   "id": "4a31a6af",
   "metadata": {},
   "outputs": [],
   "source": [
    "df_skill = df_balanced.drop(['Resume','Education','Skill','Work Exp - Titles','Work Exp - Titles with freq','Resume - sentence', 'Resume - key activity', 'Education - degree'], axis=1)"
   ]
  },
  {
   "cell_type": "code",
   "execution_count": 59,
   "id": "d5a1a3ef",
   "metadata": {},
   "outputs": [
    {
     "data": {
      "text/html": [
       "<div>\n",
       "<style scoped>\n",
       "    .dataframe tbody tr th:only-of-type {\n",
       "        vertical-align: middle;\n",
       "    }\n",
       "\n",
       "    .dataframe tbody tr th {\n",
       "        vertical-align: top;\n",
       "    }\n",
       "\n",
       "    .dataframe thead th {\n",
       "        text-align: right;\n",
       "    }\n",
       "</style>\n",
       "<table border=\"1\" class=\"dataframe\">\n",
       "  <thead>\n",
       "    <tr style=\"text-align: right;\">\n",
       "      <th></th>\n",
       "      <th>index</th>\n",
       "      <th>Label_1</th>\n",
       "      <th>Skill - list</th>\n",
       "      <th>Label_1_num</th>\n",
       "    </tr>\n",
       "  </thead>\n",
       "  <tbody>\n",
       "    <tr>\n",
       "      <th>2575</th>\n",
       "      <td>2696</td>\n",
       "      <td>Database_Administrator</td>\n",
       "      <td>[.NET, Database, Database Engine, MICROSOFT AC...</td>\n",
       "      <td>0</td>\n",
       "    </tr>\n",
       "    <tr>\n",
       "      <th>851</th>\n",
       "      <td>895</td>\n",
       "      <td>Database_Administrator</td>\n",
       "      <td>[SQL, PLSQL,  TSQL, Java, Visual Basic,  R, Sh...</td>\n",
       "      <td>0</td>\n",
       "    </tr>\n",
       "    <tr>\n",
       "      <th>1411</th>\n",
       "      <td>1474</td>\n",
       "      <td>Database_Administrator</td>\n",
       "      <td>[Database, Sql, Erp, Software integration, Sap...</td>\n",
       "      <td>0</td>\n",
       "    </tr>\n",
       "    <tr>\n",
       "      <th>819</th>\n",
       "      <td>857</td>\n",
       "      <td>Database_Administrator</td>\n",
       "      <td>[Organized and detail oriented, good critical ...</td>\n",
       "      <td>0</td>\n",
       "    </tr>\n",
       "    <tr>\n",
       "      <th>2268</th>\n",
       "      <td>2381</td>\n",
       "      <td>Database_Administrator</td>\n",
       "      <td>[Database, MS SQL SERVER, Replication., Shippi...</td>\n",
       "      <td>0</td>\n",
       "    </tr>\n",
       "    <tr>\n",
       "      <th>...</th>\n",
       "      <td>...</td>\n",
       "      <td>...</td>\n",
       "      <td>...</td>\n",
       "      <td>...</td>\n",
       "    </tr>\n",
       "    <tr>\n",
       "      <th>27677</th>\n",
       "      <td>28775</td>\n",
       "      <td>Web_Developer</td>\n",
       "      <td>[Prospecting, Cold calling, Customer service, ...</td>\n",
       "      <td>9</td>\n",
       "    </tr>\n",
       "    <tr>\n",
       "      <th>3676</th>\n",
       "      <td>3819</td>\n",
       "      <td>Web_Developer</td>\n",
       "      <td>[React, Angular, Javascript, Front End, UI, Fr...</td>\n",
       "      <td>9</td>\n",
       "    </tr>\n",
       "    <tr>\n",
       "      <th>27516</th>\n",
       "      <td>28605</td>\n",
       "      <td>Web_Developer</td>\n",
       "      <td>[Angular, React, Javascript]</td>\n",
       "      <td>9</td>\n",
       "    </tr>\n",
       "    <tr>\n",
       "      <th>28582</th>\n",
       "      <td>29713</td>\n",
       "      <td>Web_Developer</td>\n",
       "      <td>[Wordpress, HTML5, PHP, Javascript, Jquery, AW...</td>\n",
       "      <td>9</td>\n",
       "    </tr>\n",
       "    <tr>\n",
       "      <th>28388</th>\n",
       "      <td>29514</td>\n",
       "      <td>Web_Developer</td>\n",
       "      <td>[HTML 5, CSS3, Wordpress, SEO, Google Analytic...</td>\n",
       "      <td>9</td>\n",
       "    </tr>\n",
       "  </tbody>\n",
       "</table>\n",
       "<p>13410 rows × 4 columns</p>\n",
       "</div>"
      ],
      "text/plain": [
       "       index                 Label_1  \\\n",
       "2575    2696  Database_Administrator   \n",
       "851      895  Database_Administrator   \n",
       "1411    1474  Database_Administrator   \n",
       "819      857  Database_Administrator   \n",
       "2268    2381  Database_Administrator   \n",
       "...      ...                     ...   \n",
       "27677  28775           Web_Developer   \n",
       "3676    3819           Web_Developer   \n",
       "27516  28605           Web_Developer   \n",
       "28582  29713           Web_Developer   \n",
       "28388  29514           Web_Developer   \n",
       "\n",
       "                                            Skill - list  Label_1_num  \n",
       "2575   [.NET, Database, Database Engine, MICROSOFT AC...            0  \n",
       "851    [SQL, PLSQL,  TSQL, Java, Visual Basic,  R, Sh...            0  \n",
       "1411   [Database, Sql, Erp, Software integration, Sap...            0  \n",
       "819    [Organized and detail oriented, good critical ...            0  \n",
       "2268   [Database, MS SQL SERVER, Replication., Shippi...            0  \n",
       "...                                                  ...          ...  \n",
       "27677  [Prospecting, Cold calling, Customer service, ...            9  \n",
       "3676   [React, Angular, Javascript, Front End, UI, Fr...            9  \n",
       "27516                       [Angular, React, Javascript]            9  \n",
       "28582  [Wordpress, HTML5, PHP, Javascript, Jquery, AW...            9  \n",
       "28388  [HTML 5, CSS3, Wordpress, SEO, Google Analytic...            9  \n",
       "\n",
       "[13410 rows x 4 columns]"
      ]
     },
     "execution_count": 59,
     "metadata": {},
     "output_type": "execute_result"
    }
   ],
   "source": [
    "df_skill"
   ]
  },
  {
   "cell_type": "code",
   "execution_count": 62,
   "id": "edb9bf68",
   "metadata": {},
   "outputs": [],
   "source": [
    "import re"
   ]
  },
  {
   "cell_type": "code",
   "execution_count": 113,
   "id": "7f092172",
   "metadata": {},
   "outputs": [],
   "source": [
    "def group_words_with_hyphen(word_list):\n",
    "    updated_list = []\n",
    "    for title in word_list:\n",
    "        words = title.split()\n",
    "        updated_title = '-'.join(words)\n",
    "        updated_list.append(updated_title)\n",
    "    return updated_list"
   ]
  },
  {
   "cell_type": "code",
   "execution_count": 114,
   "id": "3acb72ff",
   "metadata": {},
   "outputs": [],
   "source": [
    "def list_to_text(lst):\n",
    "    return ' '.join(lst)"
   ]
  },
  {
   "cell_type": "code",
   "execution_count": 115,
   "id": "27a6a48c",
   "metadata": {},
   "outputs": [],
   "source": [
    "df_skill['Skill text'] = df_skill['Skill - list'].apply(group_words_with_hyphen)\n",
    "df_skill['Skill text'] = df_skill['Skill text'].apply(list_to_text)"
   ]
  },
  {
   "cell_type": "code",
   "execution_count": 116,
   "id": "f590ef74",
   "metadata": {},
   "outputs": [
    {
     "data": {
      "text/html": [
       "<div>\n",
       "<style scoped>\n",
       "    .dataframe tbody tr th:only-of-type {\n",
       "        vertical-align: middle;\n",
       "    }\n",
       "\n",
       "    .dataframe tbody tr th {\n",
       "        vertical-align: top;\n",
       "    }\n",
       "\n",
       "    .dataframe thead th {\n",
       "        text-align: right;\n",
       "    }\n",
       "</style>\n",
       "<table border=\"1\" class=\"dataframe\">\n",
       "  <thead>\n",
       "    <tr style=\"text-align: right;\">\n",
       "      <th></th>\n",
       "      <th>index</th>\n",
       "      <th>Label_1</th>\n",
       "      <th>Skill - list</th>\n",
       "      <th>Label_1_num</th>\n",
       "      <th>Skill text</th>\n",
       "    </tr>\n",
       "  </thead>\n",
       "  <tbody>\n",
       "    <tr>\n",
       "      <th>2575</th>\n",
       "      <td>2696</td>\n",
       "      <td>Database_Administrator</td>\n",
       "      <td>[.NET, Database, Database Engine, MICROSOFT AC...</td>\n",
       "      <td>0</td>\n",
       "      <td>.NET Database Database-Engine MICROSOFT-ACCESS...</td>\n",
       "    </tr>\n",
       "    <tr>\n",
       "      <th>851</th>\n",
       "      <td>895</td>\n",
       "      <td>Database_Administrator</td>\n",
       "      <td>[SQL, PLSQL,  TSQL, Java, Visual Basic,  R, Sh...</td>\n",
       "      <td>0</td>\n",
       "      <td>SQL PLSQL TSQL Java Visual-Basic R Shell-Scrip...</td>\n",
       "    </tr>\n",
       "    <tr>\n",
       "      <th>1411</th>\n",
       "      <td>1474</td>\n",
       "      <td>Database_Administrator</td>\n",
       "      <td>[Database, Sql, Erp, Software integration, Sap...</td>\n",
       "      <td>0</td>\n",
       "      <td>Database Sql Erp Software-integration Sap Docu...</td>\n",
       "    </tr>\n",
       "    <tr>\n",
       "      <th>819</th>\n",
       "      <td>857</td>\n",
       "      <td>Database_Administrator</td>\n",
       "      <td>[Organized and detail oriented, good critical ...</td>\n",
       "      <td>0</td>\n",
       "      <td>Organized-and-detail-oriented good-critical-th...</td>\n",
       "    </tr>\n",
       "    <tr>\n",
       "      <th>2268</th>\n",
       "      <td>2381</td>\n",
       "      <td>Database_Administrator</td>\n",
       "      <td>[Database, MS SQL SERVER, Replication., Shippi...</td>\n",
       "      <td>0</td>\n",
       "      <td>Database MS-SQL-SERVER Replication. Shipping S...</td>\n",
       "    </tr>\n",
       "    <tr>\n",
       "      <th>...</th>\n",
       "      <td>...</td>\n",
       "      <td>...</td>\n",
       "      <td>...</td>\n",
       "      <td>...</td>\n",
       "      <td>...</td>\n",
       "    </tr>\n",
       "    <tr>\n",
       "      <th>27677</th>\n",
       "      <td>28775</td>\n",
       "      <td>Web_Developer</td>\n",
       "      <td>[Prospecting, Cold calling, Customer service, ...</td>\n",
       "      <td>9</td>\n",
       "      <td>Prospecting Cold-calling Customer-service Qual...</td>\n",
       "    </tr>\n",
       "    <tr>\n",
       "      <th>3676</th>\n",
       "      <td>3819</td>\n",
       "      <td>Web_Developer</td>\n",
       "      <td>[React, Angular, Javascript, Front End, UI, Fr...</td>\n",
       "      <td>9</td>\n",
       "      <td>React Angular Javascript Front-End UI FrontEnd...</td>\n",
       "    </tr>\n",
       "    <tr>\n",
       "      <th>27516</th>\n",
       "      <td>28605</td>\n",
       "      <td>Web_Developer</td>\n",
       "      <td>[Angular, React, Javascript]</td>\n",
       "      <td>9</td>\n",
       "      <td>Angular React Javascript</td>\n",
       "    </tr>\n",
       "    <tr>\n",
       "      <th>28582</th>\n",
       "      <td>29713</td>\n",
       "      <td>Web_Developer</td>\n",
       "      <td>[Wordpress, HTML5, PHP, Javascript, Jquery, AW...</td>\n",
       "      <td>9</td>\n",
       "      <td>Wordpress HTML5 PHP Javascript Jquery AWS Pyth...</td>\n",
       "    </tr>\n",
       "    <tr>\n",
       "      <th>28388</th>\n",
       "      <td>29514</td>\n",
       "      <td>Web_Developer</td>\n",
       "      <td>[HTML 5, CSS3, Wordpress, SEO, Google Analytic...</td>\n",
       "      <td>9</td>\n",
       "      <td>HTML-5 CSS3 Wordpress SEO Google-Analytics Goo...</td>\n",
       "    </tr>\n",
       "  </tbody>\n",
       "</table>\n",
       "<p>13410 rows × 5 columns</p>\n",
       "</div>"
      ],
      "text/plain": [
       "       index                 Label_1  \\\n",
       "2575    2696  Database_Administrator   \n",
       "851      895  Database_Administrator   \n",
       "1411    1474  Database_Administrator   \n",
       "819      857  Database_Administrator   \n",
       "2268    2381  Database_Administrator   \n",
       "...      ...                     ...   \n",
       "27677  28775           Web_Developer   \n",
       "3676    3819           Web_Developer   \n",
       "27516  28605           Web_Developer   \n",
       "28582  29713           Web_Developer   \n",
       "28388  29514           Web_Developer   \n",
       "\n",
       "                                            Skill - list  Label_1_num  \\\n",
       "2575   [.NET, Database, Database Engine, MICROSOFT AC...            0   \n",
       "851    [SQL, PLSQL,  TSQL, Java, Visual Basic,  R, Sh...            0   \n",
       "1411   [Database, Sql, Erp, Software integration, Sap...            0   \n",
       "819    [Organized and detail oriented, good critical ...            0   \n",
       "2268   [Database, MS SQL SERVER, Replication., Shippi...            0   \n",
       "...                                                  ...          ...   \n",
       "27677  [Prospecting, Cold calling, Customer service, ...            9   \n",
       "3676   [React, Angular, Javascript, Front End, UI, Fr...            9   \n",
       "27516                       [Angular, React, Javascript]            9   \n",
       "28582  [Wordpress, HTML5, PHP, Javascript, Jquery, AW...            9   \n",
       "28388  [HTML 5, CSS3, Wordpress, SEO, Google Analytic...            9   \n",
       "\n",
       "                                              Skill text  \n",
       "2575   .NET Database Database-Engine MICROSOFT-ACCESS...  \n",
       "851    SQL PLSQL TSQL Java Visual-Basic R Shell-Scrip...  \n",
       "1411   Database Sql Erp Software-integration Sap Docu...  \n",
       "819    Organized-and-detail-oriented good-critical-th...  \n",
       "2268   Database MS-SQL-SERVER Replication. Shipping S...  \n",
       "...                                                  ...  \n",
       "27677  Prospecting Cold-calling Customer-service Qual...  \n",
       "3676   React Angular Javascript Front-End UI FrontEnd...  \n",
       "27516                           Angular React Javascript  \n",
       "28582  Wordpress HTML5 PHP Javascript Jquery AWS Pyth...  \n",
       "28388  HTML-5 CSS3 Wordpress SEO Google-Analytics Goo...  \n",
       "\n",
       "[13410 rows x 5 columns]"
      ]
     },
     "execution_count": 116,
     "metadata": {},
     "output_type": "execute_result"
    }
   ],
   "source": [
    "df_skill"
   ]
  },
  {
   "cell_type": "code",
   "execution_count": 127,
   "id": "78e64e29",
   "metadata": {
    "scrolled": true
   },
   "outputs": [
    {
     "name": "stdout",
     "output_type": "stream",
     "text": [
      "                  Label_1  Count\n",
      "0  Database_Administrator   1341\n",
      "1     Front_End_Developer   1341\n",
      "2          Java_Developer   1341\n",
      "3   Network_Administrator   1341\n",
      "4         Project_manager   1341\n",
      "5        Python_Developer   1341\n",
      "6        Security_Analyst   1341\n",
      "7      Software_Developer   1341\n",
      "8   Systems_Administrator   1341\n",
      "9           Web_Developer   1341\n"
     ]
    }
   ],
   "source": [
    "count_df = df_skill.groupby('Label_1').size().reset_index(name='Count')\n",
    "print(count_df)"
   ]
  },
  {
   "cell_type": "code",
   "execution_count": 128,
   "id": "257cdc4e",
   "metadata": {},
   "outputs": [],
   "source": [
    "\n",
    "\n",
    "X_train, X_test, y_train, y_test = train_test_split(df_skill['Skill text'],df_skill['Label_1'], test_size=0.2, random_state=2023, stratify=df_skill['Label_1'])"
   ]
  },
  {
   "cell_type": "code",
   "execution_count": 129,
   "id": "28b470c8",
   "metadata": {
    "scrolled": true
   },
   "outputs": [
    {
     "name": "stdout",
     "output_type": "stream",
     "text": [
      "                        precision    recall  f1-score   support\n",
      "\n",
      "Database_Administrator       0.81      0.68      0.74       268\n",
      "   Front_End_Developer       0.63      0.69      0.66       268\n",
      "        Java_Developer       0.73      0.92      0.81       268\n",
      " Network_Administrator       0.65      0.62      0.64       268\n",
      "       Project_manager       0.62      0.66      0.64       268\n",
      "      Python_Developer       0.75      0.84      0.79       268\n",
      "      Security_Analyst       0.76      0.62      0.68       269\n",
      "    Software_Developer       0.50      0.45      0.47       269\n",
      " Systems_Administrator       0.62      0.64      0.63       268\n",
      "         Web_Developer       0.52      0.49      0.50       268\n",
      "\n",
      "              accuracy                           0.66      2682\n",
      "             macro avg       0.66      0.66      0.66      2682\n",
      "          weighted avg       0.66      0.66      0.66      2682\n",
      "\n"
     ]
    }
   ],
   "source": [
    "clf_skill = Pipeline([\n",
    "     ('vectorizer_bow', CountVectorizer(ngram_range = (1, 1), token_pattern=r'[a-zA-Z&+#.-]+')),\n",
    "     ('Multi NB', MultinomialNB())\n",
    "])\n",
    "\n",
    "clf_skill.fit(X_train, y_train)\n",
    "\n",
    "y_pred_skill = clf_skill.predict(X_test)\n",
    "\n",
    "print(classification_report(y_test, y_pred_skill))"
   ]
  },
  {
   "cell_type": "code",
   "execution_count": 131,
   "id": "cacc0391",
   "metadata": {},
   "outputs": [
    {
     "data": {
      "text/plain": [
       "Text(95.72222222222221, 0.5, 'Truth')"
      ]
     },
     "execution_count": 131,
     "metadata": {},
     "output_type": "execute_result"
    },
    {
     "data": {
      "image/png": "[encoded data removed]",
      "text/plain": [
       "<Figure size 1000x700 with 2 Axes>"
      ]
     },
     "metadata": {},
     "output_type": "display_data"
    }
   ],
   "source": [
    "cm = confusion_matrix(y_test, y_pred_skill)\n",
    "cm\n",
    "plt.figure(figsize = (10,7))\n",
    "sn.heatmap(cm, annot=True, fmt='d')\n",
    "plt.xlabel('Prediction')\n",
    "plt.ylabel('Truth')"
   ]
  },
  {
   "cell_type": "code",
   "execution_count": 117,
   "id": "52fba9a7",
   "metadata": {
    "scrolled": true
   },
   "outputs": [
    {
     "name": "stdout",
     "output_type": "stream",
     "text": [
      "   .net  c  c#  c++  database  g  html  project-management-aiq  python\n",
      "0     1  0   0    0         0  1     0                       0       0\n",
      "1     0  0   0    0         1  0     0                       0       1\n",
      "2     0  0   0    1         0  0     0                       0       0\n",
      "3     0  1   1    0         0  0     0                       0       0\n",
      "4     0  0   0    0         0  0     1                       1       0\n"
     ]
    },
    {
     "name": "stderr",
     "output_type": "stream",
     "text": [
      "C:\\Users\\shenyn96\\AppData\\Local\\Programs\\Python\\Python310\\lib\\site-packages\\sklearn\\utils\\deprecation.py:87: FutureWarning: Function get_feature_names is deprecated; get_feature_names is deprecated in 1.0 and will be removed in 1.2. Please use get_feature_names_out instead.\n",
      "  warnings.warn(msg, category=FutureWarning)\n"
     ]
    }
   ],
   "source": [
    "vectorizer = CountVectorizer(token_pattern=r'[a-zA-Z&+#.-]+')\n",
    "\n",
    "# Fit and transform the corpus\n",
    "X = vectorizer.fit_transform(corpus)\n",
    "\n",
    "# Get the feature names (tokens)\n",
    "feature_names = vectorizer.get_feature_names()\n",
    "\n",
    "# Create DataFrame\n",
    "df = pd.DataFrame(X.toarray(), columns=feature_names)\n",
    "\n",
    "# Print DataFrame\n",
    "print(df)"
   ]
  },
  {
   "cell_type": "code",
   "execution_count": 8,
   "id": "18c27fbb",
   "metadata": {},
   "outputs": [],
   "source": [
    "df_activity = df_balanced.drop(['Resume','Education','Skill','Work Exp - Titles with freq','Resume - sentence', 'Work Exp - Titles', 'Skill - list', 'Education - degree'], axis=1)"
   ]
  },
  {
   "cell_type": "code",
   "execution_count": 9,
   "id": "e8d04729",
   "metadata": {},
   "outputs": [],
   "source": [
    "import spacy\n",
    "nlp = spacy.load(\"en_core_web_sm\") "
   ]
  },
  {
   "cell_type": "code",
   "execution_count": 10,
   "id": "2f6e4b2d",
   "metadata": {},
   "outputs": [],
   "source": [
    "def exclude_unrelated_activity(text_list):\n",
    "    phrases_to_exclude = [\"authorize to work\", \"seek\", \"work experience\"]\n",
    "    updated_list = [string for string in text_list if not any(phrase.lower() in string.lower() for phrase in phrases_to_exclude)]\n",
    "    return \" \".join(updated_list)"
   ]
  },
  {
   "cell_type": "code",
   "execution_count": 11,
   "id": "57ef8f65",
   "metadata": {},
   "outputs": [],
   "source": [
    "df_activity['Resume - key activity'] = df_activity['Resume - key activity'].apply(exclude_unrelated_activity)"
   ]
  },
  {
   "cell_type": "code",
   "execution_count": 12,
   "id": "481353d8",
   "metadata": {},
   "outputs": [],
   "source": [
    "def preprocess_key_activity(text):\n",
    "    filtered_tokens = []\n",
    "    doc = nlp(text)\n",
    "    for token in doc:\n",
    "        if token.is_stop or token.is_punct or token.is_digit:\n",
    "            continue\n",
    "        filtered_tokens.append(token.lemma_)\n",
    "    return \" \".join(filtered_tokens) "
   ]
  },
  {
   "cell_type": "code",
   "execution_count": 13,
   "id": "090cacba",
   "metadata": {},
   "outputs": [],
   "source": [
    "df_activity['key activity text'] = df_activity['Resume - key activity'].apply(preprocess_key_activity)"
   ]
  },
  {
   "cell_type": "code",
   "execution_count": 14,
   "id": "6980ae1a",
   "metadata": {},
   "outputs": [
    {
     "data": {
      "text/html": [
       "<div>\n",
       "<style scoped>\n",
       "    .dataframe tbody tr th:only-of-type {\n",
       "        vertical-align: middle;\n",
       "    }\n",
       "\n",
       "    .dataframe tbody tr th {\n",
       "        vertical-align: top;\n",
       "    }\n",
       "\n",
       "    .dataframe thead th {\n",
       "        text-align: right;\n",
       "    }\n",
       "</style>\n",
       "<table border=\"1\" class=\"dataframe\">\n",
       "  <thead>\n",
       "    <tr style=\"text-align: right;\">\n",
       "      <th></th>\n",
       "      <th>index</th>\n",
       "      <th>Label_1</th>\n",
       "      <th>Resume - key activity</th>\n",
       "      <th>Label_1_num</th>\n",
       "      <th>key activity text</th>\n",
       "    </tr>\n",
       "  </thead>\n",
       "  <tbody>\n",
       "    <tr>\n",
       "      <th>2575</th>\n",
       "      <td>2696</td>\n",
       "      <td>Database_Administrator</td>\n",
       "      <td>work in the US for any employer Work provide c...</td>\n",
       "      <td>0</td>\n",
       "      <td>work employer work provide consult lead provid...</td>\n",
       "    </tr>\n",
       "    <tr>\n",
       "      <th>851</th>\n",
       "      <td>895</td>\n",
       "      <td>Database_Administrator</td>\n",
       "      <td>manage database security perform implementatio...</td>\n",
       "      <td>0</td>\n",
       "      <td>manage database security perform implementatio...</td>\n",
       "    </tr>\n",
       "    <tr>\n",
       "      <th>1411</th>\n",
       "      <td>1474</td>\n",
       "      <td>Database_Administrator</td>\n",
       "      <td>manage all SQL Servers for the company Re- des...</td>\n",
       "      <td>0</td>\n",
       "      <td>manage SQL Servers company re- design SQL Data...</td>\n",
       "    </tr>\n",
       "    <tr>\n",
       "      <th>819</th>\n",
       "      <td>857</td>\n",
       "      <td>Database_Administrator</td>\n",
       "      <td>detail orient , good critical thinking skills</td>\n",
       "      <td>0</td>\n",
       "      <td>detail orient good critical thinking skill</td>\n",
       "    </tr>\n",
       "    <tr>\n",
       "      <th>2268</th>\n",
       "      <td>2381</td>\n",
       "      <td>Database_Administrator</td>\n",
       "      <td>provide advice maintain maximum availability o...</td>\n",
       "      <td>0</td>\n",
       "      <td>provide advice maintain maximum availability o...</td>\n",
       "    </tr>\n",
       "    <tr>\n",
       "      <th>...</th>\n",
       "      <td>...</td>\n",
       "      <td>...</td>\n",
       "      <td>...</td>\n",
       "      <td>...</td>\n",
       "      <td>...</td>\n",
       "    </tr>\n",
       "    <tr>\n",
       "      <th>27677</th>\n",
       "      <td>28775</td>\n",
       "      <td>Web_Developer</td>\n",
       "      <td>drive to provide superior quality customer ser...</td>\n",
       "      <td>9</td>\n",
       "      <td>drive provide superior quality customer servic...</td>\n",
       "    </tr>\n",
       "    <tr>\n",
       "      <th>3676</th>\n",
       "      <td>3819</td>\n",
       "      <td>Web_Developer</td>\n",
       "      <td>lead NYC- base web design agency deliver the b...</td>\n",
       "      <td>9</td>\n",
       "      <td>lead nyc- base web design agency deliver good ...</td>\n",
       "    </tr>\n",
       "    <tr>\n",
       "      <th>27516</th>\n",
       "      <td>28605</td>\n",
       "      <td>Web_Developer</td>\n",
       "      <td>develop Windows and web reduce design customiz...</td>\n",
       "      <td>9</td>\n",
       "      <td>develop Windows web reduce design customize in...</td>\n",
       "    </tr>\n",
       "    <tr>\n",
       "      <th>28582</th>\n",
       "      <td>29713</td>\n",
       "      <td>Web_Developer</td>\n",
       "      <td>design and implement websites design and build...</td>\n",
       "      <td>9</td>\n",
       "      <td>design implement website design build cloud(aw...</td>\n",
       "    </tr>\n",
       "    <tr>\n",
       "      <th>28388</th>\n",
       "      <td>29514</td>\n",
       "      <td>Web_Developer</td>\n",
       "      <td>orient craftsman host experience write communi...</td>\n",
       "      <td>9</td>\n",
       "      <td>orient craftsman host experience write communi...</td>\n",
       "    </tr>\n",
       "  </tbody>\n",
       "</table>\n",
       "<p>13410 rows × 5 columns</p>\n",
       "</div>"
      ],
      "text/plain": [
       "       index                 Label_1  \\\n",
       "2575    2696  Database_Administrator   \n",
       "851      895  Database_Administrator   \n",
       "1411    1474  Database_Administrator   \n",
       "819      857  Database_Administrator   \n",
       "2268    2381  Database_Administrator   \n",
       "...      ...                     ...   \n",
       "27677  28775           Web_Developer   \n",
       "3676    3819           Web_Developer   \n",
       "27516  28605           Web_Developer   \n",
       "28582  29713           Web_Developer   \n",
       "28388  29514           Web_Developer   \n",
       "\n",
       "                                   Resume - key activity  Label_1_num  \\\n",
       "2575   work in the US for any employer Work provide c...            0   \n",
       "851    manage database security perform implementatio...            0   \n",
       "1411   manage all SQL Servers for the company Re- des...            0   \n",
       "819        detail orient , good critical thinking skills            0   \n",
       "2268   provide advice maintain maximum availability o...            0   \n",
       "...                                                  ...          ...   \n",
       "27677  drive to provide superior quality customer ser...            9   \n",
       "3676   lead NYC- base web design agency deliver the b...            9   \n",
       "27516  develop Windows and web reduce design customiz...            9   \n",
       "28582  design and implement websites design and build...            9   \n",
       "28388  orient craftsman host experience write communi...            9   \n",
       "\n",
       "                                       key activity text  \n",
       "2575   work employer work provide consult lead provid...  \n",
       "851    manage database security perform implementatio...  \n",
       "1411   manage SQL Servers company re- design SQL Data...  \n",
       "819           detail orient good critical thinking skill  \n",
       "2268   provide advice maintain maximum availability o...  \n",
       "...                                                  ...  \n",
       "27677  drive provide superior quality customer servic...  \n",
       "3676   lead nyc- base web design agency deliver good ...  \n",
       "27516  develop Windows web reduce design customize in...  \n",
       "28582  design implement website design build cloud(aw...  \n",
       "28388  orient craftsman host experience write communi...  \n",
       "\n",
       "[13410 rows x 5 columns]"
      ]
     },
     "execution_count": 14,
     "metadata": {},
     "output_type": "execute_result"
    }
   ],
   "source": [
    "df_activity"
   ]
  },
  {
   "cell_type": "code",
   "execution_count": 15,
   "id": "e2e47681",
   "metadata": {
    "scrolled": true
   },
   "outputs": [
    {
     "name": "stdout",
     "output_type": "stream",
     "text": [
      "                  Label_1  Count\n",
      "0  Database_Administrator   1341\n",
      "1     Front_End_Developer   1341\n",
      "2          Java_Developer   1341\n",
      "3   Network_Administrator   1341\n",
      "4         Project_manager   1341\n",
      "5        Python_Developer   1341\n",
      "6        Security_Analyst   1341\n",
      "7      Software_Developer   1341\n",
      "8   Systems_Administrator   1341\n",
      "9           Web_Developer   1341\n"
     ]
    }
   ],
   "source": [
    "count_df = df_activity.groupby('Label_1').size().reset_index(name='Count')\n",
    "print(count_df)"
   ]
  },
  {
   "cell_type": "code",
   "execution_count": 16,
   "id": "9c16b5e2",
   "metadata": {},
   "outputs": [],
   "source": [
    "df_activity.to_pickle(\"./preprocessed_activity.pkl\")"
   ]
  },
  {
   "cell_type": "code",
   "execution_count": 17,
   "id": "13635a1b",
   "metadata": {},
   "outputs": [],
   "source": [
    "df_activity.to_csv('./preprocessed_activity.csv', index=False)"
   ]
  },
  {
   "cell_type": "code",
   "execution_count": 205,
   "id": "3b043443",
   "metadata": {},
   "outputs": [],
   "source": [
    "\n",
    "# X_train, X_test, y_train, y_test = train_test_split(df_activity['key activity text'],df_activity['Label_1_num'], test_size=0.2, random_state=2023, stratify=df_activity['Label_1_num'])"
   ]
  },
  {
   "cell_type": "code",
   "execution_count": 20,
   "id": "e72bbb13",
   "metadata": {},
   "outputs": [],
   "source": [
    "\n",
    "X_train, X_test, y_train, y_test = train_test_split(df_activity['key activity text'],df_activity['Label_1'], test_size=0.2, random_state=2023, stratify=df_activity['Label_1'])"
   ]
  },
  {
   "cell_type": "code",
   "execution_count": 24,
   "id": "d5866772",
   "metadata": {},
   "outputs": [],
   "source": [
    "from sklearn.feature_extraction.text import TfidfVectorizer"
   ]
  },
  {
   "cell_type": "code",
   "execution_count": 25,
   "id": "a9f319db",
   "metadata": {},
   "outputs": [
    {
     "name": "stdout",
     "output_type": "stream",
     "text": [
      "                        precision    recall  f1-score   support\n",
      "\n",
      "Database_Administrator       0.89      0.70      0.78       268\n",
      "   Front_End_Developer       0.59      0.65      0.62       268\n",
      "        Java_Developer       0.57      0.92      0.71       268\n",
      " Network_Administrator       0.69      0.44      0.54       268\n",
      "       Project_manager       0.53      0.78      0.63       268\n",
      "      Python_Developer       0.69      0.87      0.77       268\n",
      "      Security_Analyst       0.67      0.71      0.69       269\n",
      "    Software_Developer       0.53      0.19      0.27       269\n",
      " Systems_Administrator       0.50      0.59      0.54       268\n",
      "         Web_Developer       0.53      0.29      0.38       268\n",
      "\n",
      "              accuracy                           0.61      2682\n",
      "             macro avg       0.62      0.61      0.59      2682\n",
      "          weighted avg       0.62      0.61      0.59      2682\n",
      "\n"
     ]
    }
   ],
   "source": [
    "clf_activity = Pipeline([\n",
    "     ('vectorizer_tfidf',TfidfVectorizer()),\n",
    "     ('Multi NB', MultinomialNB())\n",
    "])\n",
    "\n",
    "clf_activity.fit(X_train, y_train)\n",
    "\n",
    "y_pred_activity = clf_activity.predict(X_test)\n",
    "\n",
    "print(classification_report(y_test, y_pred_activity))"
   ]
  },
  {
   "cell_type": "code",
   "execution_count": 29,
   "id": "1c3d92f2",
   "metadata": {},
   "outputs": [],
   "source": [
    "from matplotlib import pyplot as plt\n",
    "import seaborn as sn"
   ]
  },
  {
   "cell_type": "code",
   "execution_count": 30,
   "id": "449e3892",
   "metadata": {},
   "outputs": [
    {
     "data": {
      "text/plain": [
       "Text(95.72222222222221, 0.5, 'Truth')"
      ]
     },
     "execution_count": 30,
     "metadata": {},
     "output_type": "execute_result"
    },
    {
     "data": {
      "image/png": "[encoded data removed]",
      "text/plain": [
       "<Figure size 1000x700 with 2 Axes>"
      ]
     },
     "metadata": {},
     "output_type": "display_data"
    }
   ],
   "source": [
    "cm = confusion_matrix(y_test, y_pred_activity)\n",
    "cm\n",
    "plt.figure(figsize = (10,7))\n",
    "sn.heatmap(cm, annot=True, fmt='d')\n",
    "plt.xlabel('Prediction')\n",
    "plt.ylabel('Truth')"
   ]
  },
  {
   "cell_type": "code",
   "execution_count": 27,
   "id": "98b72524",
   "metadata": {},
   "outputs": [],
   "source": [
    "from sklearn.ensemble import RandomForestClassifier"
   ]
  },
  {
   "cell_type": "code",
   "execution_count": 31,
   "id": "e272e693",
   "metadata": {},
   "outputs": [
    {
     "name": "stdout",
     "output_type": "stream",
     "text": [
      "                        precision    recall  f1-score   support\n",
      "\n",
      "Database_Administrator       0.79      0.75      0.77       268\n",
      "   Front_End_Developer       0.66      0.59      0.62       268\n",
      "        Java_Developer       0.77      0.85      0.81       268\n",
      " Network_Administrator       0.52      0.61      0.56       268\n",
      "       Project_manager       0.65      0.70      0.68       268\n",
      "      Python_Developer       0.92      0.79      0.85       268\n",
      "      Security_Analyst       0.74      0.66      0.70       269\n",
      "    Software_Developer       0.44      0.43      0.43       269\n",
      " Systems_Administrator       0.52      0.50      0.51       268\n",
      "         Web_Developer       0.47      0.52      0.49       268\n",
      "\n",
      "              accuracy                           0.64      2682\n",
      "             macro avg       0.65      0.64      0.64      2682\n",
      "          weighted avg       0.65      0.64      0.64      2682\n",
      "\n"
     ]
    }
   ],
   "source": [
    "clf_activity_RF = Pipeline([\n",
    "     ('vectorizer_tfidf',TfidfVectorizer()),\n",
    "     ('Random Forest', RandomForestClassifier())\n",
    "])\n",
    "\n",
    "clf_activity_RF.fit(X_train, y_train)\n",
    "\n",
    "y_pred_activity_RF = clf_activity_RF.predict(X_test)\n",
    "\n",
    "print(classification_report(y_test, y_pred_activity_RF))"
   ]
  },
  {
   "cell_type": "code",
   "execution_count": 32,
   "id": "475f24ad",
   "metadata": {},
   "outputs": [
    {
     "data": {
      "text/plain": [
       "Text(95.72222222222221, 0.5, 'Truth')"
      ]
     },
     "execution_count": 32,
     "metadata": {},
     "output_type": "execute_result"
    },
    {
     "data": {
      "image/png": "[encoded data removed]",
      "text/plain": [
       "<Figure size 1000x700 with 2 Axes>"
      ]
     },
     "metadata": {},
     "output_type": "display_data"
    }
   ],
   "source": [
    "cm = confusion_matrix(y_test, y_pred_activity_RF)\n",
    "cm\n",
    "plt.figure(figsize = (10,7))\n",
    "sn.heatmap(cm, annot=True, fmt='d')\n",
    "plt.xlabel('Prediction')\n",
    "plt.ylabel('Truth')"
   ]
  },
  {
   "cell_type": "code",
   "execution_count": 33,
   "id": "19f99474",
   "metadata": {},
   "outputs": [],
   "source": [
    "from sklearn.neighbors import KNeighborsClassifier"
   ]
  },
  {
   "cell_type": "code",
   "execution_count": 34,
   "id": "2a7e8b73",
   "metadata": {},
   "outputs": [
    {
     "name": "stdout",
     "output_type": "stream",
     "text": [
      "                        precision    recall  f1-score   support\n",
      "\n",
      "Database_Administrator       0.21      0.49      0.29       268\n",
      "   Front_End_Developer       0.20      0.45      0.28       268\n",
      "        Java_Developer       0.83      0.63      0.71       268\n",
      " Network_Administrator       0.14      0.40      0.21       268\n",
      "       Project_manager       0.16      0.06      0.08       268\n",
      "      Python_Developer       0.98      0.63      0.77       268\n",
      "      Security_Analyst       0.94      0.11      0.20       269\n",
      "    Software_Developer       0.19      0.04      0.07       269\n",
      " Systems_Administrator       0.13      0.05      0.07       268\n",
      "         Web_Developer       0.55      0.06      0.11       268\n",
      "\n",
      "              accuracy                           0.29      2682\n",
      "             macro avg       0.43      0.29      0.28      2682\n",
      "          weighted avg       0.43      0.29      0.28      2682\n",
      "\n"
     ]
    }
   ],
   "source": [
    "clf_activity_KN = Pipeline([\n",
    "     ('vectorizer_tfidf',TfidfVectorizer()),\n",
    "     ('KNN', KNeighborsClassifier())\n",
    "])\n",
    "\n",
    "clf_activity_KN.fit(X_train, y_train)\n",
    "\n",
    "y_pred_activity_KN = clf_activity_KN.predict(X_test)\n",
    "\n",
    "print(classification_report(y_test, y_pred_activity_KN))"
   ]
  },
  {
   "cell_type": "code",
   "execution_count": 35,
   "id": "f85d8c2a",
   "metadata": {},
   "outputs": [
    {
     "data": {
      "text/plain": [
       "Text(95.72222222222221, 0.5, 'Truth')"
      ]
     },
     "execution_count": 35,
     "metadata": {},
     "output_type": "execute_result"
    },
    {
     "data": {
      "image/png": "[encoded data removed]",
      "text/plain": [
       "<Figure size 1000x700 with 2 Axes>"
      ]
     },
     "metadata": {},
     "output_type": "display_data"
    }
   ],
   "source": [
    "cm = confusion_matrix(y_test, y_pred_activity_KN)\n",
    "cm\n",
    "plt.figure(figsize = (10,7))\n",
    "sn.heatmap(cm, annot=True, fmt='d')\n",
    "plt.xlabel('Prediction')\n",
    "plt.ylabel('Truth')"
   ]
  },
  {
   "cell_type": "code",
   "execution_count": 132,
   "id": "8992a644",
   "metadata": {},
   "outputs": [],
   "source": [
    "import tensorflow_hub as hub"
   ]
  },
  {
   "cell_type": "code",
   "execution_count": 133,
   "id": "9f603656",
   "metadata": {},
   "outputs": [],
   "source": [
    "import tensorflow_text as text"
   ]
  },
  {
   "cell_type": "code",
   "execution_count": 135,
   "id": "dad4f6f1",
   "metadata": {
    "scrolled": true
   },
   "outputs": [],
   "source": [
    "bert_preprocess = hub.KerasLayer(\"https://tfhub.dev/tensorflow/bert_en_uncased_preprocess/3\")\n",
    "bert_encoder = hub.KerasLayer(\"https://tfhub.dev/tensorflow/bert_en_uncased_L-12_H-768_A-12/4\")"
   ]
  },
  {
   "cell_type": "code",
   "execution_count": 136,
   "id": "8ab415ab",
   "metadata": {},
   "outputs": [
    {
     "data": {
      "text/plain": [
       "<tf.Tensor: shape=(2, 768), dtype=float32, numpy=\n",
       "array([[-0.7675251 , -0.40953064, -0.9885367 , ..., -0.9228359 ,\n",
       "        -0.5998456 ,  0.6726797 ],\n",
       "       [-0.8922709 , -0.55637825, -0.9923255 , ..., -0.9612064 ,\n",
       "        -0.6195957 ,  0.7270669 ]], dtype=float32)>"
      ]
     },
     "execution_count": 136,
     "metadata": {},
     "output_type": "execute_result"
    }
   ],
   "source": [
    "def get_sentence_embeding(sentences):\n",
    "    preprocessed_text = bert_preprocess(sentences)\n",
    "    return bert_encoder(preprocessed_text)['pooled_output']\n",
    "\n",
    "# get_sentence_embeding([\n",
    "#     \"Oracle Database Administrator, Oracle DBA\", \n",
    "#     \"Software Engineer, Web Developer\"]\n",
    "# )"
   ]
  },
  {
   "cell_type": "code",
   "execution_count": 215,
   "id": "7aa3c17f",
   "metadata": {},
   "outputs": [],
   "source": [
    "# Bert layers\n",
    "text_input = tf.keras.layers.Input(shape=(), dtype=tf.string, name='text')\n",
    "preprocessed_text = bert_preprocess(text_input)\n",
    "outputs = bert_encoder(preprocessed_text)\n",
    "\n",
    "# Neural network layers\n",
    "l = tf.keras.layers.Dropout(0.1, name=\"dropout\")(outputs['pooled_output'])\n",
    "l = tf.keras.layers.Dense(10, activation='softmax', name=\"output\")(l)\n",
    "\n",
    "\n",
    "# Use inputs and outputs to construct a final model\n",
    "model = tf.keras.Model(inputs=[text_input], outputs = [l])"
   ]
  },
  {
   "cell_type": "code",
   "execution_count": 192,
   "id": "210807d0",
   "metadata": {
    "scrolled": true
   },
   "outputs": [
    {
     "name": "stdout",
     "output_type": "stream",
     "text": [
      "Model: \"model\"\n",
      "__________________________________________________________________________________________________\n",
      " Layer (type)                   Output Shape         Param #     Connected to                     \n",
      "==================================================================================================\n",
      " text (InputLayer)              [(None,)]            0           []                               \n",
      "                                                                                                  \n",
      " keras_layer (KerasLayer)       {'input_type_ids':   0           ['text[0][0]']                   \n",
      "                                (None, 128),                                                      \n",
      "                                 'input_mask': (Non                                               \n",
      "                                e, 128),                                                          \n",
      "                                 'input_word_ids':                                                \n",
      "                                (None, 128)}                                                      \n",
      "                                                                                                  \n",
      " keras_layer_1 (KerasLayer)     {'sequence_output':  109482241   ['keras_layer[0][0]',            \n",
      "                                 (None, 128, 768),                'keras_layer[0][1]',            \n",
      "                                 'encoder_outputs':               'keras_layer[0][2]']            \n",
      "                                 [(None, 128, 768),                                               \n",
      "                                 (None, 128, 768),                                                \n",
      "                                 (None, 128, 768),                                                \n",
      "                                 (None, 128, 768),                                                \n",
      "                                 (None, 128, 768),                                                \n",
      "                                 (None, 128, 768),                                                \n",
      "                                 (None, 128, 768),                                                \n",
      "                                 (None, 128, 768),                                                \n",
      "                                 (None, 128, 768),                                                \n",
      "                                 (None, 128, 768),                                                \n",
      "                                 (None, 128, 768),                                                \n",
      "                                 (None, 128, 768)],                                               \n",
      "                                 'default': (None,                                                \n",
      "                                768),                                                             \n",
      "                                 'pooled_output': (                                               \n",
      "                                None, 768)}                                                       \n",
      "                                                                                                  \n",
      " dropout (Dropout)              (None, 768)          0           ['keras_layer_1[0][13]']         \n",
      "                                                                                                  \n",
      " output (Dense)                 (None, 1)            769         ['dropout[0][0]']                \n",
      "                                                                                                  \n",
      "==================================================================================================\n",
      "Total params: 109,483,010\n",
      "Trainable params: 769\n",
      "Non-trainable params: 109,482,241\n",
      "__________________________________________________________________________________________________\n"
     ]
    }
   ],
   "source": [
    "model.summary()"
   ]
  },
  {
   "cell_type": "code",
   "execution_count": 201,
   "id": "b76b372f",
   "metadata": {},
   "outputs": [
    {
     "data": {
      "text/plain": [
       "10728"
      ]
     },
     "execution_count": 201,
     "metadata": {},
     "output_type": "execute_result"
    }
   ],
   "source": [
    "len(X_train)"
   ]
  },
  {
   "cell_type": "code",
   "execution_count": 216,
   "id": "4b5a4672",
   "metadata": {},
   "outputs": [],
   "source": [
    "METRICS = [\n",
    "      tf.keras.metrics.BinaryAccuracy(name='accuracy'),\n",
    "      tf.keras.metrics.Precision(name='precision'),\n",
    "      tf.keras.metrics.Recall(name='recall')\n",
    "]\n",
    "\n",
    "model.compile(optimizer='adam',\n",
    "              loss='sparse_categorical_crossentropy',\n",
    "              metrics=METRICS)"
   ]
  },
  {
   "cell_type": "code",
   "execution_count": 217,
   "id": "b7b46363",
   "metadata": {},
   "outputs": [
    {
     "ename": "ValueError",
     "evalue": "in user code:\n\n    File \"C:\\Users\\shenyn96\\AppData\\Local\\Programs\\Python\\Python310\\lib\\site-packages\\keras\\engine\\training.py\", line 1160, in train_function  *\n        return step_function(self, iterator)\n    File \"C:\\Users\\shenyn96\\AppData\\Local\\Programs\\Python\\Python310\\lib\\site-packages\\keras\\engine\\training.py\", line 1146, in step_function  **\n        outputs = model.distribute_strategy.run(run_step, args=(data,))\n    File \"C:\\Users\\shenyn96\\AppData\\Local\\Programs\\Python\\Python310\\lib\\site-packages\\keras\\engine\\training.py\", line 1135, in run_step  **\n        outputs = model.train_step(data)\n    File \"C:\\Users\\shenyn96\\AppData\\Local\\Programs\\Python\\Python310\\lib\\site-packages\\keras\\engine\\training.py\", line 998, in train_step\n        return self.compute_metrics(x, y, y_pred, sample_weight)\n    File \"C:\\Users\\shenyn96\\AppData\\Local\\Programs\\Python\\Python310\\lib\\site-packages\\keras\\engine\\training.py\", line 1092, in compute_metrics\n        self.compiled_metrics.update_state(y, y_pred, sample_weight)\n    File \"C:\\Users\\shenyn96\\AppData\\Local\\Programs\\Python\\Python310\\lib\\site-packages\\keras\\engine\\compile_utils.py\", line 605, in update_state\n        metric_obj.update_state(y_t, y_p, sample_weight=mask)\n    File \"C:\\Users\\shenyn96\\AppData\\Local\\Programs\\Python\\Python310\\lib\\site-packages\\keras\\utils\\metrics_utils.py\", line 77, in decorated\n        update_op = update_state_fn(*args, **kwargs)\n    File \"C:\\Users\\shenyn96\\AppData\\Local\\Programs\\Python\\Python310\\lib\\site-packages\\keras\\metrics\\base_metric.py\", line 143, in update_state_fn\n        return ag_update_state(*args, **kwargs)\n    File \"C:\\Users\\shenyn96\\AppData\\Local\\Programs\\Python\\Python310\\lib\\site-packages\\keras\\metrics\\metrics.py\", line 906, in update_state  **\n        return metrics_utils.update_confusion_matrix_variables(\n    File \"C:\\Users\\shenyn96\\AppData\\Local\\Programs\\Python\\Python310\\lib\\site-packages\\keras\\utils\\metrics_utils.py\", line 674, in update_confusion_matrix_variables\n        y_pred.shape.assert_is_compatible_with(y_true.shape)\n\n    ValueError: Shapes (None, 10) and (None, 1) are incompatible\n",
     "output_type": "error",
     "traceback": [
      "\u001b[1;31m---------------------------------------------------------------------------\u001b[0m",
      "\u001b[1;31mValueError\u001b[0m                                Traceback (most recent call last)",
      "Cell \u001b[1;32mIn [217], line 1\u001b[0m\n\u001b[1;32m----> 1\u001b[0m \u001b[43mmodel\u001b[49m\u001b[38;5;241;43m.\u001b[39;49m\u001b[43mfit\u001b[49m\u001b[43m(\u001b[49m\u001b[43mX_train\u001b[49m\u001b[43m,\u001b[49m\u001b[43m \u001b[49m\u001b[43my_train\u001b[49m\u001b[43m,\u001b[49m\u001b[43m \u001b[49m\u001b[43mepochs\u001b[49m\u001b[38;5;241;43m=\u001b[39;49m\u001b[38;5;241;43m1\u001b[39;49m\u001b[43m)\u001b[49m\n",
      "File \u001b[1;32m~\\AppData\\Local\\Programs\\Python\\Python310\\lib\\site-packages\\keras\\utils\\traceback_utils.py:70\u001b[0m, in \u001b[0;36mfilter_traceback.<locals>.error_handler\u001b[1;34m(*args, **kwargs)\u001b[0m\n\u001b[0;32m     67\u001b[0m     filtered_tb \u001b[38;5;241m=\u001b[39m _process_traceback_frames(e\u001b[38;5;241m.\u001b[39m__traceback__)\n\u001b[0;32m     68\u001b[0m     \u001b[38;5;66;03m# To get the full stack trace, call:\u001b[39;00m\n\u001b[0;32m     69\u001b[0m     \u001b[38;5;66;03m# `tf.debugging.disable_traceback_filtering()`\u001b[39;00m\n\u001b[1;32m---> 70\u001b[0m     \u001b[38;5;28;01mraise\u001b[39;00m e\u001b[38;5;241m.\u001b[39mwith_traceback(filtered_tb) \u001b[38;5;28;01mfrom\u001b[39;00m \u001b[38;5;28mNone\u001b[39m\n\u001b[0;32m     71\u001b[0m \u001b[38;5;28;01mfinally\u001b[39;00m:\n\u001b[0;32m     72\u001b[0m     \u001b[38;5;28;01mdel\u001b[39;00m filtered_tb\n",
      "File \u001b[1;32m~\\AppData\\Local\\Temp\\__autograph_generated_filemi92kj4d.py:15\u001b[0m, in \u001b[0;36mouter_factory.<locals>.inner_factory.<locals>.tf__train_function\u001b[1;34m(iterator)\u001b[0m\n\u001b[0;32m     13\u001b[0m \u001b[38;5;28;01mtry\u001b[39;00m:\n\u001b[0;32m     14\u001b[0m     do_return \u001b[38;5;241m=\u001b[39m \u001b[38;5;28;01mTrue\u001b[39;00m\n\u001b[1;32m---> 15\u001b[0m     retval_ \u001b[38;5;241m=\u001b[39m ag__\u001b[38;5;241m.\u001b[39mconverted_call(ag__\u001b[38;5;241m.\u001b[39mld(step_function), (ag__\u001b[38;5;241m.\u001b[39mld(\u001b[38;5;28mself\u001b[39m), ag__\u001b[38;5;241m.\u001b[39mld(iterator)), \u001b[38;5;28;01mNone\u001b[39;00m, fscope)\n\u001b[0;32m     16\u001b[0m \u001b[38;5;28;01mexcept\u001b[39;00m:\n\u001b[0;32m     17\u001b[0m     do_return \u001b[38;5;241m=\u001b[39m \u001b[38;5;28;01mFalse\u001b[39;00m\n",
      "\u001b[1;31mValueError\u001b[0m: in user code:\n\n    File \"C:\\Users\\shenyn96\\AppData\\Local\\Programs\\Python\\Python310\\lib\\site-packages\\keras\\engine\\training.py\", line 1160, in train_function  *\n        return step_function(self, iterator)\n    File \"C:\\Users\\shenyn96\\AppData\\Local\\Programs\\Python\\Python310\\lib\\site-packages\\keras\\engine\\training.py\", line 1146, in step_function  **\n        outputs = model.distribute_strategy.run(run_step, args=(data,))\n    File \"C:\\Users\\shenyn96\\AppData\\Local\\Programs\\Python\\Python310\\lib\\site-packages\\keras\\engine\\training.py\", line 1135, in run_step  **\n        outputs = model.train_step(data)\n    File \"C:\\Users\\shenyn96\\AppData\\Local\\Programs\\Python\\Python310\\lib\\site-packages\\keras\\engine\\training.py\", line 998, in train_step\n        return self.compute_metrics(x, y, y_pred, sample_weight)\n    File \"C:\\Users\\shenyn96\\AppData\\Local\\Programs\\Python\\Python310\\lib\\site-packages\\keras\\engine\\training.py\", line 1092, in compute_metrics\n        self.compiled_metrics.update_state(y, y_pred, sample_weight)\n    File \"C:\\Users\\shenyn96\\AppData\\Local\\Programs\\Python\\Python310\\lib\\site-packages\\keras\\engine\\compile_utils.py\", line 605, in update_state\n        metric_obj.update_state(y_t, y_p, sample_weight=mask)\n    File \"C:\\Users\\shenyn96\\AppData\\Local\\Programs\\Python\\Python310\\lib\\site-packages\\keras\\utils\\metrics_utils.py\", line 77, in decorated\n        update_op = update_state_fn(*args, **kwargs)\n    File \"C:\\Users\\shenyn96\\AppData\\Local\\Programs\\Python\\Python310\\lib\\site-packages\\keras\\metrics\\base_metric.py\", line 143, in update_state_fn\n        return ag_update_state(*args, **kwargs)\n    File \"C:\\Users\\shenyn96\\AppData\\Local\\Programs\\Python\\Python310\\lib\\site-packages\\keras\\metrics\\metrics.py\", line 906, in update_state  **\n        return metrics_utils.update_confusion_matrix_variables(\n    File \"C:\\Users\\shenyn96\\AppData\\Local\\Programs\\Python\\Python310\\lib\\site-packages\\keras\\utils\\metrics_utils.py\", line 674, in update_confusion_matrix_variables\n        y_pred.shape.assert_is_compatible_with(y_true.shape)\n\n    ValueError: Shapes (None, 10) and (None, 1) are incompatible\n"
     ]
    }
   ],
   "source": [
    "model.fit(X_train, y_train, epochs=1)"
   ]
  },
  {
   "cell_type": "code",
   "execution_count": 211,
   "id": "cfa8db32",
   "metadata": {
    "scrolled": true
   },
   "outputs": [
    {
     "name": "stdout",
     "output_type": "stream",
     "text": [
      "84/84 [==============================] - 231s 3s/step - loss: -962.6931 - accuracy: 0.0999 - precision: 0.9001 - recall: 1.0000\n"
     ]
    },
    {
     "data": {
      "text/plain": [
       "[-962.693115234375, 0.09992542862892151, 0.9000745415687561, 1.0]"
      ]
     },
     "execution_count": 211,
     "metadata": {},
     "output_type": "execute_result"
    }
   ],
   "source": [
    "model.evaluate(X_test, y_test)"
   ]
  },
  {
   "cell_type": "code",
   "execution_count": 213,
   "id": "0bf45dac",
   "metadata": {},
   "outputs": [
    {
     "name": "stdout",
     "output_type": "stream",
     "text": [
      "84/84 [==============================] - 228s 3s/step\n"
     ]
    }
   ],
   "source": [
    "y_pred_activity = model.predict(X_test)"
   ]
  },
  {
   "cell_type": "code",
   "execution_count": 214,
   "id": "5dda697d",
   "metadata": {},
   "outputs": [
    {
     "data": {
      "text/plain": [
       "Text(95.72222222222221, 0.5, 'Truth')"
      ]
     },
     "execution_count": 214,
     "metadata": {},
     "output_type": "execute_result"
    },
    {
     "data": {
      "image/png": "[encoded data removed]",
      "text/plain": [
       "<Figure size 1000x700 with 2 Axes>"
      ]
     },
     "metadata": {},
     "output_type": "display_data"
    }
   ],
   "source": [
    "cm = confusion_matrix(y_test, y_pred_activity)\n",
    "cm\n",
    "plt.figure(figsize = (10,7))\n",
    "sn.heatmap(cm, annot=True, fmt='d')\n",
    "plt.xlabel('Prediction')\n",
    "plt.ylabel('Truth')"
   ]
  }
 ],
 "metadata": {
  "kernelspec": {
   "display_name": "Python 3 (ipykernel)",
   "language": "python",
   "name": "python3"
  },
  "language_info": {
   "codemirror_mode": {
    "name": "ipython",
    "version": 3
   },
   "file_extension": ".py",
   "mimetype": "text/x-python",
   "name": "python",
   "nbconvert_exporter": "python",
   "pygments_lexer": "ipython3",
   "version": "3.10.7"
  }
 },
 "nbformat": 4,
 "nbformat_minor": 5
}
